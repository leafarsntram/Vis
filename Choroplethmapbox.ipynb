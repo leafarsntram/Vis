{
 "cells": [
  {
   "cell_type": "code",
   "execution_count": 4,
   "metadata": {},
   "outputs": [],
   "source": [
    "import plotly\n",
    "import numpy as np\n",
    "import json\n",
    "import plotly.graph_objs as go\n",
    "import urllib.request"
   ]
  },
  {
   "cell_type": "code",
   "execution_count": 21,
   "metadata": {},
   "outputs": [
    {
     "name": "stdout",
     "output_type": "stream",
     "text": [
      "dict_keys(['type', 'features'])\n"
     ]
    },
    {
     "data": {
      "text/plain": [
       "dict_keys(['type', 'geometry', 'properties'])"
      ]
     },
     "execution_count": 21,
     "metadata": {},
     "output_type": "execute_result"
    }
   ],
   "source": [
    "fr_url = 'https://raw.githubusercontent.com/gregoiredavid/france-geojson/master/regions.geojson'\n",
    "\n",
    "\n",
    "with urllib.request.urlopen(fr_url) as url:\n",
    "    jdata = json.loads(url.read().decode())\n",
    "    #print(jdata.keys())\n",
    "\n",
    "L = len(jdata['features'])\n",
    "\n",
    "#jdata['features'][0].keys()"
   ]
  },
  {
   "cell_type": "code",
   "execution_count": 8,
   "metadata": {},
   "outputs": [],
   "source": [
    "for k in range(L):\n",
    "    jdata['features'][k]['id'] = f'{k}'"
   ]
  },
  {
   "cell_type": "code",
   "execution_count": 25,
   "metadata": {},
   "outputs": [],
   "source": [
    "regions = []\n",
    "for feat   in jdata['features']:\n",
    "    regions.append(feat['properties']['nom'])\n",
    "#regions"
   ]
  },
  {
   "cell_type": "code",
   "execution_count": 10,
   "metadata": {},
   "outputs": [
    {
     "data": {
      "text/plain": [
       "'5'"
      ]
     },
     "execution_count": 10,
     "metadata": {},
     "output_type": "execute_result"
    }
   ],
   "source": [
    "k=5\n",
    "jdata['features'][k]['id']"
   ]
  },
  {
   "cell_type": "code",
   "execution_count": 14,
   "metadata": {},
   "outputs": [],
   "source": [
    "mapbox_accesstoken = 'pk.eyJ1IjoiZmFyYWVsc2FsZXMiLCJhIjoiY2s4d2QyazdqMGppNzNtc2Y4dDRxeXVyYiJ9.6DyUOdE9v0QEKO3tlsBP7Q'\n"
   ]
  },
  {
   "cell_type": "code",
   "execution_count": 15,
   "metadata": {},
   "outputs": [],
   "source": [
    "pl_deep=[[0.0, 'rgb(253, 253, 204)'],\n",
    "         [0.1, 'rgb(201, 235, 177)'],\n",
    "         [0.2, 'rgb(145, 216, 163)'],\n",
    "         [0.3, 'rgb(102, 194, 163)'],\n",
    "         [0.4, 'rgb(81, 168, 162)'],\n",
    "         [0.5, 'rgb(72, 141, 157)'],\n",
    "         [0.6, 'rgb(64, 117, 152)'],\n",
    "         [0.7, 'rgb(61, 90, 146)'],\n",
    "         [0.8, 'rgb(65, 64, 123)'],\n",
    "         [0.9, 'rgb(55, 44, 80)'],\n",
    "         [1.0, 'rgb(39, 26, 44)']]"
   ]
  },
  {
   "cell_type": "code",
   "execution_count": 17,
   "metadata": {},
   "outputs": [],
   "source": [
    "years = ['2004','2008','2012','2016']    \n",
    "data = []    \n",
    "    \n",
    "\n",
    "for q in years:\n",
    "    data.append( go.Choroplethmapbox(locations = [jdata['features'][k]['id'] for k in range(L)],\n",
    "                                     z = np.random.randint(13, 75,  size=L), #synthetic data\n",
    "                                     colorscale = pl_deep,\n",
    "                                     text =regions, \n",
    "                                     colorbar = dict(thickness=20, ticklen=3),\n",
    "                                     geojson = jdata,\n",
    "                                     marker_line_width=0, marker_opacity=0.7,\n",
    "                                     visible=False))\n",
    "       \n",
    "        \n",
    "\n",
    "data[0]['visible'] = True"
   ]
  },
  {
   "cell_type": "code",
   "execution_count": null,
   "metadata": {},
   "outputs": [],
   "source": [
    "layout = go.Layout(width = 700, height=700,\n",
    "                  mapbox = dict(center= dict(lat=46.22, lon= 2.213),\n",
    "                                accesstoken=mapbox_accesstoken,\n",
    "                                zoom=4.50))\n",
    "layout.update(updatemenus=list([\n",
    "        dict(\n",
    "            x=-0.05,\n",
    "            y=1,\n",
    "            yanchor='top',\n",
    "            buttons=list([\n",
    "                dict(\n",
    "                    args=['visible', [True, False, False, False]],\n",
    "                    label='Year: 2004',\n",
    "                    method='restyle'\n",
    "                ),\n",
    "                dict(\n",
    "                    args=['visible', [False, True, False, False]],\n",
    "                    label='Year: 2008',\n",
    "                    method='restyle'\n",
    "                ),\n",
    "                dict(\n",
    "                    args=['visible', [False, False, True, False]],\n",
    "                    label='Year: 2012',\n",
    "                    method='restyle'\n",
    "                ),\n",
    "                dict(\n",
    "                    args=['visible', [False, False, False, True]],\n",
    "                    label='Year: 2016',\n",
    "                    method='restyle'\n",
    "                )\n",
    "            ]),\n",
    "        )]))\n",
    "fig=go.Figure(data=data, layout =layout)\n",
    "fig.show()"
   ]
  },
  {
   "cell_type": "code",
   "execution_count": null,
   "metadata": {},
   "outputs": [],
   "source": [
    "#help (go.Choroplethmapbox)"
   ]
  }
 ],
 "metadata": {
  "kernelspec": {
   "display_name": "Python 3",
   "language": "python",
   "name": "python3"
  },
  "language_info": {
   "codemirror_mode": {
    "name": "ipython",
    "version": 3
   },
   "file_extension": ".py",
   "mimetype": "text/x-python",
   "name": "python",
   "nbconvert_exporter": "python",
   "pygments_lexer": "ipython3",
   "version": "3.7.4"
  }
 },
 "nbformat": 4,
 "nbformat_minor": 4
}
