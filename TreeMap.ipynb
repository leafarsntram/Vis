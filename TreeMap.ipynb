{
 "cells": [
  {
   "cell_type": "code",
   "execution_count": 2,
   "metadata": {},
   "outputs": [
    {
     "data": {
      "application/vnd.plotly.v1+json": {
       "config": {
        "plotlyServerURL": "https://plot.ly"
       },
       "data": [
        {
         "branchvalues": "total",
         "customdata": [
          [
           "AFG",
           19362969582.3643
          ],
          [
           "ALB",
           15102500898.238
          ],
          [
           "DZA",
           173757952824.25
          ],
          [
           "AGO",
           105750987618.63
          ],
          [
           "ARG",
           519871519807.795
          ],
          [
           "AUS",
           1433904348500.12
          ],
          [
           "AUT",
           455285818035.125
          ],
          [
           "BHR",
           37746196808.5106
          ],
          [
           "BGD",
           274024958965.892
          ],
          [
           "BEL",
           542761092103.469
          ],
          [
           "BEN",
           10354274634.9108
          ],
          [
           "BOL",
           40287647756.8741
          ],
          [
           "BIH",
           20161865419.4327
          ],
          [
           "BWA",
           18616018903.4434
          ],
          [
           "BRA",
           1868626087908.48
          ],
          [
           "BGR",
           65132951116.47561
          ],
          [
           "BFA",
           14124775068.568996
          ],
          [
           "BDI",
           3036931818.18182
          ],
          [
           "KHM",
           24542474061.2426
          ],
          [
           "CMR",
           38675205293.0462
          ],
          [
           "CAN",
           1713341704877.01
          ],
          [
           "CAF",
           2219894701.95124
          ],
          [
           "TCD",
           11273115239.4255
          ],
          [
           "CHL",
           298231133532.74896
          ],
          [
           "CHN",
           13608151864637.9
          ],
          [
           "COL",
           331047040087.878
          ],
          [
           "COM",
           1177955048.65299
          ],
          [
           "COD",
           47227535290.9218
          ],
          [
           "COG",
           11263682694.0393
          ],
          [
           "CRI",
           60130106115.629395
          ],
          [
           "CIV",
           43007047821.7541
          ],
          [
           "HRV",
           60971699315.177605
          ],
          [
           "CUB",
           100023000000
          ],
          [
           "CZE",
           245225882903.37
          ],
          [
           "DNK",
           355675329085.952
          ],
          [
           "DJI",
           2955912228.2241697
          ],
          [
           "DOM",
           85555390387.0355
          ],
          [
           "ECU",
           108398058000
          ],
          [
           "EGY",
           250894760351.232
          ],
          [
           "SLV",
           26057000000
          ],
          [
           "GNQ",
           13432377049.540201
          ],
          [
           "ERI",
           null
          ],
          [
           "ETH",
           84355604752.5299
          ],
          [
           "FIN",
           276743120515.764
          ],
          [
           "FRA",
           2777535239277.98
          ],
          [
           "GAB",
           16853589311.4139
          ],
          [
           "GMB",
           1632823198.95828
          ],
          [
           "DEU",
           3947620162502.96
          ],
          [
           "GHA",
           65556464048.1539
          ],
          [
           "GRC",
           218031844583.994
          ],
          [
           "GTM",
           78460447919.9915
          ],
          [
           "GIN",
           10907214993.5687
          ],
          [
           "GNB",
           1458156026.16376
          ],
          [
           "HTI",
           9658721168.86849
          ],
          [
           "HND",
           23969890430.7882
          ],
          [
           "HKG",
           362682018243.286
          ],
          [
           "HUN",
           157882912778.254
          ],
          [
           "ISL",
           25878475760.1131
          ],
          [
           "IND",
           2718732231257.57
          ],
          [
           "IDN",
           1042173300625.55
          ],
          [
           "IRN",
           null
          ],
          [
           "IRQ",
           224228010477.8889
          ],
          [
           "IRL",
           382487490532.479
          ],
          [
           "ISR",
           370587977153.58295
          ],
          [
           "ITA",
           2083864259622.65
          ],
          [
           "JAM",
           15713908816.146301
          ],
          [
           "JPN",
           4971323079771.87
          ],
          [
           "JOR",
           42231295774.6479
          ],
          [
           "KEN",
           87908262519.9164
          ],
          [
           "KOR",
           1619423701169.6296
          ],
          [
           "KOR",
           1619423701169.6296
          ],
          [
           "KWT",
           140645364238.411
          ],
          [
           "LBN",
           56639155555.5556
          ],
          [
           "LSO",
           2738786277.79392
          ],
          [
           "LBR",
           3264000000
          ],
          [
           "LBY",
           48364208571.4286
          ],
          [
           "MDG",
           13853432868.227
          ],
          [
           "MWI",
           7064971176.34408
          ],
          [
           "MYS",
           358581943446.259
          ],
          [
           "MLI",
           17163432832.0957
          ],
          [
           "MRT",
           5234817927.170871
          ],
          [
           "MUS",
           14220348672.733297
          ],
          [
           "MEX",
           1220699479845.98
          ],
          [
           "MNG",
           13066749138.3261
          ],
          [
           "MNE",
           5504166666.66667
          ],
          [
           "MAR",
           117921394402.361
          ],
          [
           "MOZ",
           14717223206.9
          ],
          [
           "MMR",
           71214803377.8284
          ],
          [
           "NAM",
           14521711633.953302
          ],
          [
           "NPL",
           29040398982.3466
          ],
          [
           "NLD",
           913658465709.1251
          ],
          [
           "NZL",
           204923917869.35498
          ],
          [
           "NIC",
           13117845416.6297
          ],
          [
           "NER",
           9290938457.2883
          ],
          [
           "NGA",
           397269616080.908
          ],
          [
           "NOR",
           434166615431.909
          ],
          [
           "OMN",
           79276723016.9051
          ],
          [
           "PAK",
           314588210501.063
          ],
          [
           "PAN",
           65055100000
          ],
          [
           "PRY",
           40496953779.071
          ],
          [
           "PER",
           222044970486.21686
          ],
          [
           "PHL",
           330910343610.956
          ],
          [
           "POL",
           585663814824.044
          ],
          [
           "PRT",
           240674524464.24
          ],
          [
           "PRI",
           101130900000
          ],
          [
           "ROU",
           239552516744.469
          ],
          [
           "RWA",
           9508715596.4368
          ],
          [
           "STP",
           422296762.322469
          ],
          [
           "SAU",
           786521831571.957
          ],
          [
           "SEN",
           24129599551.7869
          ],
          [
           "SRB",
           50597289146.7041
          ],
          [
           "SLE",
           4085114794.22324
          ],
          [
           "SGP",
           364156657769.87
          ],
          [
           "SVK",
           105904632155.755
          ],
          [
           "SVN",
           54007972106.46289
          ],
          [
           "SOM",
           4720727278.18833
          ],
          [
           "ZAF",
           368288939768.322
          ],
          [
           "ESP",
           1419041949909.82
          ],
          [
           "LKA",
           88900770857.6351
          ],
          [
           "SDN",
           40851536133.7642
          ],
          [
           "SWZ",
           4710618471.93167
          ],
          [
           "SWE",
           556086488936.559
          ],
          [
           "CHE",
           705140354166.312
          ],
          [
           "SYR",
           null
          ],
          [
           "TZA",
           58001200572.3965
          ],
          [
           "THA",
           504992757704.997
          ],
          [
           "TGO",
           5358722982.70893
          ],
          [
           "TTO",
           23808146747.7994
          ],
          [
           "TUN",
           39871132267.9361
          ],
          [
           "TUR",
           771350330455.267
          ],
          [
           "UGA",
           27461440192.354897
          ],
          [
           "GBR",
           2855296731521.96
          ],
          [
           "USA",
           20544343456936.5
          ],
          [
           "URY",
           59596885024.3487
          ],
          [
           "VEN",
           null
          ],
          [
           "VNM",
           245213686369.15692
          ],
          [
           "PSE",
           14615900000
          ],
          [
           "YEM",
           26914402223.782795
          ],
          [
           "ZMB",
           26720073435.9014
          ],
          [
           "ZWE",
           31000519447.175003
          ],
          [
           "(?)",
           null
          ],
          [
           "(?)",
           null
          ],
          [
           "(?)",
           null
          ],
          [
           "(?)",
           2024706310814.1514
          ],
          [
           "(?)",
           1271461711529.9558
          ],
          [
           "(?)",
           null
          ]
         ],
         "domain": {
          "x": [
           0,
           1
          ],
          "y": [
           0,
           1
          ]
         },
         "hovertemplate": "iso_alpha=%{customdata[0]}<br>2018=%{color}<br>labels=%{label}<br>2017=%{value}<br>parent=%{parent}<br>id=%{id}<extra></extra>",
         "ids": [
          "world/Asia/Afghanistan",
          "world/Europe/Albania",
          "world/Africa/Algeria",
          "world/Africa/Angola",
          "world/Americas/Argentina",
          "world/Oceania/Australia",
          "world/Europe/Austria",
          "world/Asia/Bahrain",
          "world/Asia/Bangladesh",
          "world/Europe/Belgium",
          "world/Africa/Benin",
          "world/Americas/Bolivia",
          "world/Europe/Bosnia and Herzegovina",
          "world/Africa/Botswana",
          "world/Americas/Brazil",
          "world/Europe/Bulgaria",
          "world/Africa/Burkina Faso",
          "world/Africa/Burundi",
          "world/Asia/Cambodia",
          "world/Africa/Cameroon",
          "world/Americas/Canada",
          "world/Africa/Central African Republic",
          "world/Africa/Chad",
          "world/Americas/Chile",
          "world/Asia/China",
          "world/Americas/Colombia",
          "world/Africa/Comoros",
          "world/Africa/Congo, Dem. Rep.",
          "world/Africa/Congo, Rep.",
          "world/Americas/Costa Rica",
          "world/Africa/Cote d'Ivoire",
          "world/Europe/Croatia",
          "world/Americas/Cuba",
          "world/Europe/Czech Republic",
          "world/Europe/Denmark",
          "world/Africa/Djibouti",
          "world/Americas/Dominican Republic",
          "world/Americas/Ecuador",
          "world/Africa/Egypt",
          "world/Americas/El Salvador",
          "world/Africa/Equatorial Guinea",
          "world/Africa/Eritrea",
          "world/Africa/Ethiopia",
          "world/Europe/Finland",
          "world/Europe/France",
          "world/Africa/Gabon",
          "world/Africa/Gambia",
          "world/Europe/Germany",
          "world/Africa/Ghana",
          "world/Europe/Greece",
          "world/Americas/Guatemala",
          "world/Africa/Guinea",
          "world/Africa/Guinea-Bissau",
          "world/Americas/Haiti",
          "world/Americas/Honduras",
          "world/Asia/Hong Kong, China",
          "world/Europe/Hungary",
          "world/Europe/Iceland",
          "world/Asia/India",
          "world/Asia/Indonesia",
          "world/Asia/Iran",
          "world/Asia/Iraq",
          "world/Europe/Ireland",
          "world/Asia/Israel",
          "world/Europe/Italy",
          "world/Americas/Jamaica",
          "world/Asia/Japan",
          "world/Asia/Jordan",
          "world/Africa/Kenya",
          "world/Asia/Korea, Dem. Rep.",
          "world/Asia/Korea, Rep.",
          "world/Asia/Kuwait",
          "world/Asia/Lebanon",
          "world/Africa/Lesotho",
          "world/Africa/Liberia",
          "world/Africa/Libya",
          "world/Africa/Madagascar",
          "world/Africa/Malawi",
          "world/Asia/Malaysia",
          "world/Africa/Mali",
          "world/Africa/Mauritania",
          "world/Africa/Mauritius",
          "world/Americas/Mexico",
          "world/Asia/Mongolia",
          "world/Europe/Montenegro",
          "world/Africa/Morocco",
          "world/Africa/Mozambique",
          "world/Asia/Myanmar",
          "world/Africa/Namibia",
          "world/Asia/Nepal",
          "world/Europe/Netherlands",
          "world/Oceania/New Zealand",
          "world/Americas/Nicaragua",
          "world/Africa/Niger",
          "world/Africa/Nigeria",
          "world/Europe/Norway",
          "world/Asia/Oman",
          "world/Asia/Pakistan",
          "world/Americas/Panama",
          "world/Americas/Paraguay",
          "world/Americas/Peru",
          "world/Asia/Philippines",
          "world/Europe/Poland",
          "world/Europe/Portugal",
          "world/Americas/Puerto Rico",
          "world/Europe/Romania",
          "world/Africa/Rwanda",
          "world/Africa/Sao Tome and Principe",
          "world/Asia/Saudi Arabia",
          "world/Africa/Senegal",
          "world/Europe/Serbia",
          "world/Africa/Sierra Leone",
          "world/Asia/Singapore",
          "world/Europe/Slovak Republic",
          "world/Europe/Slovenia",
          "world/Africa/Somalia",
          "world/Africa/South Africa",
          "world/Europe/Spain",
          "world/Asia/Sri Lanka",
          "world/Africa/Sudan",
          "world/Africa/Swaziland",
          "world/Europe/Sweden",
          "world/Europe/Switzerland",
          "world/Asia/Syria",
          "world/Africa/Tanzania",
          "world/Asia/Thailand",
          "world/Africa/Togo",
          "world/Americas/Trinidad and Tobago",
          "world/Africa/Tunisia",
          "world/Europe/Turkey",
          "world/Africa/Uganda",
          "world/Europe/United Kingdom",
          "world/Americas/United States",
          "world/Americas/Uruguay",
          "world/Americas/Venezuela",
          "world/Asia/Vietnam",
          "world/Asia/West Bank and Gaza",
          "world/Asia/Yemen, Rep.",
          "world/Africa/Zambia",
          "world/Africa/Zimbabwe",
          "world/Africa",
          "world/Americas",
          "world/Asia",
          "world/Europe",
          "world/Oceania",
          "world"
         ],
         "labels": [
          "Afghanistan",
          "Albania",
          "Algeria",
          "Angola",
          "Argentina",
          "Australia",
          "Austria",
          "Bahrain",
          "Bangladesh",
          "Belgium",
          "Benin",
          "Bolivia",
          "Bosnia and Herzegovina",
          "Botswana",
          "Brazil",
          "Bulgaria",
          "Burkina Faso",
          "Burundi",
          "Cambodia",
          "Cameroon",
          "Canada",
          "Central African Republic",
          "Chad",
          "Chile",
          "China",
          "Colombia",
          "Comoros",
          "Congo, Dem. Rep.",
          "Congo, Rep.",
          "Costa Rica",
          "Cote d'Ivoire",
          "Croatia",
          "Cuba",
          "Czech Republic",
          "Denmark",
          "Djibouti",
          "Dominican Republic",
          "Ecuador",
          "Egypt",
          "El Salvador",
          "Equatorial Guinea",
          "Eritrea",
          "Ethiopia",
          "Finland",
          "France",
          "Gabon",
          "Gambia",
          "Germany",
          "Ghana",
          "Greece",
          "Guatemala",
          "Guinea",
          "Guinea-Bissau",
          "Haiti",
          "Honduras",
          "Hong Kong, China",
          "Hungary",
          "Iceland",
          "India",
          "Indonesia",
          "Iran",
          "Iraq",
          "Ireland",
          "Israel",
          "Italy",
          "Jamaica",
          "Japan",
          "Jordan",
          "Kenya",
          "Korea, Dem. Rep.",
          "Korea, Rep.",
          "Kuwait",
          "Lebanon",
          "Lesotho",
          "Liberia",
          "Libya",
          "Madagascar",
          "Malawi",
          "Malaysia",
          "Mali",
          "Mauritania",
          "Mauritius",
          "Mexico",
          "Mongolia",
          "Montenegro",
          "Morocco",
          "Mozambique",
          "Myanmar",
          "Namibia",
          "Nepal",
          "Netherlands",
          "New Zealand",
          "Nicaragua",
          "Niger",
          "Nigeria",
          "Norway",
          "Oman",
          "Pakistan",
          "Panama",
          "Paraguay",
          "Peru",
          "Philippines",
          "Poland",
          "Portugal",
          "Puerto Rico",
          "Romania",
          "Rwanda",
          "Sao Tome and Principe",
          "Saudi Arabia",
          "Senegal",
          "Serbia",
          "Sierra Leone",
          "Singapore",
          "Slovak Republic",
          "Slovenia",
          "Somalia",
          "South Africa",
          "Spain",
          "Sri Lanka",
          "Sudan",
          "Swaziland",
          "Sweden",
          "Switzerland",
          "Syria",
          "Tanzania",
          "Thailand",
          "Togo",
          "Trinidad and Tobago",
          "Tunisia",
          "Turkey",
          "Uganda",
          "United Kingdom",
          "United States",
          "Uruguay",
          "Venezuela",
          "Vietnam",
          "West Bank and Gaza",
          "Yemen, Rep.",
          "Zambia",
          "Zimbabwe",
          "Africa",
          "Americas",
          "Asia",
          "Europe",
          "Oceania",
          "world"
         ],
         "marker": {
          "coloraxis": "coloraxis",
          "colors": [
           19362969582.3643,
           15102500898.238,
           173757952824.25,
           105750987618.63,
           519871519807.795,
           1433904348500.12,
           455285818035.125,
           37746196808.5106,
           274024958965.892,
           542761092103.469,
           10354274634.9108,
           40287647756.8741,
           20161865419.4327,
           18616018903.4434,
           1868626087908.48,
           65132951116.47561,
           14124775068.568996,
           3036931818.18182,
           24542474061.2426,
           38675205293.0462,
           1713341704877.01,
           2219894701.95124,
           11273115239.4255,
           298231133532.74896,
           13608151864637.9,
           331047040087.878,
           1177955048.65299,
           47227535290.9218,
           11263682694.0393,
           60130106115.629395,
           43007047821.7541,
           60971699315.177605,
           100023000000,
           245225882903.37,
           355675329085.952,
           2955912228.2241697,
           85555390387.0355,
           108398058000,
           250894760351.232,
           26057000000,
           13432377049.540201,
           null,
           84355604752.5299,
           276743120515.764,
           2777535239277.98,
           16853589311.4139,
           1632823198.95828,
           3947620162502.96,
           65556464048.1539,
           218031844583.994,
           78460447919.9915,
           10907214993.5687,
           1458156026.16376,
           9658721168.86849,
           23969890430.7882,
           362682018243.286,
           157882912778.254,
           25878475760.1131,
           2718732231257.57,
           1042173300625.55,
           null,
           224228010477.8889,
           382487490532.479,
           370587977153.58295,
           2083864259622.65,
           15713908816.146301,
           4971323079771.87,
           42231295774.6479,
           87908262519.9164,
           1619423701169.6296,
           1619423701169.6296,
           140645364238.411,
           56639155555.5556,
           2738786277.79392,
           3264000000,
           48364208571.4286,
           13853432868.227,
           7064971176.34408,
           358581943446.259,
           17163432832.0957,
           5234817927.170871,
           14220348672.733297,
           1220699479845.98,
           13066749138.3261,
           5504166666.66667,
           117921394402.361,
           14717223206.9,
           71214803377.8284,
           14521711633.953302,
           29040398982.3466,
           913658465709.1251,
           204923917869.35498,
           13117845416.6297,
           9290938457.2883,
           397269616080.908,
           434166615431.909,
           79276723016.9051,
           314588210501.063,
           65055100000,
           40496953779.071,
           222044970486.21686,
           330910343610.956,
           585663814824.044,
           240674524464.24,
           101130900000,
           239552516744.469,
           9508715596.4368,
           422296762.322469,
           786521831571.957,
           24129599551.7869,
           50597289146.7041,
           4085114794.22324,
           364156657769.87,
           105904632155.755,
           54007972106.46289,
           4720727278.18833,
           368288939768.322,
           1419041949909.82,
           88900770857.6351,
           40851536133.7642,
           4710618471.93167,
           556086488936.559,
           705140354166.312,
           null,
           58001200572.3965,
           504992757704.997,
           5358722982.70893,
           23808146747.7994,
           39871132267.9361,
           771350330455.267,
           27461440192.354897,
           2855296731521.96,
           20544343456936.5,
           59596885024.3487,
           null,
           245213686369.15692,
           14615900000,
           26914402223.782795,
           26720073435.9014,
           31000519447.175003,
           null,
           null,
           null,
           2024706310814.1514,
           1271461711529.9558,
           null
          ]
         },
         "name": "",
         "parents": [
          "world/Asia",
          "world/Europe",
          "world/Africa",
          "world/Africa",
          "world/Americas",
          "world/Oceania",
          "world/Europe",
          "world/Asia",
          "world/Asia",
          "world/Europe",
          "world/Africa",
          "world/Americas",
          "world/Europe",
          "world/Africa",
          "world/Americas",
          "world/Europe",
          "world/Africa",
          "world/Africa",
          "world/Asia",
          "world/Africa",
          "world/Americas",
          "world/Africa",
          "world/Africa",
          "world/Americas",
          "world/Asia",
          "world/Americas",
          "world/Africa",
          "world/Africa",
          "world/Africa",
          "world/Americas",
          "world/Africa",
          "world/Europe",
          "world/Americas",
          "world/Europe",
          "world/Europe",
          "world/Africa",
          "world/Americas",
          "world/Americas",
          "world/Africa",
          "world/Americas",
          "world/Africa",
          "world/Africa",
          "world/Africa",
          "world/Europe",
          "world/Europe",
          "world/Africa",
          "world/Africa",
          "world/Europe",
          "world/Africa",
          "world/Europe",
          "world/Americas",
          "world/Africa",
          "world/Africa",
          "world/Americas",
          "world/Americas",
          "world/Asia",
          "world/Europe",
          "world/Europe",
          "world/Asia",
          "world/Asia",
          "world/Asia",
          "world/Asia",
          "world/Europe",
          "world/Asia",
          "world/Europe",
          "world/Americas",
          "world/Asia",
          "world/Asia",
          "world/Africa",
          "world/Asia",
          "world/Asia",
          "world/Asia",
          "world/Asia",
          "world/Africa",
          "world/Africa",
          "world/Africa",
          "world/Africa",
          "world/Africa",
          "world/Asia",
          "world/Africa",
          "world/Africa",
          "world/Africa",
          "world/Americas",
          "world/Asia",
          "world/Europe",
          "world/Africa",
          "world/Africa",
          "world/Asia",
          "world/Africa",
          "world/Asia",
          "world/Europe",
          "world/Oceania",
          "world/Americas",
          "world/Africa",
          "world/Africa",
          "world/Europe",
          "world/Asia",
          "world/Asia",
          "world/Americas",
          "world/Americas",
          "world/Americas",
          "world/Asia",
          "world/Europe",
          "world/Europe",
          "world/Americas",
          "world/Europe",
          "world/Africa",
          "world/Africa",
          "world/Asia",
          "world/Africa",
          "world/Europe",
          "world/Africa",
          "world/Asia",
          "world/Europe",
          "world/Europe",
          "world/Africa",
          "world/Africa",
          "world/Europe",
          "world/Asia",
          "world/Africa",
          "world/Africa",
          "world/Europe",
          "world/Europe",
          "world/Asia",
          "world/Africa",
          "world/Asia",
          "world/Africa",
          "world/Americas",
          "world/Africa",
          "world/Europe",
          "world/Africa",
          "world/Europe",
          "world/Americas",
          "world/Americas",
          "world/Americas",
          "world/Asia",
          "world/Asia",
          "world/Asia",
          "world/Africa",
          "world/Africa",
          "world",
          "world",
          "world",
          "world",
          "world",
          ""
         ],
         "type": "treemap",
         "values": [
          20191764940.1602,
          13025064966.5784,
          167390266100.763,
          122123822333.591,
          642695864756.35,
          1330135756844.41,
          417282900758.04297,
          35432686170.2128,
          249723862487.36105,
          503004504395.429,
          9269594834.77931,
          37508642257.5977,
          18080118128.3854,
          17405538618.3969,
          2053594973992.61,
          58220973782.7715,
          12330338343.2865,
          3172292379.36329,
          22180376505.7284,
          34922782310.6416,
          1646867220617.47,
          2067230996.47377,
          9975692095.40855,
          277746461078.319,
          12143491448186.1,
          311789874617.096,
          1074778460.9556,
          38019265625.8845,
          8701334800.219759,
          58174549218.3352,
          38053606750.5179,
          55319620157.6135,
          96851000000,
          215913545038.43,
          329417067127.81604,
          2766868072.24848,
          79998045976.4898,
          104295862000,
          235369129337.71106,
          24928000000,
          12289913729.3358,
          0,
          81760441158.7556,
          254435041879.238,
          2586285406561.51,
          14892609693.1667,
          1504954957.89304,
          3656749414477.08,
          58996776237.7603,
          203085551429.132,
          75620081928.17,
          10324668266.5921,
          1346841897.00437,
          8409497402.4589,
          23100748921.7485,
          341687111841.092,
          141510583019.556,
          24489493459.0074,
          2652242857923.91,
          1015423455783.28,
          454012768723.589,
          195473049875.108,
          334834010485.56,
          353253406954.97,
          1956960611690.59,
          14806340821.0871,
          4859950558538.97,
          40708943661.9718,
          78757391333.0219,
          1530750923148.7,
          1530750923148.7,
          120707550280.251,
          53393799668.325,
          2565352373.26551,
          3285455000,
          37881431912.7565,
          13176313593.5509,
          6303292264.18905,
          318958236443.122,
          15337740140.8637,
          4905893854.7486,
          13259351418.4459,
          1157736189998.15,
          11425755279.5395,
          4844592066.71174,
          109714300453.983,
          13219084261.3664,
          66719084253.4803,
          13566192144.4614,
          25180583769.9244,
          831809944960.879,
          202590814084.99106,
          13843612004.9649,
          8119710126.32655,
          375745486520.715,
          398393955268.99,
          70597919375.8127,
          304567253219.097,
          62283800000,
          39008900331.6733,
          211007207483.515,
          313619747740.18604,
          526216495118.144,
          220811110492.149,
          104250200000,
          211695422578.655,
          9140429057.8874,
          375040173.816889,
          688586133333.333,
          21081669869.9833,
          44120424391.86,
          3739577973.2394295,
          338406474038.67,
          95241436351.7628,
          48441722815.6069,
          4508845348.32757,
          349554116683.818,
          1309309642308.24,
          88019706803.834,
          123053386001.137,
          4446248678.17126,
          540545236387.733,
          679950915261.1221,
          0,
          53320625958.5628,
          455275517239.3471,
          4808043652.61932,
          22474828527.1775,
          39813383483.5083,
          852676778300.885,
          25995031850.1545,
          2666229179958.01,
          19485393853000,
          56488991831.0239,
          0,
          223779865815.183,
          14498100000,
          26818703092.5852,
          25868142076.7897,
          22813010116.1292,
          2268113293322.5884,
          26608874746764.234,
          28565828568242.547,
          19198900763617.49,
          1532726570929.401,
          78174443942876.33
         ]
        }
       ],
       "layout": {
        "coloraxis": {
         "colorbar": {
          "title": {
           "text": "2018"
          }
         },
         "colorscale": [
          [
           0,
           "rgb(103,0,31)"
          ],
          [
           0.1,
           "rgb(178,24,43)"
          ],
          [
           0.2,
           "rgb(214,96,77)"
          ],
          [
           0.3,
           "rgb(244,165,130)"
          ],
          [
           0.4,
           "rgb(253,219,199)"
          ],
          [
           0.5,
           "rgb(247,247,247)"
          ],
          [
           0.6,
           "rgb(209,229,240)"
          ],
          [
           0.7,
           "rgb(146,197,222)"
          ],
          [
           0.8,
           "rgb(67,147,195)"
          ],
          [
           0.9,
           "rgb(33,102,172)"
          ],
          [
           1,
           "rgb(5,48,97)"
          ]
         ]
        },
        "legend": {
         "tracegroupgap": 0
        },
        "template": {
         "data": {
          "bar": [
           {
            "error_x": {
             "color": "#2a3f5f"
            },
            "error_y": {
             "color": "#2a3f5f"
            },
            "marker": {
             "line": {
              "color": "#E5ECF6",
              "width": 0.5
             }
            },
            "type": "bar"
           }
          ],
          "barpolar": [
           {
            "marker": {
             "line": {
              "color": "#E5ECF6",
              "width": 0.5
             }
            },
            "type": "barpolar"
           }
          ],
          "carpet": [
           {
            "aaxis": {
             "endlinecolor": "#2a3f5f",
             "gridcolor": "white",
             "linecolor": "white",
             "minorgridcolor": "white",
             "startlinecolor": "#2a3f5f"
            },
            "baxis": {
             "endlinecolor": "#2a3f5f",
             "gridcolor": "white",
             "linecolor": "white",
             "minorgridcolor": "white",
             "startlinecolor": "#2a3f5f"
            },
            "type": "carpet"
           }
          ],
          "choropleth": [
           {
            "colorbar": {
             "outlinewidth": 0,
             "ticks": ""
            },
            "type": "choropleth"
           }
          ],
          "contour": [
           {
            "colorbar": {
             "outlinewidth": 0,
             "ticks": ""
            },
            "colorscale": [
             [
              0,
              "#0d0887"
             ],
             [
              0.1111111111111111,
              "#46039f"
             ],
             [
              0.2222222222222222,
              "#7201a8"
             ],
             [
              0.3333333333333333,
              "#9c179e"
             ],
             [
              0.4444444444444444,
              "#bd3786"
             ],
             [
              0.5555555555555556,
              "#d8576b"
             ],
             [
              0.6666666666666666,
              "#ed7953"
             ],
             [
              0.7777777777777778,
              "#fb9f3a"
             ],
             [
              0.8888888888888888,
              "#fdca26"
             ],
             [
              1,
              "#f0f921"
             ]
            ],
            "type": "contour"
           }
          ],
          "contourcarpet": [
           {
            "colorbar": {
             "outlinewidth": 0,
             "ticks": ""
            },
            "type": "contourcarpet"
           }
          ],
          "heatmap": [
           {
            "colorbar": {
             "outlinewidth": 0,
             "ticks": ""
            },
            "colorscale": [
             [
              0,
              "#0d0887"
             ],
             [
              0.1111111111111111,
              "#46039f"
             ],
             [
              0.2222222222222222,
              "#7201a8"
             ],
             [
              0.3333333333333333,
              "#9c179e"
             ],
             [
              0.4444444444444444,
              "#bd3786"
             ],
             [
              0.5555555555555556,
              "#d8576b"
             ],
             [
              0.6666666666666666,
              "#ed7953"
             ],
             [
              0.7777777777777778,
              "#fb9f3a"
             ],
             [
              0.8888888888888888,
              "#fdca26"
             ],
             [
              1,
              "#f0f921"
             ]
            ],
            "type": "heatmap"
           }
          ],
          "heatmapgl": [
           {
            "colorbar": {
             "outlinewidth": 0,
             "ticks": ""
            },
            "colorscale": [
             [
              0,
              "#0d0887"
             ],
             [
              0.1111111111111111,
              "#46039f"
             ],
             [
              0.2222222222222222,
              "#7201a8"
             ],
             [
              0.3333333333333333,
              "#9c179e"
             ],
             [
              0.4444444444444444,
              "#bd3786"
             ],
             [
              0.5555555555555556,
              "#d8576b"
             ],
             [
              0.6666666666666666,
              "#ed7953"
             ],
             [
              0.7777777777777778,
              "#fb9f3a"
             ],
             [
              0.8888888888888888,
              "#fdca26"
             ],
             [
              1,
              "#f0f921"
             ]
            ],
            "type": "heatmapgl"
           }
          ],
          "histogram": [
           {
            "marker": {
             "colorbar": {
              "outlinewidth": 0,
              "ticks": ""
             }
            },
            "type": "histogram"
           }
          ],
          "histogram2d": [
           {
            "colorbar": {
             "outlinewidth": 0,
             "ticks": ""
            },
            "colorscale": [
             [
              0,
              "#0d0887"
             ],
             [
              0.1111111111111111,
              "#46039f"
             ],
             [
              0.2222222222222222,
              "#7201a8"
             ],
             [
              0.3333333333333333,
              "#9c179e"
             ],
             [
              0.4444444444444444,
              "#bd3786"
             ],
             [
              0.5555555555555556,
              "#d8576b"
             ],
             [
              0.6666666666666666,
              "#ed7953"
             ],
             [
              0.7777777777777778,
              "#fb9f3a"
             ],
             [
              0.8888888888888888,
              "#fdca26"
             ],
             [
              1,
              "#f0f921"
             ]
            ],
            "type": "histogram2d"
           }
          ],
          "histogram2dcontour": [
           {
            "colorbar": {
             "outlinewidth": 0,
             "ticks": ""
            },
            "colorscale": [
             [
              0,
              "#0d0887"
             ],
             [
              0.1111111111111111,
              "#46039f"
             ],
             [
              0.2222222222222222,
              "#7201a8"
             ],
             [
              0.3333333333333333,
              "#9c179e"
             ],
             [
              0.4444444444444444,
              "#bd3786"
             ],
             [
              0.5555555555555556,
              "#d8576b"
             ],
             [
              0.6666666666666666,
              "#ed7953"
             ],
             [
              0.7777777777777778,
              "#fb9f3a"
             ],
             [
              0.8888888888888888,
              "#fdca26"
             ],
             [
              1,
              "#f0f921"
             ]
            ],
            "type": "histogram2dcontour"
           }
          ],
          "mesh3d": [
           {
            "colorbar": {
             "outlinewidth": 0,
             "ticks": ""
            },
            "type": "mesh3d"
           }
          ],
          "parcoords": [
           {
            "line": {
             "colorbar": {
              "outlinewidth": 0,
              "ticks": ""
             }
            },
            "type": "parcoords"
           }
          ],
          "pie": [
           {
            "automargin": true,
            "type": "pie"
           }
          ],
          "scatter": [
           {
            "marker": {
             "colorbar": {
              "outlinewidth": 0,
              "ticks": ""
             }
            },
            "type": "scatter"
           }
          ],
          "scatter3d": [
           {
            "line": {
             "colorbar": {
              "outlinewidth": 0,
              "ticks": ""
             }
            },
            "marker": {
             "colorbar": {
              "outlinewidth": 0,
              "ticks": ""
             }
            },
            "type": "scatter3d"
           }
          ],
          "scattercarpet": [
           {
            "marker": {
             "colorbar": {
              "outlinewidth": 0,
              "ticks": ""
             }
            },
            "type": "scattercarpet"
           }
          ],
          "scattergeo": [
           {
            "marker": {
             "colorbar": {
              "outlinewidth": 0,
              "ticks": ""
             }
            },
            "type": "scattergeo"
           }
          ],
          "scattergl": [
           {
            "marker": {
             "colorbar": {
              "outlinewidth": 0,
              "ticks": ""
             }
            },
            "type": "scattergl"
           }
          ],
          "scattermapbox": [
           {
            "marker": {
             "colorbar": {
              "outlinewidth": 0,
              "ticks": ""
             }
            },
            "type": "scattermapbox"
           }
          ],
          "scatterpolar": [
           {
            "marker": {
             "colorbar": {
              "outlinewidth": 0,
              "ticks": ""
             }
            },
            "type": "scatterpolar"
           }
          ],
          "scatterpolargl": [
           {
            "marker": {
             "colorbar": {
              "outlinewidth": 0,
              "ticks": ""
             }
            },
            "type": "scatterpolargl"
           }
          ],
          "scatterternary": [
           {
            "marker": {
             "colorbar": {
              "outlinewidth": 0,
              "ticks": ""
             }
            },
            "type": "scatterternary"
           }
          ],
          "surface": [
           {
            "colorbar": {
             "outlinewidth": 0,
             "ticks": ""
            },
            "colorscale": [
             [
              0,
              "#0d0887"
             ],
             [
              0.1111111111111111,
              "#46039f"
             ],
             [
              0.2222222222222222,
              "#7201a8"
             ],
             [
              0.3333333333333333,
              "#9c179e"
             ],
             [
              0.4444444444444444,
              "#bd3786"
             ],
             [
              0.5555555555555556,
              "#d8576b"
             ],
             [
              0.6666666666666666,
              "#ed7953"
             ],
             [
              0.7777777777777778,
              "#fb9f3a"
             ],
             [
              0.8888888888888888,
              "#fdca26"
             ],
             [
              1,
              "#f0f921"
             ]
            ],
            "type": "surface"
           }
          ],
          "table": [
           {
            "cells": {
             "fill": {
              "color": "#EBF0F8"
             },
             "line": {
              "color": "white"
             }
            },
            "header": {
             "fill": {
              "color": "#C8D4E3"
             },
             "line": {
              "color": "white"
             }
            },
            "type": "table"
           }
          ]
         },
         "layout": {
          "annotationdefaults": {
           "arrowcolor": "#2a3f5f",
           "arrowhead": 0,
           "arrowwidth": 1
          },
          "coloraxis": {
           "colorbar": {
            "outlinewidth": 0,
            "ticks": ""
           }
          },
          "colorscale": {
           "diverging": [
            [
             0,
             "#8e0152"
            ],
            [
             0.1,
             "#c51b7d"
            ],
            [
             0.2,
             "#de77ae"
            ],
            [
             0.3,
             "#f1b6da"
            ],
            [
             0.4,
             "#fde0ef"
            ],
            [
             0.5,
             "#f7f7f7"
            ],
            [
             0.6,
             "#e6f5d0"
            ],
            [
             0.7,
             "#b8e186"
            ],
            [
             0.8,
             "#7fbc41"
            ],
            [
             0.9,
             "#4d9221"
            ],
            [
             1,
             "#276419"
            ]
           ],
           "sequential": [
            [
             0,
             "#0d0887"
            ],
            [
             0.1111111111111111,
             "#46039f"
            ],
            [
             0.2222222222222222,
             "#7201a8"
            ],
            [
             0.3333333333333333,
             "#9c179e"
            ],
            [
             0.4444444444444444,
             "#bd3786"
            ],
            [
             0.5555555555555556,
             "#d8576b"
            ],
            [
             0.6666666666666666,
             "#ed7953"
            ],
            [
             0.7777777777777778,
             "#fb9f3a"
            ],
            [
             0.8888888888888888,
             "#fdca26"
            ],
            [
             1,
             "#f0f921"
            ]
           ],
           "sequentialminus": [
            [
             0,
             "#0d0887"
            ],
            [
             0.1111111111111111,
             "#46039f"
            ],
            [
             0.2222222222222222,
             "#7201a8"
            ],
            [
             0.3333333333333333,
             "#9c179e"
            ],
            [
             0.4444444444444444,
             "#bd3786"
            ],
            [
             0.5555555555555556,
             "#d8576b"
            ],
            [
             0.6666666666666666,
             "#ed7953"
            ],
            [
             0.7777777777777778,
             "#fb9f3a"
            ],
            [
             0.8888888888888888,
             "#fdca26"
            ],
            [
             1,
             "#f0f921"
            ]
           ]
          },
          "colorway": [
           "#636efa",
           "#EF553B",
           "#00cc96",
           "#ab63fa",
           "#FFA15A",
           "#19d3f3",
           "#FF6692",
           "#B6E880",
           "#FF97FF",
           "#FECB52"
          ],
          "font": {
           "color": "#2a3f5f"
          },
          "geo": {
           "bgcolor": "white",
           "lakecolor": "white",
           "landcolor": "#E5ECF6",
           "showlakes": true,
           "showland": true,
           "subunitcolor": "white"
          },
          "hoverlabel": {
           "align": "left"
          },
          "hovermode": "closest",
          "mapbox": {
           "style": "light"
          },
          "paper_bgcolor": "white",
          "plot_bgcolor": "#E5ECF6",
          "polar": {
           "angularaxis": {
            "gridcolor": "white",
            "linecolor": "white",
            "ticks": ""
           },
           "bgcolor": "#E5ECF6",
           "radialaxis": {
            "gridcolor": "white",
            "linecolor": "white",
            "ticks": ""
           }
          },
          "scene": {
           "xaxis": {
            "backgroundcolor": "#E5ECF6",
            "gridcolor": "white",
            "gridwidth": 2,
            "linecolor": "white",
            "showbackground": true,
            "ticks": "",
            "zerolinecolor": "white"
           },
           "yaxis": {
            "backgroundcolor": "#E5ECF6",
            "gridcolor": "white",
            "gridwidth": 2,
            "linecolor": "white",
            "showbackground": true,
            "ticks": "",
            "zerolinecolor": "white"
           },
           "zaxis": {
            "backgroundcolor": "#E5ECF6",
            "gridcolor": "white",
            "gridwidth": 2,
            "linecolor": "white",
            "showbackground": true,
            "ticks": "",
            "zerolinecolor": "white"
           }
          },
          "shapedefaults": {
           "line": {
            "color": "#2a3f5f"
           }
          },
          "ternary": {
           "aaxis": {
            "gridcolor": "white",
            "linecolor": "white",
            "ticks": ""
           },
           "baxis": {
            "gridcolor": "white",
            "linecolor": "white",
            "ticks": ""
           },
           "bgcolor": "#E5ECF6",
           "caxis": {
            "gridcolor": "white",
            "linecolor": "white",
            "ticks": ""
           }
          },
          "title": {
           "x": 0.05
          },
          "xaxis": {
           "automargin": true,
           "gridcolor": "white",
           "linecolor": "white",
           "ticks": "",
           "title": {
            "standoff": 15
           },
           "zerolinecolor": "white",
           "zerolinewidth": 2
          },
          "yaxis": {
           "automargin": true,
           "gridcolor": "white",
           "linecolor": "white",
           "ticks": "",
           "title": {
            "standoff": 15
           },
           "zerolinecolor": "white",
           "zerolinewidth": 2
          }
         }
        },
        "title": {
         "text": "PIB Mundial Por Continente e País em 2017 (em USD)"
        }
       }
      },
      "text/html": [
       "<div>\n",
       "        \n",
       "        \n",
       "            <div id=\"22552310-e791-4314-9550-ddd8d599c189\" class=\"plotly-graph-div\" style=\"height:525px; width:100%;\"></div>\n",
       "            <script type=\"text/javascript\">\n",
       "                require([\"plotly\"], function(Plotly) {\n",
       "                    window.PLOTLYENV=window.PLOTLYENV || {};\n",
       "                    \n",
       "                if (document.getElementById(\"22552310-e791-4314-9550-ddd8d599c189\")) {\n",
       "                    Plotly.newPlot(\n",
       "                        '22552310-e791-4314-9550-ddd8d599c189',\n",
       "                        [{\"branchvalues\": \"total\", \"customdata\": [[\"AFG\", 19362969582.3643], [\"ALB\", 15102500898.238], [\"DZA\", 173757952824.25], [\"AGO\", 105750987618.63], [\"ARG\", 519871519807.795], [\"AUS\", 1433904348500.12], [\"AUT\", 455285818035.125], [\"BHR\", 37746196808.5106], [\"BGD\", 274024958965.892], [\"BEL\", 542761092103.469], [\"BEN\", 10354274634.9108], [\"BOL\", 40287647756.8741], [\"BIH\", 20161865419.4327], [\"BWA\", 18616018903.4434], [\"BRA\", 1868626087908.48], [\"BGR\", 65132951116.47561], [\"BFA\", 14124775068.568996], [\"BDI\", 3036931818.18182], [\"KHM\", 24542474061.2426], [\"CMR\", 38675205293.0462], [\"CAN\", 1713341704877.01], [\"CAF\", 2219894701.95124], [\"TCD\", 11273115239.4255], [\"CHL\", 298231133532.74896], [\"CHN\", 13608151864637.9], [\"COL\", 331047040087.878], [\"COM\", 1177955048.65299], [\"COD\", 47227535290.9218], [\"COG\", 11263682694.0393], [\"CRI\", 60130106115.629395], [\"CIV\", 43007047821.7541], [\"HRV\", 60971699315.177605], [\"CUB\", 100023000000.0], [\"CZE\", 245225882903.37], [\"DNK\", 355675329085.952], [\"DJI\", 2955912228.2241697], [\"DOM\", 85555390387.0355], [\"ECU\", 108398058000.0], [\"EGY\", 250894760351.232], [\"SLV\", 26057000000.0], [\"GNQ\", 13432377049.540201], [\"ERI\", null], [\"ETH\", 84355604752.5299], [\"FIN\", 276743120515.764], [\"FRA\", 2777535239277.98], [\"GAB\", 16853589311.4139], [\"GMB\", 1632823198.95828], [\"DEU\", 3947620162502.96], [\"GHA\", 65556464048.1539], [\"GRC\", 218031844583.994], [\"GTM\", 78460447919.9915], [\"GIN\", 10907214993.5687], [\"GNB\", 1458156026.16376], [\"HTI\", 9658721168.86849], [\"HND\", 23969890430.7882], [\"HKG\", 362682018243.286], [\"HUN\", 157882912778.254], [\"ISL\", 25878475760.1131], [\"IND\", 2718732231257.57], [\"IDN\", 1042173300625.55], [\"IRN\", null], [\"IRQ\", 224228010477.8889], [\"IRL\", 382487490532.479], [\"ISR\", 370587977153.58295], [\"ITA\", 2083864259622.65], [\"JAM\", 15713908816.146301], [\"JPN\", 4971323079771.87], [\"JOR\", 42231295774.6479], [\"KEN\", 87908262519.9164], [\"KOR\", 1619423701169.6296], [\"KOR\", 1619423701169.6296], [\"KWT\", 140645364238.411], [\"LBN\", 56639155555.5556], [\"LSO\", 2738786277.79392], [\"LBR\", 3264000000.0], [\"LBY\", 48364208571.4286], [\"MDG\", 13853432868.227], [\"MWI\", 7064971176.34408], [\"MYS\", 358581943446.259], [\"MLI\", 17163432832.0957], [\"MRT\", 5234817927.170871], [\"MUS\", 14220348672.733297], [\"MEX\", 1220699479845.98], [\"MNG\", 13066749138.3261], [\"MNE\", 5504166666.66667], [\"MAR\", 117921394402.361], [\"MOZ\", 14717223206.9], [\"MMR\", 71214803377.8284], [\"NAM\", 14521711633.953302], [\"NPL\", 29040398982.3466], [\"NLD\", 913658465709.1251], [\"NZL\", 204923917869.35498], [\"NIC\", 13117845416.6297], [\"NER\", 9290938457.2883], [\"NGA\", 397269616080.908], [\"NOR\", 434166615431.909], [\"OMN\", 79276723016.9051], [\"PAK\", 314588210501.063], [\"PAN\", 65055100000.0], [\"PRY\", 40496953779.071], [\"PER\", 222044970486.21686], [\"PHL\", 330910343610.956], [\"POL\", 585663814824.044], [\"PRT\", 240674524464.24], [\"PRI\", 101130900000.0], [\"ROU\", 239552516744.469], [\"RWA\", 9508715596.4368], [\"STP\", 422296762.322469], [\"SAU\", 786521831571.957], [\"SEN\", 24129599551.7869], [\"SRB\", 50597289146.7041], [\"SLE\", 4085114794.22324], [\"SGP\", 364156657769.87], [\"SVK\", 105904632155.755], [\"SVN\", 54007972106.46289], [\"SOM\", 4720727278.18833], [\"ZAF\", 368288939768.322], [\"ESP\", 1419041949909.82], [\"LKA\", 88900770857.6351], [\"SDN\", 40851536133.7642], [\"SWZ\", 4710618471.93167], [\"SWE\", 556086488936.559], [\"CHE\", 705140354166.312], [\"SYR\", null], [\"TZA\", 58001200572.3965], [\"THA\", 504992757704.997], [\"TGO\", 5358722982.70893], [\"TTO\", 23808146747.7994], [\"TUN\", 39871132267.9361], [\"TUR\", 771350330455.267], [\"UGA\", 27461440192.354897], [\"GBR\", 2855296731521.96], [\"USA\", 20544343456936.5], [\"URY\", 59596885024.3487], [\"VEN\", null], [\"VNM\", 245213686369.15692], [\"PSE\", 14615900000.0], [\"YEM\", 26914402223.782795], [\"ZMB\", 26720073435.9014], [\"ZWE\", 31000519447.175003], [\"(?)\", null], [\"(?)\", null], [\"(?)\", null], [\"(?)\", 2024706310814.1514], [\"(?)\", 1271461711529.9558], [\"(?)\", null]], \"domain\": {\"x\": [0.0, 1.0], \"y\": [0.0, 1.0]}, \"hovertemplate\": \"iso_alpha=%{customdata[0]}<br>2018=%{color}<br>labels=%{label}<br>2017=%{value}<br>parent=%{parent}<br>id=%{id}<extra></extra>\", \"ids\": [\"world/Asia/Afghanistan\", \"world/Europe/Albania\", \"world/Africa/Algeria\", \"world/Africa/Angola\", \"world/Americas/Argentina\", \"world/Oceania/Australia\", \"world/Europe/Austria\", \"world/Asia/Bahrain\", \"world/Asia/Bangladesh\", \"world/Europe/Belgium\", \"world/Africa/Benin\", \"world/Americas/Bolivia\", \"world/Europe/Bosnia and Herzegovina\", \"world/Africa/Botswana\", \"world/Americas/Brazil\", \"world/Europe/Bulgaria\", \"world/Africa/Burkina Faso\", \"world/Africa/Burundi\", \"world/Asia/Cambodia\", \"world/Africa/Cameroon\", \"world/Americas/Canada\", \"world/Africa/Central African Republic\", \"world/Africa/Chad\", \"world/Americas/Chile\", \"world/Asia/China\", \"world/Americas/Colombia\", \"world/Africa/Comoros\", \"world/Africa/Congo, Dem. Rep.\", \"world/Africa/Congo, Rep.\", \"world/Americas/Costa Rica\", \"world/Africa/Cote d'Ivoire\", \"world/Europe/Croatia\", \"world/Americas/Cuba\", \"world/Europe/Czech Republic\", \"world/Europe/Denmark\", \"world/Africa/Djibouti\", \"world/Americas/Dominican Republic\", \"world/Americas/Ecuador\", \"world/Africa/Egypt\", \"world/Americas/El Salvador\", \"world/Africa/Equatorial Guinea\", \"world/Africa/Eritrea\", \"world/Africa/Ethiopia\", \"world/Europe/Finland\", \"world/Europe/France\", \"world/Africa/Gabon\", \"world/Africa/Gambia\", \"world/Europe/Germany\", \"world/Africa/Ghana\", \"world/Europe/Greece\", \"world/Americas/Guatemala\", \"world/Africa/Guinea\", \"world/Africa/Guinea-Bissau\", \"world/Americas/Haiti\", \"world/Americas/Honduras\", \"world/Asia/Hong Kong, China\", \"world/Europe/Hungary\", \"world/Europe/Iceland\", \"world/Asia/India\", \"world/Asia/Indonesia\", \"world/Asia/Iran\", \"world/Asia/Iraq\", \"world/Europe/Ireland\", \"world/Asia/Israel\", \"world/Europe/Italy\", \"world/Americas/Jamaica\", \"world/Asia/Japan\", \"world/Asia/Jordan\", \"world/Africa/Kenya\", \"world/Asia/Korea, Dem. Rep.\", \"world/Asia/Korea, Rep.\", \"world/Asia/Kuwait\", \"world/Asia/Lebanon\", \"world/Africa/Lesotho\", \"world/Africa/Liberia\", \"world/Africa/Libya\", \"world/Africa/Madagascar\", \"world/Africa/Malawi\", \"world/Asia/Malaysia\", \"world/Africa/Mali\", \"world/Africa/Mauritania\", \"world/Africa/Mauritius\", \"world/Americas/Mexico\", \"world/Asia/Mongolia\", \"world/Europe/Montenegro\", \"world/Africa/Morocco\", \"world/Africa/Mozambique\", \"world/Asia/Myanmar\", \"world/Africa/Namibia\", \"world/Asia/Nepal\", \"world/Europe/Netherlands\", \"world/Oceania/New Zealand\", \"world/Americas/Nicaragua\", \"world/Africa/Niger\", \"world/Africa/Nigeria\", \"world/Europe/Norway\", \"world/Asia/Oman\", \"world/Asia/Pakistan\", \"world/Americas/Panama\", \"world/Americas/Paraguay\", \"world/Americas/Peru\", \"world/Asia/Philippines\", \"world/Europe/Poland\", \"world/Europe/Portugal\", \"world/Americas/Puerto Rico\", \"world/Europe/Romania\", \"world/Africa/Rwanda\", \"world/Africa/Sao Tome and Principe\", \"world/Asia/Saudi Arabia\", \"world/Africa/Senegal\", \"world/Europe/Serbia\", \"world/Africa/Sierra Leone\", \"world/Asia/Singapore\", \"world/Europe/Slovak Republic\", \"world/Europe/Slovenia\", \"world/Africa/Somalia\", \"world/Africa/South Africa\", \"world/Europe/Spain\", \"world/Asia/Sri Lanka\", \"world/Africa/Sudan\", \"world/Africa/Swaziland\", \"world/Europe/Sweden\", \"world/Europe/Switzerland\", \"world/Asia/Syria\", \"world/Africa/Tanzania\", \"world/Asia/Thailand\", \"world/Africa/Togo\", \"world/Americas/Trinidad and Tobago\", \"world/Africa/Tunisia\", \"world/Europe/Turkey\", \"world/Africa/Uganda\", \"world/Europe/United Kingdom\", \"world/Americas/United States\", \"world/Americas/Uruguay\", \"world/Americas/Venezuela\", \"world/Asia/Vietnam\", \"world/Asia/West Bank and Gaza\", \"world/Asia/Yemen, Rep.\", \"world/Africa/Zambia\", \"world/Africa/Zimbabwe\", \"world/Africa\", \"world/Americas\", \"world/Asia\", \"world/Europe\", \"world/Oceania\", \"world\"], \"labels\": [\"Afghanistan\", \"Albania\", \"Algeria\", \"Angola\", \"Argentina\", \"Australia\", \"Austria\", \"Bahrain\", \"Bangladesh\", \"Belgium\", \"Benin\", \"Bolivia\", \"Bosnia and Herzegovina\", \"Botswana\", \"Brazil\", \"Bulgaria\", \"Burkina Faso\", \"Burundi\", \"Cambodia\", \"Cameroon\", \"Canada\", \"Central African Republic\", \"Chad\", \"Chile\", \"China\", \"Colombia\", \"Comoros\", \"Congo, Dem. Rep.\", \"Congo, Rep.\", \"Costa Rica\", \"Cote d'Ivoire\", \"Croatia\", \"Cuba\", \"Czech Republic\", \"Denmark\", \"Djibouti\", \"Dominican Republic\", \"Ecuador\", \"Egypt\", \"El Salvador\", \"Equatorial Guinea\", \"Eritrea\", \"Ethiopia\", \"Finland\", \"France\", \"Gabon\", \"Gambia\", \"Germany\", \"Ghana\", \"Greece\", \"Guatemala\", \"Guinea\", \"Guinea-Bissau\", \"Haiti\", \"Honduras\", \"Hong Kong, China\", \"Hungary\", \"Iceland\", \"India\", \"Indonesia\", \"Iran\", \"Iraq\", \"Ireland\", \"Israel\", \"Italy\", \"Jamaica\", \"Japan\", \"Jordan\", \"Kenya\", \"Korea, Dem. Rep.\", \"Korea, Rep.\", \"Kuwait\", \"Lebanon\", \"Lesotho\", \"Liberia\", \"Libya\", \"Madagascar\", \"Malawi\", \"Malaysia\", \"Mali\", \"Mauritania\", \"Mauritius\", \"Mexico\", \"Mongolia\", \"Montenegro\", \"Morocco\", \"Mozambique\", \"Myanmar\", \"Namibia\", \"Nepal\", \"Netherlands\", \"New Zealand\", \"Nicaragua\", \"Niger\", \"Nigeria\", \"Norway\", \"Oman\", \"Pakistan\", \"Panama\", \"Paraguay\", \"Peru\", \"Philippines\", \"Poland\", \"Portugal\", \"Puerto Rico\", \"Romania\", \"Rwanda\", \"Sao Tome and Principe\", \"Saudi Arabia\", \"Senegal\", \"Serbia\", \"Sierra Leone\", \"Singapore\", \"Slovak Republic\", \"Slovenia\", \"Somalia\", \"South Africa\", \"Spain\", \"Sri Lanka\", \"Sudan\", \"Swaziland\", \"Sweden\", \"Switzerland\", \"Syria\", \"Tanzania\", \"Thailand\", \"Togo\", \"Trinidad and Tobago\", \"Tunisia\", \"Turkey\", \"Uganda\", \"United Kingdom\", \"United States\", \"Uruguay\", \"Venezuela\", \"Vietnam\", \"West Bank and Gaza\", \"Yemen, Rep.\", \"Zambia\", \"Zimbabwe\", \"Africa\", \"Americas\", \"Asia\", \"Europe\", \"Oceania\", \"world\"], \"marker\": {\"coloraxis\": \"coloraxis\", \"colors\": [19362969582.3643, 15102500898.238, 173757952824.25, 105750987618.63, 519871519807.795, 1433904348500.12, 455285818035.125, 37746196808.5106, 274024958965.892, 542761092103.469, 10354274634.9108, 40287647756.8741, 20161865419.4327, 18616018903.4434, 1868626087908.48, 65132951116.47561, 14124775068.568996, 3036931818.18182, 24542474061.2426, 38675205293.0462, 1713341704877.01, 2219894701.95124, 11273115239.4255, 298231133532.74896, 13608151864637.9, 331047040087.878, 1177955048.65299, 47227535290.9218, 11263682694.0393, 60130106115.629395, 43007047821.7541, 60971699315.177605, 100023000000.0, 245225882903.37, 355675329085.952, 2955912228.2241697, 85555390387.0355, 108398058000.0, 250894760351.232, 26057000000.0, 13432377049.540201, null, 84355604752.5299, 276743120515.764, 2777535239277.98, 16853589311.4139, 1632823198.95828, 3947620162502.96, 65556464048.1539, 218031844583.994, 78460447919.9915, 10907214993.5687, 1458156026.16376, 9658721168.86849, 23969890430.7882, 362682018243.286, 157882912778.254, 25878475760.1131, 2718732231257.57, 1042173300625.55, null, 224228010477.8889, 382487490532.479, 370587977153.58295, 2083864259622.65, 15713908816.146301, 4971323079771.87, 42231295774.6479, 87908262519.9164, 1619423701169.6296, 1619423701169.6296, 140645364238.411, 56639155555.5556, 2738786277.79392, 3264000000.0, 48364208571.4286, 13853432868.227, 7064971176.34408, 358581943446.259, 17163432832.0957, 5234817927.170871, 14220348672.733297, 1220699479845.98, 13066749138.3261, 5504166666.66667, 117921394402.361, 14717223206.9, 71214803377.8284, 14521711633.953302, 29040398982.3466, 913658465709.1251, 204923917869.35498, 13117845416.6297, 9290938457.2883, 397269616080.908, 434166615431.909, 79276723016.9051, 314588210501.063, 65055100000.0, 40496953779.071, 222044970486.21686, 330910343610.956, 585663814824.044, 240674524464.24, 101130900000.0, 239552516744.469, 9508715596.4368, 422296762.322469, 786521831571.957, 24129599551.7869, 50597289146.7041, 4085114794.22324, 364156657769.87, 105904632155.755, 54007972106.46289, 4720727278.18833, 368288939768.322, 1419041949909.82, 88900770857.6351, 40851536133.7642, 4710618471.93167, 556086488936.559, 705140354166.312, null, 58001200572.3965, 504992757704.997, 5358722982.70893, 23808146747.7994, 39871132267.9361, 771350330455.267, 27461440192.354897, 2855296731521.96, 20544343456936.5, 59596885024.3487, null, 245213686369.15692, 14615900000.0, 26914402223.782795, 26720073435.9014, 31000519447.175003, null, null, null, 2024706310814.1514, 1271461711529.9558, null]}, \"name\": \"\", \"parents\": [\"world/Asia\", \"world/Europe\", \"world/Africa\", \"world/Africa\", \"world/Americas\", \"world/Oceania\", \"world/Europe\", \"world/Asia\", \"world/Asia\", \"world/Europe\", \"world/Africa\", \"world/Americas\", \"world/Europe\", \"world/Africa\", \"world/Americas\", \"world/Europe\", \"world/Africa\", \"world/Africa\", \"world/Asia\", \"world/Africa\", \"world/Americas\", \"world/Africa\", \"world/Africa\", \"world/Americas\", \"world/Asia\", \"world/Americas\", \"world/Africa\", \"world/Africa\", \"world/Africa\", \"world/Americas\", \"world/Africa\", \"world/Europe\", \"world/Americas\", \"world/Europe\", \"world/Europe\", \"world/Africa\", \"world/Americas\", \"world/Americas\", \"world/Africa\", \"world/Americas\", \"world/Africa\", \"world/Africa\", \"world/Africa\", \"world/Europe\", \"world/Europe\", \"world/Africa\", \"world/Africa\", \"world/Europe\", \"world/Africa\", \"world/Europe\", \"world/Americas\", \"world/Africa\", \"world/Africa\", \"world/Americas\", \"world/Americas\", \"world/Asia\", \"world/Europe\", \"world/Europe\", \"world/Asia\", \"world/Asia\", \"world/Asia\", \"world/Asia\", \"world/Europe\", \"world/Asia\", \"world/Europe\", \"world/Americas\", \"world/Asia\", \"world/Asia\", \"world/Africa\", \"world/Asia\", \"world/Asia\", \"world/Asia\", \"world/Asia\", \"world/Africa\", \"world/Africa\", \"world/Africa\", \"world/Africa\", \"world/Africa\", \"world/Asia\", \"world/Africa\", \"world/Africa\", \"world/Africa\", \"world/Americas\", \"world/Asia\", \"world/Europe\", \"world/Africa\", \"world/Africa\", \"world/Asia\", \"world/Africa\", \"world/Asia\", \"world/Europe\", \"world/Oceania\", \"world/Americas\", \"world/Africa\", \"world/Africa\", \"world/Europe\", \"world/Asia\", \"world/Asia\", \"world/Americas\", \"world/Americas\", \"world/Americas\", \"world/Asia\", \"world/Europe\", \"world/Europe\", \"world/Americas\", \"world/Europe\", \"world/Africa\", \"world/Africa\", \"world/Asia\", \"world/Africa\", \"world/Europe\", \"world/Africa\", \"world/Asia\", \"world/Europe\", \"world/Europe\", \"world/Africa\", \"world/Africa\", \"world/Europe\", \"world/Asia\", \"world/Africa\", \"world/Africa\", \"world/Europe\", \"world/Europe\", \"world/Asia\", \"world/Africa\", \"world/Asia\", \"world/Africa\", \"world/Americas\", \"world/Africa\", \"world/Europe\", \"world/Africa\", \"world/Europe\", \"world/Americas\", \"world/Americas\", \"world/Americas\", \"world/Asia\", \"world/Asia\", \"world/Asia\", \"world/Africa\", \"world/Africa\", \"world\", \"world\", \"world\", \"world\", \"world\", \"\"], \"type\": \"treemap\", \"values\": [20191764940.1602, 13025064966.5784, 167390266100.763, 122123822333.591, 642695864756.35, 1330135756844.41, 417282900758.04297, 35432686170.2128, 249723862487.36105, 503004504395.429, 9269594834.77931, 37508642257.5977, 18080118128.3854, 17405538618.3969, 2053594973992.61, 58220973782.7715, 12330338343.2865, 3172292379.36329, 22180376505.7284, 34922782310.6416, 1646867220617.47, 2067230996.47377, 9975692095.40855, 277746461078.319, 12143491448186.1, 311789874617.096, 1074778460.9556, 38019265625.8845, 8701334800.219759, 58174549218.3352, 38053606750.5179, 55319620157.6135, 96851000000.0, 215913545038.43, 329417067127.81604, 2766868072.24848, 79998045976.4898, 104295862000.0, 235369129337.71106, 24928000000.0, 12289913729.3358, 0.0, 81760441158.7556, 254435041879.238, 2586285406561.51, 14892609693.1667, 1504954957.89304, 3656749414477.08, 58996776237.7603, 203085551429.132, 75620081928.17, 10324668266.5921, 1346841897.00437, 8409497402.4589, 23100748921.7485, 341687111841.092, 141510583019.556, 24489493459.0074, 2652242857923.91, 1015423455783.28, 454012768723.589, 195473049875.108, 334834010485.56, 353253406954.97, 1956960611690.59, 14806340821.0871, 4859950558538.97, 40708943661.9718, 78757391333.0219, 1530750923148.7, 1530750923148.7, 120707550280.251, 53393799668.325, 2565352373.26551, 3285455000.0, 37881431912.7565, 13176313593.5509, 6303292264.18905, 318958236443.122, 15337740140.8637, 4905893854.7486, 13259351418.4459, 1157736189998.15, 11425755279.5395, 4844592066.71174, 109714300453.983, 13219084261.3664, 66719084253.4803, 13566192144.4614, 25180583769.9244, 831809944960.879, 202590814084.99106, 13843612004.9649, 8119710126.32655, 375745486520.715, 398393955268.99, 70597919375.8127, 304567253219.097, 62283800000.0, 39008900331.6733, 211007207483.515, 313619747740.18604, 526216495118.144, 220811110492.149, 104250200000.0, 211695422578.655, 9140429057.8874, 375040173.816889, 688586133333.333, 21081669869.9833, 44120424391.86, 3739577973.2394295, 338406474038.67, 95241436351.7628, 48441722815.6069, 4508845348.32757, 349554116683.818, 1309309642308.24, 88019706803.834, 123053386001.137, 4446248678.17126, 540545236387.733, 679950915261.1221, 0.0, 53320625958.5628, 455275517239.3471, 4808043652.61932, 22474828527.1775, 39813383483.5083, 852676778300.885, 25995031850.1545, 2666229179958.01, 19485393853000.0, 56488991831.0239, 0.0, 223779865815.183, 14498100000.0, 26818703092.5852, 25868142076.7897, 22813010116.1292, 2268113293322.5884, 26608874746764.234, 28565828568242.547, 19198900763617.49, 1532726570929.401, 78174443942876.33]}],\n",
       "                        {\"coloraxis\": {\"colorbar\": {\"title\": {\"text\": \"2018\"}}, \"colorscale\": [[0.0, \"rgb(103,0,31)\"], [0.1, \"rgb(178,24,43)\"], [0.2, \"rgb(214,96,77)\"], [0.3, \"rgb(244,165,130)\"], [0.4, \"rgb(253,219,199)\"], [0.5, \"rgb(247,247,247)\"], [0.6, \"rgb(209,229,240)\"], [0.7, \"rgb(146,197,222)\"], [0.8, \"rgb(67,147,195)\"], [0.9, \"rgb(33,102,172)\"], [1.0, \"rgb(5,48,97)\"]]}, \"legend\": {\"tracegroupgap\": 0}, \"template\": {\"data\": {\"bar\": [{\"error_x\": {\"color\": \"#2a3f5f\"}, \"error_y\": {\"color\": \"#2a3f5f\"}, \"marker\": {\"line\": {\"color\": \"#E5ECF6\", \"width\": 0.5}}, \"type\": \"bar\"}], \"barpolar\": [{\"marker\": {\"line\": {\"color\": \"#E5ECF6\", \"width\": 0.5}}, \"type\": \"barpolar\"}], \"carpet\": [{\"aaxis\": {\"endlinecolor\": \"#2a3f5f\", \"gridcolor\": \"white\", \"linecolor\": \"white\", \"minorgridcolor\": \"white\", \"startlinecolor\": \"#2a3f5f\"}, \"baxis\": {\"endlinecolor\": \"#2a3f5f\", \"gridcolor\": \"white\", \"linecolor\": \"white\", \"minorgridcolor\": \"white\", \"startlinecolor\": \"#2a3f5f\"}, \"type\": \"carpet\"}], \"choropleth\": [{\"colorbar\": {\"outlinewidth\": 0, \"ticks\": \"\"}, \"type\": \"choropleth\"}], \"contour\": [{\"colorbar\": {\"outlinewidth\": 0, \"ticks\": \"\"}, \"colorscale\": [[0.0, \"#0d0887\"], [0.1111111111111111, \"#46039f\"], [0.2222222222222222, \"#7201a8\"], [0.3333333333333333, \"#9c179e\"], [0.4444444444444444, \"#bd3786\"], [0.5555555555555556, \"#d8576b\"], [0.6666666666666666, \"#ed7953\"], [0.7777777777777778, \"#fb9f3a\"], [0.8888888888888888, \"#fdca26\"], [1.0, \"#f0f921\"]], \"type\": \"contour\"}], \"contourcarpet\": [{\"colorbar\": {\"outlinewidth\": 0, \"ticks\": \"\"}, \"type\": \"contourcarpet\"}], \"heatmap\": [{\"colorbar\": {\"outlinewidth\": 0, \"ticks\": \"\"}, \"colorscale\": [[0.0, \"#0d0887\"], [0.1111111111111111, \"#46039f\"], [0.2222222222222222, \"#7201a8\"], [0.3333333333333333, \"#9c179e\"], [0.4444444444444444, \"#bd3786\"], [0.5555555555555556, \"#d8576b\"], [0.6666666666666666, \"#ed7953\"], [0.7777777777777778, \"#fb9f3a\"], [0.8888888888888888, \"#fdca26\"], [1.0, \"#f0f921\"]], \"type\": \"heatmap\"}], \"heatmapgl\": [{\"colorbar\": {\"outlinewidth\": 0, \"ticks\": \"\"}, \"colorscale\": [[0.0, \"#0d0887\"], [0.1111111111111111, \"#46039f\"], [0.2222222222222222, \"#7201a8\"], [0.3333333333333333, \"#9c179e\"], [0.4444444444444444, \"#bd3786\"], [0.5555555555555556, \"#d8576b\"], [0.6666666666666666, \"#ed7953\"], [0.7777777777777778, \"#fb9f3a\"], [0.8888888888888888, \"#fdca26\"], [1.0, \"#f0f921\"]], \"type\": \"heatmapgl\"}], \"histogram\": [{\"marker\": {\"colorbar\": {\"outlinewidth\": 0, \"ticks\": \"\"}}, \"type\": \"histogram\"}], \"histogram2d\": [{\"colorbar\": {\"outlinewidth\": 0, \"ticks\": \"\"}, \"colorscale\": [[0.0, \"#0d0887\"], [0.1111111111111111, \"#46039f\"], [0.2222222222222222, \"#7201a8\"], [0.3333333333333333, \"#9c179e\"], [0.4444444444444444, \"#bd3786\"], [0.5555555555555556, \"#d8576b\"], [0.6666666666666666, \"#ed7953\"], [0.7777777777777778, \"#fb9f3a\"], [0.8888888888888888, \"#fdca26\"], [1.0, \"#f0f921\"]], \"type\": \"histogram2d\"}], \"histogram2dcontour\": [{\"colorbar\": {\"outlinewidth\": 0, \"ticks\": \"\"}, \"colorscale\": [[0.0, \"#0d0887\"], [0.1111111111111111, \"#46039f\"], [0.2222222222222222, \"#7201a8\"], [0.3333333333333333, \"#9c179e\"], [0.4444444444444444, \"#bd3786\"], [0.5555555555555556, \"#d8576b\"], [0.6666666666666666, \"#ed7953\"], [0.7777777777777778, \"#fb9f3a\"], [0.8888888888888888, \"#fdca26\"], [1.0, \"#f0f921\"]], \"type\": \"histogram2dcontour\"}], \"mesh3d\": [{\"colorbar\": {\"outlinewidth\": 0, \"ticks\": \"\"}, \"type\": \"mesh3d\"}], \"parcoords\": [{\"line\": {\"colorbar\": {\"outlinewidth\": 0, \"ticks\": \"\"}}, \"type\": \"parcoords\"}], \"pie\": [{\"automargin\": true, \"type\": \"pie\"}], \"scatter\": [{\"marker\": {\"colorbar\": {\"outlinewidth\": 0, \"ticks\": \"\"}}, \"type\": \"scatter\"}], \"scatter3d\": [{\"line\": {\"colorbar\": {\"outlinewidth\": 0, \"ticks\": \"\"}}, \"marker\": {\"colorbar\": {\"outlinewidth\": 0, \"ticks\": \"\"}}, \"type\": \"scatter3d\"}], \"scattercarpet\": [{\"marker\": {\"colorbar\": {\"outlinewidth\": 0, \"ticks\": \"\"}}, \"type\": \"scattercarpet\"}], \"scattergeo\": [{\"marker\": {\"colorbar\": {\"outlinewidth\": 0, \"ticks\": \"\"}}, \"type\": \"scattergeo\"}], \"scattergl\": [{\"marker\": {\"colorbar\": {\"outlinewidth\": 0, \"ticks\": \"\"}}, \"type\": \"scattergl\"}], \"scattermapbox\": [{\"marker\": {\"colorbar\": {\"outlinewidth\": 0, \"ticks\": \"\"}}, \"type\": \"scattermapbox\"}], \"scatterpolar\": [{\"marker\": {\"colorbar\": {\"outlinewidth\": 0, \"ticks\": \"\"}}, \"type\": \"scatterpolar\"}], \"scatterpolargl\": [{\"marker\": {\"colorbar\": {\"outlinewidth\": 0, \"ticks\": \"\"}}, \"type\": \"scatterpolargl\"}], \"scatterternary\": [{\"marker\": {\"colorbar\": {\"outlinewidth\": 0, \"ticks\": \"\"}}, \"type\": \"scatterternary\"}], \"surface\": [{\"colorbar\": {\"outlinewidth\": 0, \"ticks\": \"\"}, \"colorscale\": [[0.0, \"#0d0887\"], [0.1111111111111111, \"#46039f\"], [0.2222222222222222, \"#7201a8\"], [0.3333333333333333, \"#9c179e\"], [0.4444444444444444, \"#bd3786\"], [0.5555555555555556, \"#d8576b\"], [0.6666666666666666, \"#ed7953\"], [0.7777777777777778, \"#fb9f3a\"], [0.8888888888888888, \"#fdca26\"], [1.0, \"#f0f921\"]], \"type\": \"surface\"}], \"table\": [{\"cells\": {\"fill\": {\"color\": \"#EBF0F8\"}, \"line\": {\"color\": \"white\"}}, \"header\": {\"fill\": {\"color\": \"#C8D4E3\"}, \"line\": {\"color\": \"white\"}}, \"type\": \"table\"}]}, \"layout\": {\"annotationdefaults\": {\"arrowcolor\": \"#2a3f5f\", \"arrowhead\": 0, \"arrowwidth\": 1}, \"coloraxis\": {\"colorbar\": {\"outlinewidth\": 0, \"ticks\": \"\"}}, \"colorscale\": {\"diverging\": [[0, \"#8e0152\"], [0.1, \"#c51b7d\"], [0.2, \"#de77ae\"], [0.3, \"#f1b6da\"], [0.4, \"#fde0ef\"], [0.5, \"#f7f7f7\"], [0.6, \"#e6f5d0\"], [0.7, \"#b8e186\"], [0.8, \"#7fbc41\"], [0.9, \"#4d9221\"], [1, \"#276419\"]], \"sequential\": [[0.0, \"#0d0887\"], [0.1111111111111111, \"#46039f\"], [0.2222222222222222, \"#7201a8\"], [0.3333333333333333, \"#9c179e\"], [0.4444444444444444, \"#bd3786\"], [0.5555555555555556, \"#d8576b\"], [0.6666666666666666, \"#ed7953\"], [0.7777777777777778, \"#fb9f3a\"], [0.8888888888888888, \"#fdca26\"], [1.0, \"#f0f921\"]], \"sequentialminus\": [[0.0, \"#0d0887\"], [0.1111111111111111, \"#46039f\"], [0.2222222222222222, \"#7201a8\"], [0.3333333333333333, \"#9c179e\"], [0.4444444444444444, \"#bd3786\"], [0.5555555555555556, \"#d8576b\"], [0.6666666666666666, \"#ed7953\"], [0.7777777777777778, \"#fb9f3a\"], [0.8888888888888888, \"#fdca26\"], [1.0, \"#f0f921\"]]}, \"colorway\": [\"#636efa\", \"#EF553B\", \"#00cc96\", \"#ab63fa\", \"#FFA15A\", \"#19d3f3\", \"#FF6692\", \"#B6E880\", \"#FF97FF\", \"#FECB52\"], \"font\": {\"color\": \"#2a3f5f\"}, \"geo\": {\"bgcolor\": \"white\", \"lakecolor\": \"white\", \"landcolor\": \"#E5ECF6\", \"showlakes\": true, \"showland\": true, \"subunitcolor\": \"white\"}, \"hoverlabel\": {\"align\": \"left\"}, \"hovermode\": \"closest\", \"mapbox\": {\"style\": \"light\"}, \"paper_bgcolor\": \"white\", \"plot_bgcolor\": \"#E5ECF6\", \"polar\": {\"angularaxis\": {\"gridcolor\": \"white\", \"linecolor\": \"white\", \"ticks\": \"\"}, \"bgcolor\": \"#E5ECF6\", \"radialaxis\": {\"gridcolor\": \"white\", \"linecolor\": \"white\", \"ticks\": \"\"}}, \"scene\": {\"xaxis\": {\"backgroundcolor\": \"#E5ECF6\", \"gridcolor\": \"white\", \"gridwidth\": 2, \"linecolor\": \"white\", \"showbackground\": true, \"ticks\": \"\", \"zerolinecolor\": \"white\"}, \"yaxis\": {\"backgroundcolor\": \"#E5ECF6\", \"gridcolor\": \"white\", \"gridwidth\": 2, \"linecolor\": \"white\", \"showbackground\": true, \"ticks\": \"\", \"zerolinecolor\": \"white\"}, \"zaxis\": {\"backgroundcolor\": \"#E5ECF6\", \"gridcolor\": \"white\", \"gridwidth\": 2, \"linecolor\": \"white\", \"showbackground\": true, \"ticks\": \"\", \"zerolinecolor\": \"white\"}}, \"shapedefaults\": {\"line\": {\"color\": \"#2a3f5f\"}}, \"ternary\": {\"aaxis\": {\"gridcolor\": \"white\", \"linecolor\": \"white\", \"ticks\": \"\"}, \"baxis\": {\"gridcolor\": \"white\", \"linecolor\": \"white\", \"ticks\": \"\"}, \"bgcolor\": \"#E5ECF6\", \"caxis\": {\"gridcolor\": \"white\", \"linecolor\": \"white\", \"ticks\": \"\"}}, \"title\": {\"x\": 0.05}, \"xaxis\": {\"automargin\": true, \"gridcolor\": \"white\", \"linecolor\": \"white\", \"ticks\": \"\", \"title\": {\"standoff\": 15}, \"zerolinecolor\": \"white\", \"zerolinewidth\": 2}, \"yaxis\": {\"automargin\": true, \"gridcolor\": \"white\", \"linecolor\": \"white\", \"ticks\": \"\", \"title\": {\"standoff\": 15}, \"zerolinecolor\": \"white\", \"zerolinewidth\": 2}}}, \"title\": {\"text\": \"PIB Mundial Por Continente e Pa\\u00eds em 2017 (em USD)\"}},\n",
       "                        {\"responsive\": true}\n",
       "                    ).then(function(){\n",
       "                            \n",
       "var gd = document.getElementById('22552310-e791-4314-9550-ddd8d599c189');\n",
       "var x = new MutationObserver(function (mutations, observer) {{\n",
       "        var display = window.getComputedStyle(gd).display;\n",
       "        if (!display || display === 'none') {{\n",
       "            console.log([gd, 'removed!']);\n",
       "            Plotly.purge(gd);\n",
       "            observer.disconnect();\n",
       "        }}\n",
       "}});\n",
       "\n",
       "// Listen for the removal of the full notebook cells\n",
       "var notebookContainer = gd.closest('#notebook-container');\n",
       "if (notebookContainer) {{\n",
       "    x.observe(notebookContainer, {childList: true});\n",
       "}}\n",
       "\n",
       "// Listen for the clearing of the current output cell\n",
       "var outputEl = gd.closest('.output');\n",
       "if (outputEl) {{\n",
       "    x.observe(outputEl, {childList: true});\n",
       "}}\n",
       "\n",
       "                        })\n",
       "                };\n",
       "                });\n",
       "            </script>\n",
       "        </div>"
      ]
     },
     "metadata": {},
     "output_type": "display_data"
    }
   ],
   "source": [
    "import plotly.express as px\n",
    "import numpy as np\n",
    "import pandas as pd\n",
    "#help (px.treemap)\n",
    "gdp =  pd.read_csv(r'https://raw.githubusercontent.com/leafarsntram/Vis/master/data/GDP.csv', delimiter=',')\n",
    "\n",
    "\n",
    "fig = px.treemap(gdp, path=['world', 'continent', 'country'], values='2017',\n",
    "                 color='2018', hover_data=['iso_alpha'],\n",
    "                 color_continuous_scale='RdBu'\n",
    "                 ,title='PIB Mundial Por Continente e País em 2017 (em USD)'\n",
    "                )#,color_continuous_midpoint=np.average('2018'), weights='2009')\n",
    "       \n",
    "fig.show()"
   ]
  },
  {
   "cell_type": "code",
   "execution_count": null,
   "metadata": {},
   "outputs": [],
   "source": []
  }
 ],
 "metadata": {
  "kernelspec": {
   "display_name": "Python 3",
   "language": "python",
   "name": "python3"
  },
  "language_info": {
   "codemirror_mode": {
    "name": "ipython",
    "version": 3
   },
   "file_extension": ".py",
   "mimetype": "text/x-python",
   "name": "python",
   "nbconvert_exporter": "python",
   "pygments_lexer": "ipython3",
   "version": "3.7.6"
  }
 },
 "nbformat": 4,
 "nbformat_minor": 4
}
