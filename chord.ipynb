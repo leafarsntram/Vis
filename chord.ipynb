{
 "cells": [
  {
   "cell_type": "code",
   "execution_count": 1,
   "metadata": {},
   "outputs": [],
   "source": [
    "import chart_studio.plotly as py\n",
    "import plotly.figure_factory as ff\n",
    "import plotly.graph_objects as go\n",
    "import platform, plotly\n",
    "import numpy as np\n",
    "from numpy import pi\n",
    "\n",
    "\n",
    "#print(f'Python version: {platform.python_version()}')\n",
    "#print(f'Plotly version: {plotly.__version__}')\n",
    "\n",
    "\n",
    "#Exemplo data\n",
    "#data = [['',      'Emma', 'Isabella', 'Ava', 'Olivia', 'Sophia', 'row-sum'],\n",
    "#        ['Emma',     16, 3, 28, 0, 18, 65],\n",
    "#        ['Isabella', 18, 0, 12, 5, 29, 64],\n",
    "#        ['Ava',       9, 11, 17, 27, 0, 64],\n",
    "#        ['Olivia',  19, 0, 31, 11, 12, 73],\n",
    "#        ['Sophia',  23, 17, 10, 0, 34, 84]]\n",
    "\n",
    "data = [['','USD','CNY','BRL','EUR','GBP','CAD'],\n",
    "['USD',1,7.10485,5.70309,0.92655,0.81028,1.41489],\n",
    "['CNY',0.14075,1,0.8027,0.13041,0.11405,0.19914],\n",
    "['BRL',0.17534,1.24579,1,0.16246,0.14208,0.24809],\n",
    "['EUR',1.07928,7.6681,6.15521,1,0.87452,1.52706],\n",
    "['GBP',1.23414,8.76837,7.0384,1.14349,1,1.74636],\n",
    "['CAD',0.70677,5.02149,4.03076,1.52706,0.57265,1]]\n",
    "\n",
    "table = ff.create_table(data, index=True)\n",
    "#py.iplot(table, filename='Test.jpg')"
   ]
  },
  {
   "cell_type": "code",
   "execution_count": 2,
   "metadata": {},
   "outputs": [],
   "source": [
    "\n",
    "matrix = np.array([[0,7.10485,5.70309,0.92655,0.81028,1.41489],\n",
    "                [0.14075,0,0.8027,0.13041,0.11405,0.19914],\n",
    "                [0.17534,1.24579,0,0.16246,0.14208,0.24809],\n",
    "                [1.07928,7.6681,6.15521,0,0.87452,1.52706],\n",
    "                [1.23414,8.76837,7.0384,1.14349,0,1.74636],\n",
    "                [0.70677,5.02149,4.03076,1.52706,0.57265,0]], dtype=float)\n",
    "\n",
    "\n",
    "def check_data(data_matrix):\n",
    "    L, M = data_matrix.shape\n",
    "    if L != M:\n",
    "        raise ValueError('Data array must have a (n,n) shape')\n",
    "    return L\n",
    "\n",
    "L = check_data(matrix)\n",
    "\n",
    "#from IPython.display import IFrame\n",
    "#IFrame('https://plot.ly/~empet/12234/', width=377, height=420)"
   ]
  },
  {
   "cell_type": "markdown",
   "metadata": {},
   "source": [
    "A chord diagram encodes information in two graphical objects:\n",
    "\n",
    "ideograms, represented by distinctly colored arcs of circles;\n",
    "ribbons, that are planar shapes bounded by two quadratic Bezier curves and two arcs of circle,that can degenerate to a point;"
   ]
  },
  {
   "cell_type": "code",
   "execution_count": 3,
   "metadata": {},
   "outputs": [],
   "source": [
    "#definindo ideogram\n",
    "def moduloAB(x, a, b): #maps a real number onto the unit circle identified with \n",
    "                       #the interval [a,b), b-a=2*PI\n",
    "        if a>= b:\n",
    "            raise ValueError('Incorrect interval ends')\n",
    "        y = (x-a) % (b-a)\n",
    "        return y+b if y < 0 else y+a\n",
    "    \n",
    "\n",
    "def test_2PI(x):\n",
    "     return 0 <= x < 2*pi\n",
    "    \n",
    "row_sum = [matrix[k,:].sum() for k in range(L)]\n",
    "\n",
    "#set the gap between two consecutive ideograms\n",
    "gap = 2*pi*0.005\n",
    "ideogram_length = 2*pi * np.asarray(row_sum) / sum(row_sum) - gap*np.ones(L)\n",
    "\n",
    "def get_ideogram_ends(ideogram_len, gap):\n",
    "    ideo_ends = []\n",
    "    left = 0\n",
    "    for k in range(len(ideogram_len)):\n",
    "        right = left + ideogram_len[k]\n",
    "        ideo_ends.append([left, right])   \n",
    "        left = right + gap\n",
    "    return ideo_ends\n",
    "\n",
    "ideo_ends = get_ideogram_ends(ideogram_length, gap)\n",
    "\n",
    "def make_ideogram_arc(R, phi, a=50):\n",
    "    # R is the circle radius\n",
    "    # phi is the list of  angle coordinates of an arc ends\n",
    "    # a is a parameter that controls the number of points to be evaluated on an arc\n",
    "    if not test_2PI(phi[0]) or not test_2PI(phi[1]):\n",
    "        phi = [moduloAB(t, 0, 2*pi) for t in phi]\n",
    "    length = (phi[1]-phi[0]) % 2*pi \n",
    "    nr = 5 if length <= pi/4 else int(a*length/pi)\n",
    "\n",
    "    if phi[0] < phi[1]:   \n",
    "        theta = np.linspace(phi[0], phi[1], nr)\n",
    "    else:\n",
    "        phi = [moduloAB(t, -pi, pi) for t in phi]\n",
    "        theta = np.linspace(phi[0], phi[1], nr)\n",
    "    return R * np.exp(1j*theta)\n",
    "\n",
    "#make_ideogram_arc(1.3, [11*pi/6, pi/17])"
   ]
  },
  {
   "cell_type": "code",
   "execution_count": 4,
   "metadata": {},
   "outputs": [],
   "source": [
    "#definindo cores\n",
    "labels=['USD','CNY','BRL','EUR','GBP','CAD']\n",
    "ideo_colors=['rgba(244, 109, 67, 0.75)',\n",
    "             'rgba(253, 174, 97, 0.75)',\n",
    "             'rgba(254, 224, 139, 0.75)',\n",
    "             'rgba(217, 239, 106, 0.75)',\n",
    "             'rgba(166, 247, 136, 0.75)',\n",
    "             'rgba(186, 27, 166, 0.75)'\n",
    "            ]\n",
    "#len(ideo_colors)"
   ]
  },
  {
   "cell_type": "code",
   "execution_count": 5,
   "metadata": {},
   "outputs": [],
   "source": [
    "def map_data(data_matrix, row_value, ideogram_length):\n",
    "    mapped = np.zeros(data_matrix.shape)\n",
    "    for j  in range(L):\n",
    "        mapped[:, j] = ideogram_length * data_matrix[:,j] / row_value\n",
    "    return mapped\n",
    "\n",
    "\n",
    "\n",
    "mapped_data = map_data(matrix, row_sum, ideogram_length)\n",
    "\n",
    "\n",
    "#The array idx_sort, defined below, has on each row the indices that sort the corresponding row in mapped_data:\n",
    "idx_sort = np.argsort(mapped_data, axis=1)\n"
   ]
  },
  {
   "cell_type": "code",
   "execution_count": 6,
   "metadata": {},
   "outputs": [],
   "source": [
    "#IFrame('https://plot.ly/~empet/12519/', width=420, height=420)"
   ]
  },
  {
   "cell_type": "code",
   "execution_count": 7,
   "metadata": {},
   "outputs": [],
   "source": [
    "\n",
    "def make_ribbon_ends(mapped_data, ideo_ends,  idx_sort):\n",
    "    L = mapped_data.shape[0]\n",
    "    ribbon_boundary = np.zeros((L,L+1))\n",
    "    for k in range(L):\n",
    "        start = ideo_ends[k][0]\n",
    "        ribbon_boundary[k][0] = start\n",
    "        for j in range(1,L+1):\n",
    "            J = idx_sort[k][j-1]\n",
    "            ribbon_boundary[k][j] = start + mapped_data[k][J]\n",
    "            start = ribbon_boundary[k][j]\n",
    "    return [[(ribbon_boundary[k][j], ribbon_boundary[k][j+1] ) for j in range(L)] for k in range(L)]\n"
   ]
  },
  {
   "cell_type": "code",
   "execution_count": 8,
   "metadata": {},
   "outputs": [],
   "source": [
    "\n",
    "def control_pts(angle, radius):\n",
    "    #angle is a  3-list containing angular coordinates of the control points b0, b1, b2\n",
    "    #radius is the distance from b1 to the  origin O(0,0) \n",
    "\n",
    "    if len(angle) != 3:\n",
    "        raise InvalidInputError('angle must have len =3')\n",
    "    b_cplx = np.array([np.exp(1j*angle[k]) for k in range(3)])\n",
    "    b_cplx[1] = radius * b_cplx[1]\n",
    "    return list(zip(b_cplx.real, b_cplx.imag))\n",
    "\n",
    "\n",
    "\n",
    "def ctrl_rib_chords(l, r, radius):\n",
    "    # this function returns a 2-list containing control poligons of the two quadratic Bezier\n",
    "    #curves that are opposite sides in a ribbon\n",
    "    #l (r) the list of angular variables of the ribbon arc ends defining \n",
    "    #the ribbon starting (ending) arc \n",
    "    # radius is a common parameter for both control polygons\n",
    "    if len(l)!=2 or len(r)!=2:\n",
    "        raise ValueError('the arc ends must be elements in a list of len 2')\n",
    "    return [control_pts([l[j], (l[j]+r[j])/2, r[j]], radius) for j in range(2)]"
   ]
  },
  {
   "cell_type": "code",
   "execution_count": 9,
   "metadata": {},
   "outputs": [],
   "source": [
    "ribbon_color = [L * [ideo_colors[k]] for k in range(L)]\n",
    "\n",
    "\n",
    "ribbon_color[0][4]=ideo_colors[4]\n",
    "ribbon_color[1][2]=ideo_colors[2]\n",
    "ribbon_color[2][3]=ideo_colors[3]\n",
    "ribbon_color[2][4]=ideo_colors[4]\n",
    "ribbon_color[3][2]=ideo_colors[2]\n",
    "ribbon_color[3][4]=ideo_colors[4]\n",
    "\n",
    "\n",
    "def make_q_bezier(b):# defines the Plotly SVG path for a quadratic Bezier curve defined by the \n",
    "                     #list of its control points\n",
    "    if len(b) != 3:\n",
    "        raise valueError('control poligon must have 3 points')\n",
    "    A, B, C = b    \n",
    "    return f'M {A[0]}, {A[1]} Q {B[0]}, {B[1]} {C[0]}, {C[1]}'\n",
    "\n",
    "\n",
    "\n",
    "b=[(1,4), (-0.5, 2.35), (3.745, 1.47)]\n",
    "\n",
    "#make_q_bezier(b)"
   ]
  },
  {
   "cell_type": "code",
   "execution_count": 10,
   "metadata": {},
   "outputs": [],
   "source": [
    "#make_ribbon_arc returns the Plotly SVG path corresponding to an arc represented by its end angular coordinates theta0, theta1.\n",
    "\n",
    "def make_ribbon_arc(theta0, theta1):\n",
    "\n",
    "    if test_2PI(theta0) and test_2PI(theta1):\n",
    "        if theta0 < theta1:\n",
    "            theta0 = moduloAB(theta0, -pi, pi)\n",
    "            theta1 = moduloAB(theta1, -pi, pi)\n",
    "            if theta0  *theta1 > 0:\n",
    "                raise ValueError('incorrect angle coordinates for ribbon')\n",
    "    \n",
    "        nr = int(40 * (theta0 - theta1) / pi)\n",
    "        if nr <= 2: nr = 3\n",
    "        theta = np.linspace(theta0, theta1, nr)\n",
    "        pts=np.exp(1j*theta)# points in polar complex form, on the given arc\n",
    "    \n",
    "        string_arc = ''\n",
    "        for k in range(len(theta)):\n",
    "            string_arc += f'L {pts.real[k]}, {pts.imag[k]} '\n",
    "        return   string_arc \n",
    "    else:\n",
    "        raise ValueError('the angle coordinates for an arc side of a ribbon must be in [0, 2*pi]')\n",
    "\n",
    "\n",
    "#make_ribbon_arc(np.pi/3, np.pi/6)"
   ]
  },
  {
   "cell_type": "code",
   "execution_count": 11,
   "metadata": {},
   "outputs": [],
   "source": [
    "#Finally we are ready to define data and layout for the Plotly plot of the chord diagram.\n",
    "def plot_layout(title, plot_size):\n",
    "\n",
    "    return dict(title=title,\n",
    "                xaxis=dict(visible=False),\n",
    "                yaxis=dict(visible=False),\n",
    "                showlegend=False,\n",
    "                width=plot_size,\n",
    "                height=plot_size,\n",
    "                margin=dict(t=25, b=25, l=25, r=25),\n",
    "                hovermode='closest',\n",
    "                 )\n"
   ]
  },
  {
   "cell_type": "code",
   "execution_count": 12,
   "metadata": {},
   "outputs": [],
   "source": [
    "#Function that returns the Plotly shape of an ideogram:\n",
    "def make_ideo_shape(path, line_color, fill_color):\n",
    "    #line_color is the color of the shape boundary\n",
    "    #fill_collor is the color assigned to an ideogram\n",
    "    \n",
    "    return  dict(line=dict(color=line_color, \n",
    "                           width=0.45),\n",
    "                 path=path,\n",
    "                 layer='below',\n",
    "                 type='path',\n",
    "                 fillcolor=fill_color)"
   ]
  },
  {
   "cell_type": "code",
   "execution_count": 13,
   "metadata": {},
   "outputs": [],
   "source": [
    "#We generate two types of ribbons: a ribbon connecting subarcs in two distinct ideograms, respectively a ribbon \n",
    "#from one ideogram to itself (it corresponds to mapped_data[k][k], i.e. it gives the flow of comments from a community member to herself).\n",
    "\n",
    "def make_ribbon(l, r, line_color, fill_color, radius=0.2):\n",
    "    #l=[l[0], l[1]], r=[r[0], r[1]]  represent the opposite arcs in the ribbon \n",
    "    #line_color is the color of the shape boundary\n",
    "    #fill_color is the fill color for the ribbon shape\n",
    "    \n",
    "    poligon = ctrl_rib_chords(l,r, radius)\n",
    "    b, c = poligon  \n",
    "           \n",
    "    return  dict(line=dict(color=line_color, \n",
    "                             width=0.5),\n",
    "                 path=make_q_bezier(b) + make_ribbon_arc(r[0], r[1])+\n",
    "                         make_q_bezier(c[::-1]) + make_ribbon_arc(l[1], l[0]),\n",
    "                 type='path',\n",
    "                 layer='below',\n",
    "                 fillcolor = fill_color,    \n",
    "        )\n",
    "\n",
    "def make_self_rel(l, line_color, fill_color, radius):\n",
    "    #radius is the radius of Bezier control point b_1\n",
    "    \n",
    "    b = control_pts([l[0], (l[0]+l[1])/2, l[1]], radius) \n",
    "    \n",
    "    return  dict(line = dict(color=line_color, \n",
    "                             width=0.5),\n",
    "                 path =  make_q_bezier(b)+make_ribbon_arc(l[1], l[0]),\n",
    "                 type = 'path',\n",
    "                 layer = 'below',\n",
    "                 fillcolor = fill_color   \n",
    "                )\n",
    "def invPerm(perm):\n",
    "    # function that returns the inverse of a permutation, perm\n",
    "    inv = [0] * len(perm)\n",
    "    for i, s in enumerate(perm):\n",
    "        inv[s] = i\n",
    "    return inv\n",
    "\n",
    "\n",
    "layout=plot_layout('Paridade USD X Moedas em 05/05/2020 (fonte xe.com)', 400)\n",
    "\n",
    "radii_sribb = [0.4, 0.30, 0.35, 0.39, 0.12]# these value are set after a few trials"
   ]
  },
  {
   "cell_type": "code",
   "execution_count": 14,
   "metadata": {},
   "outputs": [],
   "source": [
    "ribbon_info = []\n",
    "shapes = []\n",
    "for k in range(L):\n",
    "    \n",
    "    sigma = idx_sort[k]\n",
    "    sigma_inv = invPerm(sigma)\n",
    "    ribbon_ends = make_ribbon_ends(mapped_data, ideo_ends, idx_sort)\n",
    "    for j in range(k, L):\n",
    "        if matrix[k][j] == 0 and matrix[j][k]==0: continue\n",
    "        eta = idx_sort[j]\n",
    "        eta_inv = invPerm(eta)\n",
    "        l = ribbon_ends[k][sigma_inv[j]]  \n",
    "        \n",
    "        if j == k:\n",
    "            shapes.append(make_self_rel(l, 'rgb(175,175,175)' ,  ideo_colors[k],\n",
    "                                        radius=radii_sribb[k])) \n",
    "            z = 0.9*np.exp(1j*(l[0]+l[1])/2)\n",
    "            \n",
    "            #the text below will be displayed when hovering the mouse over the ribbon\n",
    "            text = f'{labels[k]} commented on {int(matrix[k][k])} of herself Fb posts'\n",
    "\n",
    "            ribbon_info.append(go.Scatter(x=[z.real],\n",
    "                                       y=[z.imag],\n",
    "                                       mode='markers',\n",
    "                                       marker=dict(size=0.5, color=ideo_colors[k]),\n",
    "                                       text=text,\n",
    "                                       hoverinfo='text'\n",
    "                                       )\n",
    "                              )\n",
    "        else:\n",
    "            r = ribbon_ends[j][eta_inv[k]]\n",
    "            zi = 0.9 * np.exp(1j*(l[0]+l[1])/2)\n",
    "            zf = 0.9 * np.exp(1j*(r[0]+r[1])/2)\n",
    "            #texti and textf are the strings that will be displayed when hovering the mouse \n",
    "            #over the two ribbon ends\n",
    "            texti = f'{labels[k]} commented on {int(matrix[k][j])} of {labels[j]} Fb posts'\n",
    "            textf = f'{labels[j]} commented on {int(matrix[j][k])} of {labels[k]} Fb posts'\n",
    "            \n",
    "            ribbon_info.append(go.Scatter(x=[zi.real],\n",
    "                                          y=[zi.imag],\n",
    "                                          mode='markers',\n",
    "                                          marker=dict(size=0.5, color=ribbon_color[k][j]),\n",
    "                                          text=texti,\n",
    "                                          hoverinfo='text'\n",
    "                                       )\n",
    "                              ),\n",
    "            ribbon_info.append(go.Scatter(x=[zf.real],\n",
    "                                          y=[zf.imag],\n",
    "                                          mode='markers',\n",
    "                                          marker=dict(size=0.5, color=ribbon_color[k][j]),\n",
    "                                          text=textf,\n",
    "                                          hoverinfo='text'\n",
    "                                       )\n",
    "                              )\n",
    "            r = (r[1], r[0]) # IMPORTANT!!!  Reverse these arc ends because otherwise you get\n",
    "                          # a twisted ribbon\n",
    "            #append the ribbon shape\n",
    "            shapes.append(make_ribbon(l, r, 'rgb(175,175,175)' , ribbon_color[k][j]))"
   ]
  },
  {
   "cell_type": "code",
   "execution_count": 15,
   "metadata": {},
   "outputs": [
    {
     "data": {
      "text/html": [
       "        <script type=\"text/javascript\">\n",
       "        window.PlotlyConfig = {MathJaxConfig: 'local'};\n",
       "        if (window.MathJax) {MathJax.Hub.Config({SVG: {font: \"STIX-Web\"}});}\n",
       "        if (typeof require !== 'undefined') {\n",
       "        require.undef(\"plotly\");\n",
       "        requirejs.config({\n",
       "            paths: {\n",
       "                'plotly': ['https://cdn.plot.ly/plotly-latest.min']\n",
       "            }\n",
       "        });\n",
       "        require(['plotly'], function(Plotly) {\n",
       "            window._Plotly = Plotly;\n",
       "        });\n",
       "        }\n",
       "        </script>\n",
       "        "
      ]
     },
     "metadata": {},
     "output_type": "display_data"
    },
    {
     "data": {
      "application/vnd.plotly.v1+json": {
       "config": {
        "linkText": "Export to plot.ly",
        "plotlyServerURL": "https://plot.ly",
        "showLink": false
       },
       "data": [
        {
         "hoverinfo": "text",
         "line": {
          "color": "rgba(244, 109, 67, 0.75)",
          "shape": "spline",
          "width": 0.25
         },
         "mode": "lines",
         "text": "USD <br>15 comments",
         "type": "scatter",
         "x": [
          1.1,
          1.0997690874525485,
          1.0990764467567478,
          1.097922368711557,
          1.096307337846251,
          1.094232032216996,
          1.0916973231221738,
          1.0887042747365727,
          1.0852541436646066,
          1.081348378412739,
          1.0769886187813404,
          1.0721766951762346,
          1.0669146278402173,
          1.0612046260048766,
          1.0550490869630667,
          1.0484505950624257,
          1.041411920620361,
          1.0339360187609568,
          1.0260260281742906,
          1.017685269798684,
          1.0089172454264355,
          0.9997256362336246,
          0.9901143012346042,
          0.980087275661827,
          0.9696487692716899,
          0.9588031645771059,
          0.9475550150075455,
          0.9359090429973198,
          0.9238701380029097,
          0.9114433544501711,
          0.8986339096122801,
          0.8854471814193074,
          0.8718887062003434,
          0.8579641763591195,
          0.8436794379841042,
          0.8290404883940754,
          0.8140534736202002,
          0.7987246858256789,
          0.7830605606640367,
          0.7670676745771732,
          0.7507527420343019,
          0.7341226127129408,
          0.7171842686231373,
          0.6999448211761339,
          0.6824115081987063,
          0.6645916908944272,
          0.6464928507531307,
          0.6281225864098766,
          0.6094886104547321,
          0.59059874619471,
          0.5714609243692232,
          0.552083179820436,
          0.5324736481199082,
          0.5126405621529474,
          0.492592248662107,
          0.47233712475127854,
          0.45188369435184605,
          0.4312405446523868,
          0.4104163424934185,
          0.38941983072870323,
          0.3682598245546393,
          0.34694520780928095,
          0.3254849292425381,
          0.30388799875912553,
          0.282163483635834,
          0.2603205047147168,
          0.2383682325737858,
          0.21631588367682714,
          0.1941727165039522,
          0.17194802766450729,
          0.1496511479939764
         ],
         "y": [
          0,
          0.02253784115191134,
          0.04506621999416005,
          0.06757567818974902,
          0.09005676534534424,
          0.11250004297893738,
          0.13489608848250748,
          0.15723549907801807,
          0.1795088957650888,
          0.2017069272586844,
          0.22382027391516737,
          0.24583965164506666,
          0.26775581581091873,
          0.28955956510854564,
          0.3112417454301394,
          0.3327932537075323,
          0.3542050417340374,
          0.3754681199632571,
          0.396573561283263,
          0.4175125047645637,
          0.4382761593802862,
          0.45885580769700907,
          0.4792428095346987,
          0.49942860559421126,
          0.5194047210508366,
          0.5391627691123779,
          0.5586944545402706,
          0.5779915771322635,
          0.5970460351651996,
          0.6158498287964524,
          0.6343950634225872,
          0.6526739529938391,
          0.6706788232830162,
          0.6884021151074551,
          0.705836387502675,
          0.7229743208463998,
          0.7398087199316362,
          0.7563325169875157,
          0.7725387746466351,
          0.7884206888576478,
          0.803971591741883,
          0.819184954392795,
          0.8340543896170657,
          0.8485736546162096,
          0.8627366536075577,
          0.8765374403835163,
          0.8899702208080282,
          0.9030293552491897,
          0.9157093609469983,
          0.9280049143152405,
          0.9399108531765515,
          0.9514221789297096,
          0.9625340586482519,
          0.9732418271095372,
          0.9835409887533967,
          0.9934272195695542,
          1.0028963689130237,
          1.0119444612467192,
          1.0205676978105496,
          1.0287624582162922,
          1.0365253019675817,
          1.0438529699043706,
          1.050742385571259,
          1.0571906565091151,
          1.0631950754694506,
          1.0687531215510322,
          1.0738624612582608,
          1.0785209494808683,
          1.082726630394522,
          1.0864777382819613,
          1.0897726982743168
         ]
        },
        {
         "hoverinfo": "text",
         "line": {
          "color": "rgba(253, 174, 97, 0.75)",
          "shape": "spline",
          "width": 0.25
         },
         "mode": "lines",
         "text": "CNY <br>1 comments",
         "type": "scatter",
         "x": [
          0.115346716510826,
          0.08906940672187608,
          0.06274082599297501,
          0.03637612982061937,
          0.009990494490405757
         ],
         "y": [
          1.0939356173880486,
          1.096387997374202,
          1.0982092645546746,
          1.0993983705551293,
          1.0999546308915824
         ]
        },
        {
         "hoverinfo": "text",
         "line": {
          "color": "rgba(254, 224, 139, 0.75)",
          "shape": "spline",
          "width": 0.25
         },
         "mode": "lines",
         "text": "BRL <br>1 comments",
         "type": "scatter",
         "x": [
          -0.024564845123348826,
          -0.06573784785936991,
          -0.10681859604842019,
          -0.14774943818627748,
          -0.18847293314242888
         ],
         "y": [
          1.099725678696313,
          1.0980339408956439,
          1.0948012548121437,
          1.0900321571016331,
          1.0837333405744651
         ]
        },
        {
         "hoverinfo": "text",
         "line": {
          "color": "rgba(217, 239, 106, 0.75)",
          "shape": "spline",
          "width": 0.25
         },
         "mode": "lines",
         "text": "EUR <br>17 comments",
         "type": "scatter",
         "x": [
          -0.2224208199929493,
          -0.24445402504910876,
          -0.26638452734235263,
          -0.28820311318443337,
          -0.3099006159066963,
          -0.3314679197112837,
          -0.3528959635009648,
          -0.3741757446859863,
          -0.39529832296634076,
          -0.4162548240878659,
          -0.43703644357059523,
          -0.45763445040779555,
          -0.4780401907341344,
          -0.49824509146143925,
          -0.5182406638805196,
          -0.5380185072275379,
          -0.5575703122134332,
          -0.5768878645149126,
          -0.5959630482255444,
          -0.614787849265504,
          -0.6333543587485382,
          -0.6516547763047368,
          -0.6696814133577091,
          -0.6874266963547961,
          -0.7048831699489557,
          -0.7220435001309874,
          -0.7389004773107773,
          -0.7554470193462729,
          -0.771676174518911,
          -0.7875811244542519,
          -0.803155186986592,
          -0.8183918189663485,
          -0.833284619009043,
          -0.8478273301847195,
          -0.8620138426466795,
          -0.875838196198417,
          -0.8892945827976833,
          -0.9023773489966276,
          -0.9150809983169857,
          -0.9274001935593231,
          -0.9393297590453581,
          -0.9508646827924262,
          -0.9620001186191706,
          -0.9727313881815735,
          -0.9830539829384747,
          -0.9929635660457513,
          -1.0024559741783594,
          -1.0115272192794784,
          -1.0201734902360178,
          -1.0283911544797837,
          -1.0361767595136353,
          -1.0435270343619867,
          -1.0504388909450442,
          -1.0569094253762066,
          -1.062935919182078,
          -1.0685158404445831,
          -1.073646844864706,
          -1.0783267767474016,
          -1.0825536699072715,
          -1.0863257484946194,
          -1.089641427741542,
          -1.0924993146277382,
          -1.09489820846576,
          -1.096837101405461,
          -1.0983151788574232,
          -1.099331819835193,
          -1.0998865972161762,
          -1.099979277921086,
          -1.0996098230118667,
          -1.0987783877080526,
          -1.0974853213215559,
          -1.095731167109909,
          -1.0935166620480263,
          -1.090842736518577,
          -1.087710513921103,
          -1.0841213102000429,
          -1.0800766332918634
         ],
         "y": [
          1.0772785056955625,
          1.0724934636804506,
          1.0672578336993324,
          1.061573815403715,
          1.055443796827027,
          1.048870353381329,
          1.0418562467753052,
          1.0344044238539818,
          1.0265180153606652,
          1.0182003346216204,
          1.009454876154039,
          1.0002853141978818,
          0.9906955011722182,
          0.9806894660567035,
          0.9702714126988792,
          0.959445718048005,
          0.9482169303161672,
          0.9365897670674307,
          0.9245691132358455,
          0.9121600190731318,
          0.8993676980269127,
          0.8861975245503813,
          0.8726550318443258,
          0.8587459095324596,
          0.8444760012710318,
          0.829851302293726,
          0.8148779568928745,
          0.7995622558380505,
          0.7839106337331185,
          0.7679296663128572,
          0.7516260676802877,
          0.7350066874858703,
          0.7180785080497496,
          0.7008486414282694,
          0.6833243264259703,
          0.6655129255543453,
          0.6474219219386185,
          0.6290589161738499,
          0.6104316231316894,
          0.5915478687191175,
          0.572415586590538,
          0.5530428148146026,
          0.5334376924971668,
          0.5136084563617983,
          0.49356343728927227,
          0.47331105681750657,
          0.4528598236034157,
          0.4322183298481522,
          0.4113952476872601,
          0.39039932554723755,
          0.36923938447005067,
          0.3479243144071385,
          0.326463070484467,
          0.3048646692402013,
          0.2831381848365765,
          0.2612927452475598,
          0.23933752842390127,
          0.21728175843719555,
          0.19513470160455468,
          0.17290566259554652,
          0.1506039805230053,
          0.12823902501938655,
          0.105820192300285,
          0.08335690121679644,
          0.06085858929836223,
          0.03833470878776908,
          0.01579472266996707,
          -0.0067518993036256875,
          -0.029295684593660498,
          -0.051827161852569914,
          -0.07433686490377094,
          -0.09681533671870848,
          -0.11925313339004037,
          -0.14164082809932518,
          -0.16396901507751507,
          -0.1862283135566201,
          -0.2084093717108561
         ]
        },
        {
         "hoverinfo": "text",
         "line": {
          "color": "rgba(166, 247, 136, 0.75)",
          "shape": "spline",
          "width": 0.25
         },
         "mode": "lines",
         "text": "GBP <br>19 comments",
         "type": "scatter",
         "x": [
          -1.0729973841085163,
          -1.0678214141514346,
          -1.0621991748719606,
          -1.0561330159447502,
          -1.0496254725696017,
          -1.042679264411933,
          -1.0352972944661645,
          -1.0274826478424863,
          -1.0192385904775125,
          -1.0105685677693637,
          -1.0014762031377504,
          -0.991965296509654,
          -0.982039822731243,
          -0.9717039299066839,
          -0.9609619376645455,
          -0.9498183353525185,
          -0.9382777801612028,
          -0.9263450951777522,
          -0.9140252673701856,
          -0.9013234455032068,
          -0.8882449379864087,
          -0.8747952106557536,
          -0.8609798844892658,
          -0.846804733257882,
          -0.8322756811124487,
          -0.8173988001078719,
          -0.8021803076654517,
          -0.7866265639744664,
          -0.7707440693340919,
          -0.7545394614367618,
          -0.7380195125941097,
          -0.7211911269066508,
          -0.7040613373783862,
          -0.6866373029775337,
          -0.6689263056446131,
          -0.6509357472491458,
          -0.6326731464962252,
          -0.6141461357842594,
          -0.595362458015205,
          -0.576329963358613,
          -0.5570566059708426,
          -0.5375504406708256,
          -0.5178196195737533,
          -0.4978723886841006,
          -0.47771708444941907,
          -0.45736213027632366,
          -0.43681603301014127,
          -0.416087379379684,
          -0.39518483240864466,
          -0.3741171277950994,
          -0.35289307026064165,
          -0.33152152987066513,
          -0.3100114383273468,
          -0.28837178523686174,
          -0.26661161435239894,
          -0.24474001979455584,
          -0.2227661422506745,
          -0.2006991651547167,
          -0.1785483108492824,
          -0.15632283673135888,
          -0.13403203138341974,
          -0.11168521069149921,
          -0.08929171395184736,
          -0.06686089996780101,
          -0.04440214313851129,
          -0.021924829541143536,
          0.0005616469917986779,
          0.023047888798390422,
          0.04552449831480773,
          0.06798208200279908,
          0.09041125427548337,
          0.11280264141982466,
          0.13514688551413592,
          0.15743464833899187,
          0.1796566152799077,
          0.2018034992201441,
          0.22386604442202887,
          0.24583503039516452,
          0.2677012757498964,
          0.28945564203444835,
          0.31108903755411355,
          0.33259242117089594,
          0.3539568060820317,
          0.375173263575798,
          0.39623292676304833,
          0.4171269942829028,
          0.43784673398106055,
          0.45838348655918415,
          0.47872866919384105
         ],
         "y": [
          -0.2422325611809474,
          -0.26411631430040533,
          -0.28588968659489283,
          -0.3075435784266126,
          -0.329068940091648,
          -0.35045677560205746,
          -0.37169814644552635,
          -0.3927841753209939,
          -0.41370604984869846,
          -0.4344550262530949,
          -0.45502243301709366,
          -0.4753996745061091,
          -0.4955782345603862,
          -0.515549680054121,
          -0.5353056644198736,
          -0.5548379311368058,
          -0.5741383171812918,
          -0.5931987564384483,
          -0.6120112830731644,
          -0.6305680348592275,
          -0.6488612564651408,
          -0.6668833026952736,
          -0.6846266416849777,
          -0.7020838580483442,
          -0.7192476559772787,
          -0.7361108622906005,
          -0.7526664294318975,
          -0.768907438414875,
          -0.7848271017149732,
          -0.8004187661060438,
          -0.8156759154409017,
          -0.8305921733745841,
          -0.8451613060291855,
          -0.8593772245991506,
          -0.8732339878959418,
          -0.8867258048310065,
          -0.8998470368360203,
          -0.9125922002193873,
          -0.924955968458009,
          -0.9369331744233736,
          -0.94851881254103,
          -0.9597080408825391,
          -0.9704961831890394,
          -0.9808787308255736,
          -0.9908513446653573,
          -1.0004098569032112,
          -1.0095502727973895,
          -1.018268772339085,
          -1.0265617118489037,
          -1.0344256254996516,
          -1.0418572267647894,
          -1.0488534097919564,
          -1.0554112507009814,
          -1.0615280088058467,
          -1.06720112776009,
          -1.072428236625165,
          -1.0772071508613152,
          -1.0815358732405504,
          -1.085412594681335,
          -1.088835695004651,
          -1.0918037436111099,
          -1.0943155000788372,
          -1.0963699146818748,
          -1.0979661288288887,
          -1.0991034754219946,
          -1.0997814791355562,
          -1.0999998566148348,
          -1.09975851659441,
          -1.0990575599363235,
          -1.0978972795879243,
          -1.0962781604594403,
          -1.0942008792213205,
          -1.0916663040214392,
          -1.0886754941222743,
          -1.085229699458215,
          -1.0813303601131827,
          -1.0769791057187852,
          -1.0721777547732507,
          -1.0669283138814332,
          -1.0612329769162026,
          -1.0550941241015683,
          -1.0485143210179255,
          -1.0414963175298353,
          -1.0340430466367854,
          -1.0261576232474177,
          -1.0178433428777296,
          -1.0091036802737956,
          -0.9999422879595834,
          -0.9903629947104718
         ]
        },
        {
         "hoverinfo": "text",
         "line": {
          "color": "rgba(186, 27, 166, 0.75)",
          "shape": "spline",
          "width": 0.25
         },
         "mode": "lines",
         "text": "CAD <br>11 comments",
         "type": "scatter",
         "x": [
          0.5096004989211443,
          0.5297067280541831,
          0.5495851325263793,
          0.5692271627186379,
          0.5886243706754585,
          0.6077684137383661,
          0.6266510581340539,
          0.6452641825156945,
          0.6635997814558979,
          0.6816499688898114,
          0.6994069815068868,
          0.7168631820898428,
          0.7340110627994036,
          0.7508432484033893,
          0.7673524994487716,
          0.783531715375333,
          0.7993739375695877,
          0.8148723523576537,
          0.8300202939357836,
          0.8448112472373004,
          0.8592388507347004,
          0.8732968991757196,
          0.8869793462521867,
          0.9002803072005153,
          0.9131940613327164,
          0.9257150544968417,
          0.9378379014658037,
          0.9495573882535348,
          0.9608684743575066,
          0.9717662949266249,
          0.9822461628535837,
          0.9923035707907703,
          1.0019341930888568,
          1.0111338876572435,
          1.0198986977455555,
          1.0282248536454237,
          1.0361087743118222,
          1.043547068903259,
          1.050536538240164,
          1.0570741761808424,
          1.063157170914404,
          1.0687829061701115,
          1.0739489623426268,
          1.0786531175326748,
          1.082893348502671,
          1.0866678315469092,
          1.089974943275929,
          1.092813261314729,
          1.0951815649145247,
          1.0970788354777865,
          1.0985042569963357,
          1.0994572164023046
         ],
         "y": [
          -0.9748370794647283,
          -0.9640595325259389,
          -0.9528673475914484,
          -0.9412653383734522,
          -0.9292584948478655,
          -0.9168519811081559,
          -0.9040511331442879,
          -0.8908614565477354,
          -0.877288624143551,
          -0.8633384735505069,
          -0.8490170046703572,
          -0.8343303771073095,
          -0.8192849075188008,
          -0.8038870668987319,
          -0.7881434777943183,
          -0.7720609114577609,
          -0.7556462849339584,
          -0.7389066580855149,
          -0.7218492305563231,
          -0.7044813386750263,
          -0.6868104522996948,
          -0.6688441716050707,
          -0.6505902238137642,
          -0.6320564598728076,
          -0.6132508510769954,
          -0.5941814856404648,
          -0.5748565652179835,
          -0.5552844013774618,
          -0.5354734120251705,
          -0.5154321177852426,
          -0.4951691383349848,
          -0.4746931886975912,
          -0.4540130754938472,
          -0.4331376931544393,
          -0.4120760200944972,
          -0.39083711485201467,
          -0.3694301121918102,
          -0.3478642191767025,
          -0.3261487112075913,
          -0.30429292803414565,
          -0.2823062697378168,
          -0.26019819268890193,
          -0.23797820547939982,
          -0.21565586483340005,
          -0.19324077149678623,
          -0.17074256610798189,
          -0.14817092505156232,
          -0.12553555629647709,
          -0.10284619522069399,
          -0.08011260042405335,
          -0.05734454953113492,
          -0.03455183498594218
         ]
        },
        {
         "hoverinfo": "text",
         "marker": {
          "color": "rgba(244, 109, 67, 0.75)",
          "size": 0.5
         },
         "mode": "markers",
         "text": "USD commented on 7 of CNY Fb posts",
         "type": "scatter",
         "x": [
          0.3961087673354379
         ],
         "y": [
          0.808144692762379
         ]
        },
        {
         "hoverinfo": "text",
         "marker": {
          "color": "rgba(244, 109, 67, 0.75)",
          "size": 0.5
         },
         "mode": "markers",
         "text": "CNY commented on 0 of USD Fb posts",
         "type": "scatter",
         "x": [
          0.07485644750921139
         ],
         "y": [
          0.8968815486262948
         ]
        },
        {
         "hoverinfo": "text",
         "marker": {
          "color": "rgba(244, 109, 67, 0.75)",
          "size": 0.5
         },
         "mode": "markers",
         "text": "USD commented on 5 of BRL Fb posts",
         "type": "scatter",
         "x": [
          0.7721573094340383
         ],
         "y": [
          0.46235602027829925
         ]
        },
        {
         "hoverinfo": "text",
         "marker": {
          "color": "rgba(244, 109, 67, 0.75)",
          "size": 0.5
         },
         "mode": "markers",
         "text": "BRL commented on 0 of USD Fb posts",
         "type": "scatter",
         "x": [
          -0.04687917670728041
         ],
         "y": [
          0.8987782500657476
         ]
        },
        {
         "hoverinfo": "text",
         "marker": {
          "color": "rgba(244, 109, 67, 0.75)",
          "size": 0.5
         },
         "mode": "markers",
         "text": "USD commented on 0 of EUR Fb posts",
         "type": "scatter",
         "x": [
          0.8941112569916666
         ],
         "y": [
          0.10278647829739951
         ]
        },
        {
         "hoverinfo": "text",
         "marker": {
          "color": "rgba(244, 109, 67, 0.75)",
          "size": 0.5
         },
         "mode": "markers",
         "text": "EUR commented on 1 of USD Fb posts",
         "type": "scatter",
         "x": [
          -0.2924170288924548
         ],
         "y": [
          0.8511711233434257
         ]
        },
        {
         "hoverinfo": "text",
         "marker": {
          "color": "rgba(166, 247, 136, 0.75)",
          "size": 0.5
         },
         "mode": "markers",
         "text": "USD commented on 0 of GBP Fb posts",
         "type": "scatter",
         "x": [
          0.8994034818962079
         ],
         "y": [
          0.03276242898469985
         ]
        },
        {
         "hoverinfo": "text",
         "marker": {
          "color": "rgba(166, 247, 136, 0.75)",
          "size": 0.5
         },
         "mode": "markers",
         "text": "GBP commented on 1 of USD Fb posts",
         "type": "scatter",
         "x": [
          -0.8354817420160144
         ],
         "y": [
          -0.3346195731840651
         ]
        },
        {
         "hoverinfo": "text",
         "marker": {
          "color": "rgba(244, 109, 67, 0.75)",
          "size": 0.5
         },
         "mode": "markers",
         "text": "USD commented on 1 of CAD Fb posts",
         "type": "scatter",
         "x": [
          0.878372099782421
         ],
         "y": [
          0.1961184701241081
         ]
        },
        {
         "hoverinfo": "text",
         "marker": {
          "color": "rgba(244, 109, 67, 0.75)",
          "size": 0.5
         },
         "mode": "markers",
         "text": "CAD commented on 0 of USD Fb posts",
         "type": "scatter",
         "x": [
          0.48132630838726104
         ],
         "y": [
          -0.7604768141464218
         ]
        },
        {
         "hoverinfo": "text",
         "marker": {
          "color": "rgba(254, 224, 139, 0.75)",
          "size": 0.5
         },
         "mode": "markers",
         "text": "CNY commented on 0 of BRL Fb posts",
         "type": "scatter",
         "x": [
          0.03315947617638207
         ],
         "y": [
          0.8993889309635226
         ]
        },
        {
         "hoverinfo": "text",
         "marker": {
          "color": "rgba(254, 224, 139, 0.75)",
          "size": 0.5
         },
         "mode": "markers",
         "text": "BRL commented on 1 of CNY Fb posts",
         "type": "scatter",
         "x": [
          -0.11211453530822503
         ],
         "y": [
          0.8929895469559657
         ]
        },
        {
         "hoverinfo": "text",
         "marker": {
          "color": "rgba(253, 174, 97, 0.75)",
          "size": 0.5
         },
         "mode": "markers",
         "text": "CNY commented on 0 of EUR Fb posts",
         "type": "scatter",
         "x": [
          0.08326660151566277
         ],
         "y": [
          0.8961398736090432
         ]
        },
        {
         "hoverinfo": "text",
         "marker": {
          "color": "rgba(253, 174, 97, 0.75)",
          "size": 0.5
         },
         "mode": "markers",
         "text": "EUR commented on 7 of CNY Fb posts",
         "type": "scatter",
         "x": [
          -0.8892735207086163
         ],
         "y": [
          0.1385373789506001
         ]
        },
        {
         "hoverinfo": "text",
         "marker": {
          "color": "rgba(253, 174, 97, 0.75)",
          "size": 0.5
         },
         "mode": "markers",
         "text": "CNY commented on 0 of GBP Fb posts",
         "type": "scatter",
         "x": [
          0.09084238257057949
         ],
         "y": [
          0.8954036305091132
         ]
        },
        {
         "hoverinfo": "text",
         "marker": {
          "color": "rgba(253, 174, 97, 0.75)",
          "size": 0.5
         },
         "mode": "markers",
         "text": "GBP commented on 8 of CNY Fb posts",
         "type": "scatter",
         "x": [
          0.049056427703605486
         ],
         "y": [
          -0.8986620426506068
         ]
        },
        {
         "hoverinfo": "text",
         "marker": {
          "color": "rgba(253, 174, 97, 0.75)",
          "size": 0.5
         },
         "mode": "markers",
         "text": "CNY commented on 0 of CAD Fb posts",
         "type": "scatter",
         "x": [
          0.06430538524426183
         ],
         "y": [
          0.8976997367876338
         ]
        },
        {
         "hoverinfo": "text",
         "marker": {
          "color": "rgba(253, 174, 97, 0.75)",
          "size": 0.5
         },
         "mode": "markers",
         "text": "CAD commented on 5 of CNY Fb posts",
         "type": "scatter",
         "x": [
          0.8708168897825226
         ],
         "y": [
          -0.22732783478820653
         ]
        },
        {
         "hoverinfo": "text",
         "marker": {
          "color": "rgba(217, 239, 106, 0.75)",
          "size": 0.5
         },
         "mode": "markers",
         "text": "BRL commented on 0 of EUR Fb posts",
         "type": "scatter",
         "x": [
          -0.03535014815314551
         ],
         "y": [
          0.899305491490823
         ]
        },
        {
         "hoverinfo": "text",
         "marker": {
          "color": "rgba(217, 239, 106, 0.75)",
          "size": 0.5
         },
         "mode": "markers",
         "text": "EUR commented on 6 of BRL Fb posts",
         "type": "scatter",
         "x": [
          -0.6418656243902807
         ],
         "y": [
          0.6308791645204928
         ]
        },
        {
         "hoverinfo": "text",
         "marker": {
          "color": "rgba(166, 247, 136, 0.75)",
          "size": 0.5
         },
         "mode": "markers",
         "text": "BRL commented on 0 of GBP Fb posts",
         "type": "scatter",
         "x": [
          -0.024951238997176207
         ],
         "y": [
          0.8996540644450542
         ]
        },
        {
         "hoverinfo": "text",
         "marker": {
          "color": "rgba(166, 247, 136, 0.75)",
          "size": 0.5
         },
         "mode": "markers",
         "text": "GBP commented on 7 of BRL Fb posts",
         "type": "scatter",
         "x": [
          -0.5509932975987472
         ],
         "y": [
          -0.711622361931705
         ]
        },
        {
         "hoverinfo": "text",
         "marker": {
          "color": "rgba(254, 224, 139, 0.75)",
          "size": 0.5
         },
         "mode": "markers",
         "text": "BRL commented on 0 of CAD Fb posts",
         "type": "scatter",
         "x": [
          -0.06131962167227472
         ],
         "y": [
          0.8979086278669836
         ]
        },
        {
         "hoverinfo": "text",
         "marker": {
          "color": "rgba(254, 224, 139, 0.75)",
          "size": 0.5
         },
         "mode": "markers",
         "text": "CAD commented on 4 of BRL Fb posts",
         "type": "scatter",
         "x": [
          0.7115205543521012
         ],
         "y": [
          -0.5511247596819423
         ]
        },
        {
         "hoverinfo": "text",
         "marker": {
          "color": "rgba(166, 247, 136, 0.75)",
          "size": 0.5
         },
         "mode": "markers",
         "text": "EUR commented on 0 of GBP Fb posts",
         "type": "scatter",
         "x": [
          -0.21652681914280972
         ],
         "y": [
          0.8735651873740716
         ]
        },
        {
         "hoverinfo": "text",
         "marker": {
          "color": "rgba(166, 247, 136, 0.75)",
          "size": 0.5
         },
         "mode": "markers",
         "text": "GBP commented on 1 of EUR Fb posts",
         "type": "scatter",
         "x": [
          -0.866514416783603
         ],
         "y": [
          -0.24321341555550022
         ]
        },
        {
         "hoverinfo": "text",
         "marker": {
          "color": "rgba(217, 239, 106, 0.75)",
          "size": 0.5
         },
         "mode": "markers",
         "text": "EUR commented on 1 of CAD Fb posts",
         "type": "scatter",
         "x": [
          -0.3900356284171159
         ],
         "y": [
          0.8110932181724031
         ]
        },
        {
         "hoverinfo": "text",
         "marker": {
          "color": "rgba(217, 239, 106, 0.75)",
          "size": 0.5
         },
         "mode": "markers",
         "text": "CAD commented on 1 of EUR Fb posts",
         "type": "scatter",
         "x": [
          0.5545727100489193
         ],
         "y": [
          -0.7088364474750133
         ]
        },
        {
         "hoverinfo": "text",
         "marker": {
          "color": "rgba(166, 247, 136, 0.75)",
          "size": 0.5
         },
         "mode": "markers",
         "text": "GBP commented on 1 of CAD Fb posts",
         "type": "scatter",
         "x": [
          -0.7830581280896627
         ],
         "y": [
          -0.4436439653964804
         ]
        },
        {
         "hoverinfo": "text",
         "marker": {
          "color": "rgba(166, 247, 136, 0.75)",
          "size": 0.5
         },
         "mode": "markers",
         "text": "CAD commented on 0 of GBP Fb posts",
         "type": "scatter",
         "x": [
          0.4371764060368137
         ],
         "y": [
          -0.7866872250168646
         ]
        }
       ],
       "layout": {
        "height": 400,
        "hovermode": "closest",
        "margin": {
         "b": 25,
         "l": 25,
         "r": 25,
         "t": 25
        },
        "shapes": [
         {
          "fillcolor": "rgba(244, 109, 67, 0.75)",
          "layer": "below",
          "line": {
           "color": "rgb(175,175,175)",
           "width": 0.5
          },
          "path": "M 0.6997137966066401, 0.7144232658853724 Q 0.08277356457532876, 0.1820673968822916 0.07832041850836774, 0.9969282381619422L 0.07832041850836774, 0.9969282381619422 L 0.08317383056579043, 0.9965350540292164 L 0.08802527055485924, 0.9961182418486993 M 0.08802527055485924, 0.9961182418486993 Q 0.022413720867235726, 0.19874009438682885 0.13604649817634237, 0.9907024529766515L 0.13604649817634237, 0.9907024529766515 L 0.22572566632246607, 0.9741909071446309 L 0.31352792908682114, 0.9495789791705213 L 0.3987232120290542, 0.9170713168501313 L 0.4806031177052203, 0.8769382208867522 L 0.5584868159814401, 0.8295133973450417 L 0.6317267051258052, 0.7751911828903203 L 0.6997137966066401, 0.7144232658853724 ",
          "type": "path"
         },
         {
          "fillcolor": "rgba(244, 109, 67, 0.75)",
          "layer": "below",
          "line": {
           "color": "rgb(175,175,175)",
           "width": 0.5
          },
          "path": "M 0.9601518196358626, 0.27947894956497527 Q 0.11529180380311821, 0.16342521217922068 -0.05873396350845833, 0.9982736706587964L -0.05873396350845833, 0.9982736706587964 L -0.05208797411920046, 0.9986425000730529 L -0.04543967696130561, 0.9989670844215299 M -0.04543967696130561, 0.9989670844215299 Q 0.07134702574773637, 0.18684111409684928 0.6997137966066401, 0.7144232658853724L 0.6997137966066401, 0.7144232658853724 L 0.7691477068365531, 0.639071048529091 L 0.8305063164095637, 0.5570092085449014 L 0.8831454197773914, 0.4690993152054425 L 0.9265123577014701, 0.3762643366391015 L 0.9601518196358626, 0.27947894956497527 ",
          "type": "path"
         },
         {
          "fillcolor": "rgba(244, 109, 67, 0.75)",
          "layer": "below",
          "line": {
           "color": "rgb(175,175,175)",
           "width": 0.5
          },
          "path": "M 0.9973496870296852, 0.0727571424795464 Q 0.10610838612254432, 0.16953173860510323 -0.37045173608524434, 0.9288517164926964L -0.37045173608524434, 0.9288517164926964 L -0.3249078098805053, 0.9457456926038064 L -0.2785972131287317, 0.9604080345545346 M -0.2785972131287317, 0.9604080345545346 Q 0.1072833188604166, 0.16879066767536108 0.9878422977065198, 0.15545930291206014L 0.9878422977065198, 0.15545930291206014 L 0.9934569522129629, 0.11420719810822168 L 0.9973496870296852, 0.0727571424795464 ",
          "type": "path"
         },
         {
          "fillcolor": "rgba(166, 247, 136, 0.75)",
          "layer": "below",
          "line": {
           "color": "rgb(175,175,175)",
           "width": 0.5
          },
          "path": "M 1.0, 0.0 Q -0.04331855671107157, 0.19525240752541229 -0.9061751322234838, -0.42290262441814147L -0.9061751322234838, -0.42290262441814147 L -0.9283130466844605, -0.3717995257600723 L -0.9475716924506739, -0.31954324850662325 M -0.9475716924506739, -0.31954324850662325 Q -0.039544588190068376, 0.19605158898840352 0.9973496870296852, 0.0727571424795464L 0.9973496870296852, 0.0727571424795464 L 0.9993372021068977, 0.036402698871888725 L 1.0, 0.0 ",
          "type": "path"
         },
         {
          "fillcolor": "rgba(244, 109, 67, 0.75)",
          "layer": "below",
          "line": {
           "color": "rgb(175,175,175)",
           "width": 0.5
          },
          "path": "M 0.9878422977065198, 0.15545930291206014 Q -0.18346775526333992, 0.0796214969630138 0.5611695982347875, -0.827700840894225L 0.5611695982347875, -0.827700840894225 L 0.5348070093191789, -0.8449742379404687 L 0.5079131664702673, -0.8614082744704432 M 0.5079131664702673, -0.8614082744704432 Q -0.1859257502713929, 0.07369949379758081 0.9601518196358626, 0.27947894956497527L 0.9601518196358626, 0.27947894956497527 L 0.9759689997582456, 0.217909411249009 L 0.9878422977065198, 0.15545930291206014 ",
          "type": "path"
         },
         {
          "fillcolor": "rgba(254, 224, 139, 0.75)",
          "layer": "below",
          "line": {
           "color": "rgb(175,175,175)",
           "width": 0.5
          },
          "path": "M 0.06457704634289961, 0.9979127241826447 Q -0.010751477261590071, 0.1997108052577364 -0.1713390301294808, 0.9852121277949683L -0.1713390301294808, 0.9852121277949683 L -0.12457170589802781, 0.9922106077288507 L -0.07752581923414247, 0.996990344663415 M -0.07752581923414247, 0.996990344663415 Q -0.006850789156080628, 0.19988263228189418 0.00908226771855091, 0.999958755355984L 0.00908226771855091, 0.999958755355984 L 0.0368438624182023, 0.999321034403914 L 0.06457704634289961, 0.9979127241826447 ",
          "type": "path"
         },
         {
          "fillcolor": "rgba(253, 174, 97, 0.75)",
          "layer": "below",
          "line": {
           "color": "rgb(175,175,175)",
           "width": 0.5
          },
          "path": "M 0.09700973853577702, 0.9952834323092192 Q -0.147872699736665, 0.13466129611952393 -0.9818878484471484, -0.18946306519168776L -0.9818878484471484, -0.18946306519168776 L -0.9957711596134206, -0.09186837150044509 L -0.999978093846049, 0.006619050386764805 L -0.9944677703854566, 0.10504215184666936 L -0.979293735637679, 0.20244450928785335 L -0.9546034428387392, 0.2978796181688602 L -0.920636819182168, 0.3904200906282106 L -0.8777239343335613, 0.4791666673486523 M -0.8777239343335613, 0.4791666673486523 Q -0.09438553437640462, 0.17632745362104152 0.08802527055485924, 0.9961182418486993L 0.08802527055485924, 0.9961182418486993 L 0.09251844612851419, 0.9957109706767147 L 0.09700973853577702, 0.9952834323092192 ",
          "type": "path"
         },
         {
          "fillcolor": "rgba(253, 174, 97, 0.75)",
          "layer": "below",
          "line": {
           "color": "rgb(175,175,175)",
           "width": 0.5
          },
          "path": "M 0.10486065137347816, 0.994486924898226 Q -0.19702804826749643, -0.034350374028547424 0.4352078810853108, -0.9003299951913376L 0.4352078810853108, -0.9003299951913376 L 0.35445209068788275, -0.9350741764197047 L 0.27095686207970526, -0.9625914911798875 L 0.18536750114462888, -0.9826692676172365 L 0.09834549859448569, -0.9951523315081978 L 0.01056341753505268, -0.9999442055484796 L -0.07730030454270748, -0.9970078549929307 L -0.16456659917249866, -0.9863659738843378 L -0.25056101519914276, -0.9681008096589812 L -0.3346189313794226, -0.9423535274845068 M -0.3346189313794226, -0.9423535274845068 Q -0.19521514071614637, 0.043486191316039334 0.09700973853577702, 0.9952834323092192L 0.09700973853577702, 0.9952834323092192 L 0.1009359806339772, 0.9948929227879035 L 0.10486065137347816, 0.994486924898226 ",
          "type": "path"
         },
         {
          "fillcolor": "rgba(253, 174, 97, 0.75)",
          "layer": "below",
          "line": {
           "color": "rgb(175,175,175)",
           "width": 0.5
          },
          "path": "M 0.07832041850836774, 0.9969282381619422 Q -0.1489695300936935, -0.13344691492748778 0.9995065603657315, -0.03141075907812925L 0.9995065603657315, -0.03141075907812925 L 0.9897380838620973, -0.14289340556157298 L 0.9675743219805806, -0.25258648309800724 L 0.9332928493220265, -0.3591162171280674 L 0.8873230003171346, -0.4611484501851852 M 0.8873230003171346, -0.4611484501851852 Q -0.1742117449938151, -0.09823577711918376 0.06457704634289961, 0.9979127241826447L 0.06457704634289961, 0.9979127241826447 L 0.07145042804917981, 0.9974441519862598 L 0.07832041850836774, 0.9969282381619422 ",
          "type": "path"
         },
         {
          "fillcolor": "rgba(217, 239, 106, 0.75)",
          "layer": "below",
          "line": {
           "color": "rgb(175,175,175)",
           "width": 0.5
          },
          "path": "M -0.033114713878323314, 0.9994515574677728 Q -0.10489630164894843, 0.17028436775104408 -0.8777239343335613, 0.4791666673486523L -0.8777239343335613, 0.4791666673486523 L -0.8297934900183395, 0.5580705725293029 L -0.7747905882110814, 0.6322179564197196 L -0.7131840271003119, 0.7009768494672142 L -0.6454988888780803, 0.7637612090550054 L -0.5723120643837064, 0.820035914433545 L -0.49424733617446526, 0.869321327636936 M -0.49424733617446526, 0.869321327636936 Q -0.05550406240985065, 0.19214395399284206 -0.04543967696130561, 0.9989670844215299L -0.04543967696130561, 0.9989670844215299 L -0.0392779423923839, 0.9992283238786922 L -0.033114713878323314, 0.9994515574677728 ",
          "type": "path"
         },
         {
          "fillcolor": "rgba(166, 247, 136, 0.75)",
          "layer": "below",
          "line": {
           "color": "rgb(175,175,175)",
           "width": 0.5
          },
          "path": "M -0.022331677384862567, 0.999750616996648 Q -0.1974634711815852, 0.03175181174231285 -0.3346189313794226, -0.9423535274845068L -0.3346189313794226, -0.9423535274845068 L -0.41865174936262733, -0.9081468563815062 L -0.4992383890650208, -0.8664646737656203 L -0.5757154926291737, -0.8176500911433618 L -0.6474535302999043, -0.7621049311624948 L -0.7138619824682422, -0.7002864199643679 L -0.7743942005990423, -0.6327034234762526 L -0.8285519070289976, -0.5599122586250557 M -0.8285519070289976, -0.5599122586250557 Q -0.1781596159775113, 0.09087987255022814 -0.033114713878323314, 0.9994515574677728L -0.033114713878323314, 0.9994515574677728 L -0.02772359888575134, 0.9996156271611714 L -0.022331677384862567, 0.999750616996648 ",
          "type": "path"
         },
         {
          "fillcolor": "rgba(254, 224, 139, 0.75)",
          "layer": "below",
          "line": {
           "color": "rgb(175,175,175)",
           "width": 0.5
          },
          "path": "M -0.05873396350845833, 0.9982736706587964 Q -0.1678235001043738, -0.10879004004373403 0.8873230003171346, -0.4611484501851852L 0.8873230003171346, -0.4611484501851852 L 0.8258292111537474, -0.5639203082042527 L 0.7524901069185072, -0.6586035522146639 L 0.6683576300530483, -0.7438400892328085 M 0.6683576300530483, -0.7438400892328085 Q -0.1838361452015044, -0.07876719950240324 -0.07752581923414247, 0.996990344663415L -0.07752581923414247, 0.996990344663415 L -0.06813291296919413, 0.9976762531855372 L -0.05873396350845833, 0.9982736706587964 ",
          "type": "path"
         },
         {
          "fillcolor": "rgba(166, 247, 136, 0.75)",
          "layer": "below",
          "line": {
           "color": "rgb(175,175,175)",
           "width": 0.5
          },
          "path": "M -0.2022007454481357, 0.979344096086875 Q -0.17346714365829977, 0.0995447139281177 -0.9475716924506739, -0.31954324850662325L -0.9475716924506739, -0.31954324850662325 L -0.9627937964262255, -0.27023712839500025 L -0.9754521673713783, -0.22021141925540672 M -0.9754521673713783, -0.22021141925540672 Q -0.17223536638702264, 0.10166109661777248 -0.2785972131287317, 0.9604080345545346L -0.2785972131287317, 0.9604080345545346 L -0.24058535460312191, 0.9706279859711907 L -0.2022007454481357, 0.979344096086875 ",
          "type": "path"
         },
         {
          "fillcolor": "rgba(217, 239, 106, 0.75)",
          "layer": "below",
          "line": {
           "color": "rgb(175,175,175)",
           "width": 0.5
          },
          "path": "M -0.37045173608524434, 0.9288517164926964 Q -0.1699013183763448, -0.10551560080850567 0.6683576300530483, -0.7438400892328085L 0.6683576300530483, -0.7438400892328085 L 0.6161919000543548, -0.7875960527500148 L 0.5611695982347875, -0.827700840894225 M 0.5611695982347875, -0.827700840894225 Q -0.1698341199419444, -0.10562372699135954 -0.49424733617446526, 0.869321327636936L -0.49424733617446526, 0.869321327636936 L -0.43337292046346215, 0.9012146868582256 L -0.37045173608524434, 0.9288517164926964 ",
          "type": "path"
         },
         {
          "fillcolor": "rgba(166, 247, 136, 0.75)",
          "layer": "below",
          "line": {
           "color": "rgb(175,175,175)",
           "width": 0.5
          },
          "path": "M -0.9061751322234838, -0.42290262441814147 Q -0.059236795869915815, -0.19102618149108758 0.5079131664702673, -0.8614082744704432L 0.5079131664702673, -0.8614082744704432 L 0.4857515622631263, -0.8740969166854051 L 0.4632731808374039, -0.8862155267861166 M 0.4632731808374039, -0.8862155267861166 Q -0.048979829585324416, -0.1939097117057126 -0.8285519070289976, -0.5599122586250557L -0.8285519070289976, -0.5599122586250557 L -0.8700645867662918, -0.49293773932942264 L -0.9061751322234838, -0.42290262441814147 ",
          "type": "path"
         },
         {
          "fillcolor": "rgba(244, 109, 67, 0.75)",
          "layer": "below",
          "line": {
           "color": "rgb(150,150,150)",
           "width": 0.45
          },
          "path": "M 1.1, 0.0 L 1.0997690874525485, 0.02253784115191134 L 1.0990764467567478, 0.04506621999416005 L 1.097922368711557, 0.06757567818974902 L 1.096307337846251, 0.09005676534534424 L 1.094232032216996, 0.11250004297893738 L 1.0916973231221738, 0.13489608848250748 L 1.0887042747365727, 0.15723549907801807 L 1.0852541436646066, 0.1795088957650888 L 1.081348378412739, 0.2017069272586844 L 1.0769886187813404, 0.22382027391516737 L 1.0721766951762346, 0.24583965164506666 L 1.0669146278402173, 0.26775581581091873 L 1.0612046260048766, 0.28955956510854564 L 1.0550490869630667, 0.3112417454301394 L 1.0484505950624257, 0.3327932537075323 L 1.041411920620361, 0.3542050417340374 L 1.0339360187609568, 0.3754681199632571 L 1.0260260281742906, 0.396573561283263 L 1.017685269798684, 0.4175125047645637 L 1.0089172454264355, 0.4382761593802862 L 0.9997256362336246, 0.45885580769700907 L 0.9901143012346042, 0.4792428095346987 L 0.980087275661827, 0.49942860559421126 L 0.9696487692716899, 0.5194047210508366 L 0.9588031645771059, 0.5391627691123779 L 0.9475550150075455, 0.5586944545402706 L 0.9359090429973198, 0.5779915771322635 L 0.9238701380029097, 0.5970460351651996 L 0.9114433544501711, 0.6158498287964524 L 0.8986339096122801, 0.6343950634225872 L 0.8854471814193074, 0.6526739529938391 L 0.8718887062003434, 0.6706788232830162 L 0.8579641763591195, 0.6884021151074551 L 0.8436794379841042, 0.705836387502675 L 0.8290404883940754, 0.7229743208463998 L 0.8140534736202002, 0.7398087199316362 L 0.7987246858256789, 0.7563325169875157 L 0.7830605606640367, 0.7725387746466351 L 0.7670676745771732, 0.7884206888576478 L 0.7507527420343019, 0.803971591741883 L 0.7341226127129408, 0.819184954392795 L 0.7171842686231373, 0.8340543896170657 L 0.6999448211761339, 0.8485736546162096 L 0.6824115081987063, 0.8627366536075577 L 0.6645916908944272, 0.8765374403835163 L 0.6464928507531307, 0.8899702208080282 L 0.6281225864098766, 0.9030293552491897 L 0.6094886104547321, 0.9157093609469983 L 0.59059874619471, 0.9280049143152405 L 0.5714609243692232, 0.9399108531765515 L 0.552083179820436, 0.9514221789297096 L 0.5324736481199082, 0.9625340586482519 L 0.5126405621529474, 0.9732418271095372 L 0.492592248662107, 0.9835409887533967 L 0.47233712475127854, 0.9934272195695542 L 0.45188369435184605, 1.0028963689130237 L 0.4312405446523868, 1.0119444612467192 L 0.4104163424934185, 1.0205676978105496 L 0.38941983072870323, 1.0287624582162922 L 0.3682598245546393, 1.0365253019675817 L 0.34694520780928095, 1.0438529699043706 L 0.3254849292425381, 1.050742385571259 L 0.30388799875912553, 1.0571906565091151 L 0.282163483635834, 1.0631950754694506 L 0.2603205047147168, 1.0687531215510322 L 0.2383682325737858, 1.0738624612582608 L 0.21631588367682714, 1.0785209494808683 L 0.1941727165039522, 1.082726630394522 L 0.17194802766450729, 1.0864777382819613 L 0.1496511479939764, 1.0897726982743168 L 0.13604649817634218, 0.9907024529766516 L 0.1563163887859157, 0.9877070348017829 L 0.17652065136722928, 0.9842969367222927 L 0.1966508033425701, 0.9804735904371529 L 0.21669839324889617, 0.9762386011438734 L 0.23665500428610614, 0.9715937468645746 L 0.25651225785075815, 0.9665409776995004 L 0.27626181705375047, 0.9610824150082864 L 0.29589539022048916, 0.9552203505193262 L 0.31540473437207356, 0.9489572453676096 L 0.3347816586860357, 0.9422957290614379 L 0.3540180279351847, 0.9352385983784474 L 0.37310576590310773, 0.9277888161914086 L 0.3920368587748971, 0.9199495102242902 L 0.4108033585016782, 0.9117239717391123 L 0.4293973861375259, 0.9031156541541401 L 0.44781113514737, 0.8941281715939969 L 0.46603687468449756, 0.8847652973723065 L 0.48406695283628015, 0.8750309624075017 L 0.50189379983676, 0.8649292535724632 L 0.5195099312447483, 0.8544644119786832 L 0.5369079510860999, 0.8436408311956731 L 0.5540805549588473, 0.832463055406362 L 0.5710205330998878, 0.8209357774992633 L 0.587720773411937, 0.8090638370982074 L 0.6041742644494792, 0.7968522185304693 L 0.6203740983624603, 0.7843060487341433 L 0.6363134737964853, 0.771430595105645 L 0.6519856987483066, 0.7582312632882414 L 0.6673841933754007, 0.7447135949025409 L 0.6825024927584562, 0.7308832652198937 L 0.697334249615612, 0.7167460807796798 L 0.7118732369673061, 0.7023079769514864 L 0.7261133507506171, 0.687575015443196 L 0.7400486123820001, 0.6725533817560329 L 0.7536731712673412, 0.6572493825876361 L 0.7669813072582764, 0.6416694431842499 L 0.7799674330537449, 0.625820104643141 L 0.7926260965457667, 0.6097080211663783 L 0.8049519831084613, 0.5933399572671264 L 0.8169399178293455, 0.5767227849296247 L 0.8285848676819737, 0.5598634807240477 L 0.8398819436390088, 0.5427691228774542 L 0.8508264027248361, 0.5254468883020577 L 0.8614136500068594, 0.5079040495820641 L 0.8716392405246417, 0.4901479719203435 L 0.8814988811560817, 0.472186110046215 L 0.8909884324198426, 0.45402600508564656 L 0.9001039102132765, 0.43567528139518064 L 0.9088414874851133, 0.4171416433609173 L 0.917197495842214, 0.3984328721638965 L 0.9251684270897127, 0.3795568225132397 L 0.9327509347039005, 0.36052141934842086 L 0.9399418352372333, 0.34133465451205186 L 0.9467381096548735, 0.32200458339457944 L 0.953136904602205, 0.30253932155230207 L 0.9591355336027878, 0.2829470413001267 L 0.9647314781862514, 0.263235968280496 L 0.9699223889456521, 0.2434143780099261 L 0.9747060865238496, 0.22349059240460603 L 0.9790805625284913, 0.20347297628651578 L 0.9830439803752171, 0.18336993387153125 L 0.9865946760587332, 0.1631899052409898 L 0.9897311588514297, 0.14294136279819822 L 0.9924521119292488, 0.12263280771137043 L 0.9947563929245419, 0.10227276634448852 L 0.9966430344056826, 0.08186978667758567 L 0.9981112442832334, 0.06143243471795365 L 0.9991604061424979, 0.04096929090378186 L 0.9997900795023168, 0.02048894650173758 L 1.0, 0.0 L 1.1 ,0.0",
          "type": "path"
         },
         {
          "fillcolor": "rgba(253, 174, 97, 0.75)",
          "layer": "below",
          "line": {
           "color": "rgb(150,150,150)",
           "width": 0.45
          },
          "path": "M 0.115346716510826, 1.0939356173880486 L 0.08906940672187608, 1.096387997374202 L 0.06274082599297501, 1.0982092645546746 L 0.03637612982061937, 1.0993983705551293 L 0.009990494490405757, 1.0999546308915824 L 0.009082267718550687, 0.999958755355984 L 0.03306920892783579, 0.9994530641410266 L 0.05703711453906818, 0.9983720586860678 L 0.08097218792897824, 0.9967163612492744 L 0.10486065137347816, 0.994486924898226 L 0.115346716510826 ,1.0939356173880486",
          "type": "path"
         },
         {
          "fillcolor": "rgba(254, 224, 139, 0.75)",
          "layer": "below",
          "line": {
           "color": "rgb(150,150,150)",
           "width": 0.45
          },
          "path": "M -0.024564845123348826, 1.099725678696313 L -0.06573784785936991, 1.0980339408956439 L -0.10681859604842019, 1.0948012548121437 L -0.14774943818627748, 1.0900321571016331 L -0.18847293314242888, 1.0837333405744651 L -0.1713390301294808, 0.9852121277949683 L -0.13431767107843406, 0.9909383246378483 L -0.09710781458947289, 0.9952738680110398 L -0.059761679872154465, 0.9982126735414945 L -0.022331677384862567, 0.999750616996648 L -0.024564845123348826 ,1.099725678696313",
          "type": "path"
         },
         {
          "fillcolor": "rgba(217, 239, 106, 0.75)",
          "layer": "below",
          "line": {
           "color": "rgb(150,150,150)",
           "width": 0.45
          },
          "path": "M -0.2224208199929493, 1.0772785056955625 L -0.24445402504910876, 1.0724934636804506 L -0.26638452734235263, 1.0672578336993324 L -0.28820311318443337, 1.061573815403715 L -0.3099006159066963, 1.055443796827027 L -0.3314679197112837, 1.048870353381329 L -0.3528959635009648, 1.0418562467753052 L -0.3741757446859863, 1.0344044238539818 L -0.39529832296634076, 1.0265180153606652 L -0.4162548240878659, 1.0182003346216204 L -0.43703644357059523, 1.009454876154039 L -0.45763445040779555, 1.0002853141978818 L -0.4780401907341344, 0.9906955011722182 L -0.49824509146143925, 0.9806894660567035 L -0.5182406638805196, 0.9702714126988792 L -0.5380185072275379, 0.959445718048005 L -0.5575703122134332, 0.9482169303161672 L -0.5768878645149126, 0.9365897670674307 L -0.5959630482255444, 0.9245691132358455 L -0.614787849265504, 0.9121600190731318 L -0.6333543587485382, 0.8993676980269127 L -0.6516547763047368, 0.8861975245503813 L -0.6696814133577091, 0.8726550318443258 L -0.6874266963547961, 0.8587459095324596 L -0.7048831699489557, 0.8444760012710318 L -0.7220435001309874, 0.829851302293726 L -0.7389004773107773, 0.8148779568928745 L -0.7554470193462729, 0.7995622558380505 L -0.771676174518911, 0.7839106337331185 L -0.7875811244542519, 0.7679296663128572 L -0.803155186986592, 0.7516260676802877 L -0.8183918189663485, 0.7350066874858703 L -0.833284619009043, 0.7180785080497496 L -0.8478273301847195, 0.7008486414282694 L -0.8620138426466795, 0.6833243264259703 L -0.875838196198417, 0.6655129255543453 L -0.8892945827976833, 0.6474219219386185 L -0.9023773489966276, 0.6290589161738499 L -0.9150809983169857, 0.6104316231316894 L -0.9274001935593231, 0.5915478687191175 L -0.9393297590453581, 0.572415586590538 L -0.9508646827924262, 0.5530428148146026 L -0.9620001186191706, 0.5334376924971668 L -0.9727313881815735, 0.5136084563617983 L -0.9830539829384747, 0.49356343728927227 L -0.9929635660457513, 0.47331105681750657 L -1.0024559741783594, 0.4528598236034157 L -1.0115272192794784, 0.4322183298481522 L -1.0201734902360178, 0.4113952476872601 L -1.0283911544797837, 0.39039932554723755 L -1.0361767595136353, 0.36923938447005067 L -1.0435270343619867, 0.3479243144071385 L -1.0504388909450442, 0.326463070484467 L -1.0569094253762066, 0.3048646692402013 L -1.062935919182078, 0.2831381848365765 L -1.0685158404445831, 0.2612927452475598 L -1.073646844864706, 0.23933752842390127 L -1.0783267767474016, 0.21728175843719555 L -1.0825536699072715, 0.19513470160455468 L -1.0863257484946194, 0.17290566259554652 L -1.089641427741542, 0.1506039805230053 L -1.0924993146277382, 0.12823902501938655 L -1.09489820846576, 0.105820192300285 L -1.096837101405461, 0.08335690121679644 L -1.0983151788574232, 0.06085858929836223 L -1.099331819835193, 0.03833470878776908 L -1.0998865972161762, 0.01579472266996707 L -1.099979277921086, -0.0067518993036256875 L -1.0996098230118667, -0.029295684593660498 L -1.0987783877080526, -0.051827161852569914 L -1.0974853213215559, -0.07433686490377094 L -1.095731167109909, -0.09681533671870848 L -1.0935166620480263, -0.11925313339004037 L -1.090842736518577, -0.14164082809932518 L -1.087710513921103, -0.16396901507751507 L -1.0841213102000429, -0.1862283135566201 L -1.0800766332918634, -0.2084093717108561 L -0.9818878484471485, -0.18946306519168735 L -0.9855648274545843, -0.1692984668696546 L -0.9888277399282753, -0.14906274097955916 L -0.9916752150168882, -0.1287643891812047 L -0.9941060564072965, -0.10841193944549124 L -0.9961192428271899, -0.08801394247155316 L -0.9977139284741416, -0.06757896809433721 L -0.9988894433709569, -0.04711560168415446 L -0.9996452936471515, -0.02663244053969136 L -0.9999811617464418, -0.0061380902760233514 L -0.9998969065601601, 0.014358838790879153 L -0.9993925634865389, 0.034849735261608256 L -0.9984683444158392, 0.055325990271238384 L -0.9971246376413281, 0.07577900110617858 L -0.9953620076961454, 0.0962001748184409 L -0.9931811951161255, 0.11658093183580595 L -0.9905831161286746, 0.13691270956636845 L -0.9875688622678358, 0.15718696599595136 L -0.9841396999157013, 0.17739518327686787 L -0.980297069770365, 0.1975288713065414 L -0.9760425862406419, 0.21757957129445568 L -0.9713780367678029, 0.23753885931596344 L -0.9663053810746162, 0.2573983498514332 L -0.9608267503420058, 0.27714969930927386 L -0.9549444463136764, 0.2967846095313336 L -0.9486609403290787, 0.3162948312792168 L -0.941978872285123, 0.33567216770004604 L -0.934901049527076, 0.35490847777021595 L -0.9274304456691069, 0.373995679715691 L -0.9195701993449803, 0.39292575440741107 L -0.9113236128894175, 0.41169074873037786 L -0.902694150950683, 0.43028277892500594 L -0.8936854390349769, 0.4486940338993384 L -0.8843012619832485, 0.46691677851072566 L -0.8745455623810641, 0.48494335681560613 L -0.8644224389022056, 0.5027661952860023 L -0.8539361445866891, 0.5203778059913982 L -0.84309108505393, 0.5377707897446522 L -0.8318918166518051, 0.5549378392106267 L -0.8203430445423886, 0.5718717419762271 L -0.8084496207251666, 0.5885653835805622 L -0.7962165419985608, 0.6050117505039502 L -0.7836489478606177, 0.6212039331145184 L -0.7707521183497449, 0.637135128571154 L -0.7575314718264027, 0.6527986436815905 L -0.7439925626966803, 0.6681878977144274 L -0.73014107907872, 0.6832964251638979 L -0.7159828404129562, 0.6981178784662337 L -0.7015237950171918, 0.7126460306664714 L -0.6867700175875208, 0.7268747780345913 L -0.6717277066461612, 0.7407981426298859 L -0.6564031819372612, 0.754410274812478 L -0.6408028817717779, 0.767705455700938 L -0.6249333603225419, 0.7806780995749631 L -0.6088012848706447, 0.7933227562221143 L -0.5924134330043062, 0.8056341132276192 L -0.5757766897713983, 0.8176069982062842 L -0.5588980447868218, 0.8292363809755743 L -0.5417845892959494, 0.8405173756689504 L -0.5244435131953751, 0.8514452427885733 L -0.506882102012212, 0.8620153911965155 L -0.48910773384321615, 0.8722233800436409 L -0.47112787625501773, 0.8820649206353446 L -0.45295008314676294, 0.8915358782333668 L -0.4345819915764858, 0.9006322737929255 L -0.4160313185525414, 0.9093502856344379 L -0.39730585779145017, 0.9176862510491263 L -0.3784134764435144, 0.9256366678378367 L -0.3593621117875825, 0.9331981957824228 L -0.34015976789635116, 0.9403676580490742 L -0.32081451227360436, 0.9471420425230047 L -0.3013344724648033, 0.9535185030739355 L -0.28172783264245116, 0.9594943607518426 L -0.2620028301676667, 0.9650671049124682 L -0.24216775212941147, 0.9702343942721202 L -0.22223093186282614, 0.9749940578913187 L -0.2022007454481357, 0.979344096086875 L -0.2224208199929493 ,1.0772785056955625",
          "type": "path"
         },
         {
          "fillcolor": "rgba(166, 247, 136, 0.75)",
          "layer": "below",
          "line": {
           "color": "rgb(150,150,150)",
           "width": 0.45
          },
          "path": "M -1.0729973841085163, -0.2422325611809474 L -1.0678214141514346, -0.26411631430040533 L -1.0621991748719606, -0.28588968659489283 L -1.0561330159447502, -0.3075435784266126 L -1.0496254725696017, -0.329068940091648 L -1.042679264411933, -0.35045677560205746 L -1.0352972944661645, -0.37169814644552635 L -1.0274826478424863, -0.3927841753209939 L -1.0192385904775125, -0.41370604984869846 L -1.0105685677693637, -0.4344550262530949 L -1.0014762031377504, -0.45502243301709366 L -0.991965296509654, -0.4753996745061091 L -0.982039822731243, -0.4955782345603862 L -0.9717039299066839, -0.515549680054121 L -0.9609619376645455, -0.5353056644198736 L -0.9498183353525185, -0.5548379311368058 L -0.9382777801612028, -0.5741383171812918 L -0.9263450951777522, -0.5931987564384483 L -0.9140252673701856, -0.6120112830731644 L -0.9013234455032068, -0.6305680348592275 L -0.8882449379864087, -0.6488612564651408 L -0.8747952106557536, -0.6668833026952736 L -0.8609798844892658, -0.6846266416849777 L -0.846804733257882, -0.7020838580483442 L -0.8322756811124487, -0.7192476559772787 L -0.8173988001078719, -0.7361108622906005 L -0.8021803076654517, -0.7526664294318975 L -0.7866265639744664, -0.768907438414875 L -0.7707440693340919, -0.7848271017149732 L -0.7545394614367618, -0.8004187661060438 L -0.7380195125941097, -0.8156759154409017 L -0.7211911269066508, -0.8305921733745841 L -0.7040613373783862, -0.8451613060291855 L -0.6866373029775337, -0.8593772245991506 L -0.6689263056446131, -0.8732339878959418 L -0.6509357472491458, -0.8867258048310065 L -0.6326731464962252, -0.8998470368360203 L -0.6141461357842594, -0.9125922002193873 L -0.595362458015205, -0.924955968458009 L -0.576329963358613, -0.9369331744233736 L -0.5570566059708426, -0.94851881254103 L -0.5375504406708256, -0.9597080408825391 L -0.5178196195737533, -0.9704961831890394 L -0.4978723886841006, -0.9808787308255736 L -0.47771708444941907, -0.9908513446653573 L -0.45736213027632366, -1.0004098569032112 L -0.43681603301014127, -1.0095502727973895 L -0.416087379379684, -1.018268772339085 L -0.39518483240864466, -1.0265617118489037 L -0.3741171277950994, -1.0344256254996516 L -0.35289307026064165, -1.0418572267647894 L -0.33152152987066513, -1.0488534097919564 L -0.3100114383273468, -1.0554112507009814 L -0.28837178523686174, -1.0615280088058467 L -0.26661161435239894, -1.06720112776009 L -0.24474001979455584, -1.072428236625165 L -0.2227661422506745, -1.0772071508613152 L -0.2006991651547167, -1.0815358732405504 L -0.1785483108492824, -1.085412594681335 L -0.15632283673135888, -1.088835695004651 L -0.13403203138341974, -1.0918037436111099 L -0.11168521069149921, -1.0943155000788372 L -0.08929171395184736, -1.0963699146818748 L -0.06686089996780101, -1.0979661288288887 L -0.04440214313851129, -1.0991034754219946 L -0.021924829541143536, -1.0997814791355562 L 0.0005616469917986779, -1.0999998566148348 L 0.023047888798390422, -1.09975851659441 L 0.04552449831480773, -1.0990575599363235 L 0.06798208200279908, -1.0978972795879243 L 0.09041125427548337, -1.0962781604594403 L 0.11280264141982466, -1.0942008792213205 L 0.13514688551413592, -1.0916663040214392 L 0.15743464833899187, -1.0886754941222743 L 0.1796566152799077, -1.085229699458215 L 0.2018034992201441, -1.0813303601131827 L 0.22386604442202887, -1.0769791057187852 L 0.24583503039516452, -1.0721777547732507 L 0.2677012757498964, -1.0669283138814332 L 0.28945564203444835, -1.0612329769162026 L 0.31108903755411355, -1.0550941241015683 L 0.33259242117089594, -1.0485143210179255 L 0.3539568060820317, -1.0414963175298353 L 0.375173263575798, -1.0340430466367854 L 0.39623292676304833, -1.0261576232474177 L 0.4171269942829028, -1.0178433428777296 L 0.43784673398106055, -1.0091036802737956 L 0.45838348655918415, -0.9999422879595834 L 0.47872866919384105, -0.9903629947104718 L 0.43520788108531, -0.9003299951913379 L 0.4167122605083492, -0.9090384435996212 L 0.39804248543732773, -0.9173669820670868 L 0.3792063584390025, -0.925312129888845 L 0.3602117516027712, -0.9328705665885614 L 0.3410666032507254, -0.9400391333061684 L 0.32177891462002883, -0.9468148341180319 L 0.3023567465189963, -0.9531948372890232 L 0.28280821595828504, -0.959176476455971 L 0.2631414927585894, -0.9647572517420023 L 0.24336479613626943, -0.9699348308013028 L 0.22348639126833136, -0.9747070497938641 L 0.20351458583820806, -0.9790719142898047 L 0.18345772656376735, -0.9830276001028934 L 0.163324195709007, -0.9865724540529226 L 0.1431224075809017, -0.989704994656613 L 0.12286080501285083, -0.9924239127467628 L 0.10254785583620422, -0.9947280720193822 L 0.08219204934134851, -0.9966165095085819 L 0.06180189272981734, -0.9980884359890221 L 0.041385907558916114, -0.9991432363057485 L 0.020952626180354927, -0.9997804696312818 L 0.0005105881743624344, -0.9999998696498497 L -0.019931663219221393, -0.9998013446686874 L -0.0403655846713739, -0.9991849776563587 L -0.060782636334364544, -0.9981510262080806 L -0.08117428541077032, -0.996699922438068 L -0.10153200971954474, -0.9948322727989428 L -0.12184730125765429, -0.9925488578282816 L -0.1421116697557808, -0.9898506318224098 L -0.16231664622662037, -0.9867387224375773 L -0.1824537865042879, -0.9832144302186822 L -0.20251467477334045, -0.9792792280557411 L -0.22249092708595983, -0.9749347605683316 L -0.24237419486581718, -0.9701828434182636 L -0.262156168397147, -0.9650254625507696 L -0.28182858029758795, -0.9594647733645285 L -0.30138320897333193, -0.9535030998108694 L -0.3208118820551287, -0.9471429334225359 L -0.3401064798137267, -0.9403869322724104 L -0.3592589385533133, -0.9332379198626397 L -0.3782612539815309, -0.9256988839446226 L -0.39710548455467387, -0.917772975270354 L -0.41578375479665786, -0.9094635062756464 L -0.43428825859038095, -0.9007739496957793 L -0.4526112624400914, -0.8917079371141577 L -0.4707451087034121, -0.8822692574445812 L -0.4886822187916596, -0.8724618553477628 L -0.5064150963371296, -0.8622898295827545 L -0.5239363303260117, -0.851757431293976 L -0.5412385981956409, -0.8408690622345536 L -0.5583146688947812, -0.8296292729267156 L -0.5751574059056592, -0.8180427607600184 L -0.5917597702264962, -0.8061143680281877 L -0.6081148233132846, -0.7938490799054015 L -0.624215729979576, -0.7812520223628641 L -0.6400557612530783, -0.7683284600265322 L -0.6556282971878643, -0.7550837939768946 L -0.6709268296310088, -0.7415235594917288 L -0.6859449649425107, -0.727653423732767 L -0.7006764266673562, -0.7134791833772482 L -0.7151150581586058, -0.6990067621953409 L -0.7292548251504105, -0.6842422085744523 L -0.7430898182798835, -0.669191692991455 L -0.7566142555567714, -0.6538615054338897 L -0.7698224847798927, -0.6382580527712219 L -0.7827089858993325, -0.6223878560772523 L -0.7952683733234123, -0.6062575479047941 L -0.8074953981694624, -0.5898738695137643 L -0.8193849504574606, -0.5732436680538432 L -0.8309320612456232, -0.5563738937028767 L -0.8421319047070474, -0.5392715967622257 L -0.852979800146548, -0.5219439247102653 L -0.8634712139568349, -0.504398119215278 L -0.8736017615132231, -0.4866415131089759 L -0.8833672090060761, -0.4686815273219282 L -0.8927634752102208, -0.45052566778216924 L -0.9017866331905945, -0.43218152227828094 L -0.9104329119434094, -0.41365675728826695 L -0.9186986979721486, -0.3949591147755408 L -0.9265805367977386, -0.3760964089533622 L -0.9340751344022603, -0.3570765230190853 L -0.9411793586056041, -0.33790740585956935 L -0.9478902403744843, -0.3185970687291431 L -0.9542049750632742, -0.29915358190149816 L -0.9601209235861365, -0.27958507129692056 L -0.9656356135199642, -0.2598997150862662 L -0.9707467401376678, -0.24010574027309572 L -0.9754521673713783, -0.22021141925540672 L -1.0729973841085163 ,-0.2422325611809474",
          "type": "path"
         },
         {
          "fillcolor": "rgba(186, 27, 166, 0.75)",
          "layer": "below",
          "line": {
           "color": "rgb(150,150,150)",
           "width": 0.45
          },
          "path": "M 0.5096004989211443, -0.9748370794647283 L 0.5297067280541831, -0.9640595325259389 L 0.5495851325263793, -0.9528673475914484 L 0.5692271627186379, -0.9412653383734522 L 0.5886243706754585, -0.9292584948478655 L 0.6077684137383661, -0.9168519811081559 L 0.6266510581340539, -0.9040511331442879 L 0.6452641825156945, -0.8908614565477354 L 0.6635997814558979, -0.877288624143551 L 0.6816499688898114, -0.8633384735505069 L 0.6994069815068868, -0.8490170046703572 L 0.7168631820898428, -0.8343303771073095 L 0.7340110627994036, -0.8192849075188008 L 0.7508432484033893, -0.8038870668987319 L 0.7673524994487716, -0.7881434777943183 L 0.783531715375333, -0.7720609114577609 L 0.7993739375695877, -0.7556462849339584 L 0.8148723523576537, -0.7389066580855149 L 0.8300202939357836, -0.7218492305563231 L 0.8448112472373004, -0.7044813386750263 L 0.8592388507347004, -0.6868104522996948 L 0.8732968991757196, -0.6688441716050707 L 0.8869793462521867, -0.6505902238137642 L 0.9002803072005153, -0.6320564598728076 L 0.9131940613327164, -0.6132508510769954 L 0.9257150544968417, -0.5941814856404648 L 0.9378379014658037, -0.5748565652179835 L 0.9495573882535348, -0.5552844013774618 L 0.9608684743575066, -0.5354734120251705 L 0.9717662949266249, -0.5154321177852426 L 0.9822461628535837, -0.4951691383349848 L 0.9923035707907703, -0.4746931886975912 L 1.0019341930888568, -0.4540130754938472 L 1.0111338876572435, -0.4331376931544393 L 1.0198986977455555, -0.4120760200944972 L 1.0282248536454237, -0.39083711485201467 L 1.0361087743118222, -0.3694301121918102 L 1.043547068903259, -0.3478642191767025 L 1.050536538240164, -0.3261487112075913 L 1.0570741761808424, -0.30429292803414565 L 1.063157170914404, -0.2823062697378168 L 1.0687829061701115, -0.26019819268890193 L 1.0739489623426268, -0.23797820547939982 L 1.0786531175326748, -0.21565586483340005 L 1.082893348502671, -0.19324077149678623 L 1.0866678315469092, -0.17074256610798189 L 1.089974943275929, -0.14817092505156232 L 1.092813261314729, -0.12553555629647709 L 1.0951815649145247, -0.10284619522069399 L 1.0970788354777865, -0.08011260042405335 L 1.0985042569963357, -0.05734454953113492 L 1.0994572164023046, -0.03455183498594218 L 0.9995065603657315, -0.03141075907812925 L 0.9986402336330323, -0.05213140866466811 L 0.9973443958888968, -0.0728296367491394 L 0.9956196044677496, -0.0934965411097218 L 0.9934666011952081, -0.11412323299679734 L 0.9908863120690262, -0.13470084095596574 L 0.9878798468608264, -0.15522051464361988 L 0.9844484986387917, -0.175673428633442 L 0.9805937432115225, -0.19605078621218183 L 0.976317238493297, -0.21634382316309073 L 0.9716208237910103, -0.23654381153536538 L 0.9665065190130945, -0.25664206339801526 L 0.9609765238007657, -0.27662993457649604 L 0.9550332165819672, -0.29649882837053754 L 0.9486791535484173, -0.3162401992515477 L 0.941917067556202, -0.33584555653800924 L 0.9347498669503852, -0.35530646804728605 L 0.9271806343141412, -0.37461456372227014 L 0.9192126251429485, -0.3937615392313084 L 0.9108492664444151, -0.412739159539861 L 0.9020941552643366, -0.4315392624523556 L 0.8929510571396214, -0.45015376212271346 L 0.8834239044787499, -0.4685746525320386 L 0.8735167948704604, -0.4867940109319731 L 0.8632339893213952, -0.504804001252238 L 0.8525799104234578, -0.522596877470894 L 0.8415591404516741, -0.540164986945877 L 0.8301764193933785, -0.5575007737063594 L 0.8184366429095593, -0.5745967817025522 L 0.8063448602292606, -0.5914456580125128 L 0.7939062719779268, -0.6080401560046097 L 0.7811262279406367, -0.624373138454268 L 0.7680102247611821, -0.6404375806136602 L 0.754563903577985, -0.6562265732330209 L 0.7407930475978669, -0.6717333255322863 L 0.7267035796087161, -0.6869511681217803 L 0.7123015594321208, -0.7018735558706917 L 0.697593181317065, -0.7164940707221075 L 0.6825847712758084, -0.7308064244533926 L 0.6672827843630942, -0.744804461380728 L 0.651693801899857, -0.7584821610066449 L 0.6358245286426244, -0.7718336406094156 L 0.6196817898998286, -0.784853157773188 L 0.6032725285962708, -0.7975351128577736 L 0.5866038022869949, -0.8098740514070322 L 0.5696827801218671, -0.821864666494807 L 0.552516739762151, -0.8335018010074144 L 0.5351130642504167, -0.8447804498616959 L 0.5174792388351254, -0.8556957621576837 L 0.4996228477512539, -0.866243043264953 L 0.4815515709583482, -0.8764177568417626 L 0.4632731808374039, -0.8862155267861166 L 0.5096004989211443 ,-0.9748370794647283",
          "type": "path"
         }
        ],
        "showlegend": false,
        "template": {
         "data": {
          "bar": [
           {
            "error_x": {
             "color": "#2a3f5f"
            },
            "error_y": {
             "color": "#2a3f5f"
            },
            "marker": {
             "line": {
              "color": "#E5ECF6",
              "width": 0.5
             }
            },
            "type": "bar"
           }
          ],
          "barpolar": [
           {
            "marker": {
             "line": {
              "color": "#E5ECF6",
              "width": 0.5
             }
            },
            "type": "barpolar"
           }
          ],
          "carpet": [
           {
            "aaxis": {
             "endlinecolor": "#2a3f5f",
             "gridcolor": "white",
             "linecolor": "white",
             "minorgridcolor": "white",
             "startlinecolor": "#2a3f5f"
            },
            "baxis": {
             "endlinecolor": "#2a3f5f",
             "gridcolor": "white",
             "linecolor": "white",
             "minorgridcolor": "white",
             "startlinecolor": "#2a3f5f"
            },
            "type": "carpet"
           }
          ],
          "choropleth": [
           {
            "colorbar": {
             "outlinewidth": 0,
             "ticks": ""
            },
            "type": "choropleth"
           }
          ],
          "contour": [
           {
            "colorbar": {
             "outlinewidth": 0,
             "ticks": ""
            },
            "colorscale": [
             [
              0,
              "#0d0887"
             ],
             [
              0.1111111111111111,
              "#46039f"
             ],
             [
              0.2222222222222222,
              "#7201a8"
             ],
             [
              0.3333333333333333,
              "#9c179e"
             ],
             [
              0.4444444444444444,
              "#bd3786"
             ],
             [
              0.5555555555555556,
              "#d8576b"
             ],
             [
              0.6666666666666666,
              "#ed7953"
             ],
             [
              0.7777777777777778,
              "#fb9f3a"
             ],
             [
              0.8888888888888888,
              "#fdca26"
             ],
             [
              1,
              "#f0f921"
             ]
            ],
            "type": "contour"
           }
          ],
          "contourcarpet": [
           {
            "colorbar": {
             "outlinewidth": 0,
             "ticks": ""
            },
            "type": "contourcarpet"
           }
          ],
          "heatmap": [
           {
            "colorbar": {
             "outlinewidth": 0,
             "ticks": ""
            },
            "colorscale": [
             [
              0,
              "#0d0887"
             ],
             [
              0.1111111111111111,
              "#46039f"
             ],
             [
              0.2222222222222222,
              "#7201a8"
             ],
             [
              0.3333333333333333,
              "#9c179e"
             ],
             [
              0.4444444444444444,
              "#bd3786"
             ],
             [
              0.5555555555555556,
              "#d8576b"
             ],
             [
              0.6666666666666666,
              "#ed7953"
             ],
             [
              0.7777777777777778,
              "#fb9f3a"
             ],
             [
              0.8888888888888888,
              "#fdca26"
             ],
             [
              1,
              "#f0f921"
             ]
            ],
            "type": "heatmap"
           }
          ],
          "heatmapgl": [
           {
            "colorbar": {
             "outlinewidth": 0,
             "ticks": ""
            },
            "colorscale": [
             [
              0,
              "#0d0887"
             ],
             [
              0.1111111111111111,
              "#46039f"
             ],
             [
              0.2222222222222222,
              "#7201a8"
             ],
             [
              0.3333333333333333,
              "#9c179e"
             ],
             [
              0.4444444444444444,
              "#bd3786"
             ],
             [
              0.5555555555555556,
              "#d8576b"
             ],
             [
              0.6666666666666666,
              "#ed7953"
             ],
             [
              0.7777777777777778,
              "#fb9f3a"
             ],
             [
              0.8888888888888888,
              "#fdca26"
             ],
             [
              1,
              "#f0f921"
             ]
            ],
            "type": "heatmapgl"
           }
          ],
          "histogram": [
           {
            "marker": {
             "colorbar": {
              "outlinewidth": 0,
              "ticks": ""
             }
            },
            "type": "histogram"
           }
          ],
          "histogram2d": [
           {
            "colorbar": {
             "outlinewidth": 0,
             "ticks": ""
            },
            "colorscale": [
             [
              0,
              "#0d0887"
             ],
             [
              0.1111111111111111,
              "#46039f"
             ],
             [
              0.2222222222222222,
              "#7201a8"
             ],
             [
              0.3333333333333333,
              "#9c179e"
             ],
             [
              0.4444444444444444,
              "#bd3786"
             ],
             [
              0.5555555555555556,
              "#d8576b"
             ],
             [
              0.6666666666666666,
              "#ed7953"
             ],
             [
              0.7777777777777778,
              "#fb9f3a"
             ],
             [
              0.8888888888888888,
              "#fdca26"
             ],
             [
              1,
              "#f0f921"
             ]
            ],
            "type": "histogram2d"
           }
          ],
          "histogram2dcontour": [
           {
            "colorbar": {
             "outlinewidth": 0,
             "ticks": ""
            },
            "colorscale": [
             [
              0,
              "#0d0887"
             ],
             [
              0.1111111111111111,
              "#46039f"
             ],
             [
              0.2222222222222222,
              "#7201a8"
             ],
             [
              0.3333333333333333,
              "#9c179e"
             ],
             [
              0.4444444444444444,
              "#bd3786"
             ],
             [
              0.5555555555555556,
              "#d8576b"
             ],
             [
              0.6666666666666666,
              "#ed7953"
             ],
             [
              0.7777777777777778,
              "#fb9f3a"
             ],
             [
              0.8888888888888888,
              "#fdca26"
             ],
             [
              1,
              "#f0f921"
             ]
            ],
            "type": "histogram2dcontour"
           }
          ],
          "mesh3d": [
           {
            "colorbar": {
             "outlinewidth": 0,
             "ticks": ""
            },
            "type": "mesh3d"
           }
          ],
          "parcoords": [
           {
            "line": {
             "colorbar": {
              "outlinewidth": 0,
              "ticks": ""
             }
            },
            "type": "parcoords"
           }
          ],
          "pie": [
           {
            "automargin": true,
            "type": "pie"
           }
          ],
          "scatter": [
           {
            "marker": {
             "colorbar": {
              "outlinewidth": 0,
              "ticks": ""
             }
            },
            "type": "scatter"
           }
          ],
          "scatter3d": [
           {
            "line": {
             "colorbar": {
              "outlinewidth": 0,
              "ticks": ""
             }
            },
            "marker": {
             "colorbar": {
              "outlinewidth": 0,
              "ticks": ""
             }
            },
            "type": "scatter3d"
           }
          ],
          "scattercarpet": [
           {
            "marker": {
             "colorbar": {
              "outlinewidth": 0,
              "ticks": ""
             }
            },
            "type": "scattercarpet"
           }
          ],
          "scattergeo": [
           {
            "marker": {
             "colorbar": {
              "outlinewidth": 0,
              "ticks": ""
             }
            },
            "type": "scattergeo"
           }
          ],
          "scattergl": [
           {
            "marker": {
             "colorbar": {
              "outlinewidth": 0,
              "ticks": ""
             }
            },
            "type": "scattergl"
           }
          ],
          "scattermapbox": [
           {
            "marker": {
             "colorbar": {
              "outlinewidth": 0,
              "ticks": ""
             }
            },
            "type": "scattermapbox"
           }
          ],
          "scatterpolar": [
           {
            "marker": {
             "colorbar": {
              "outlinewidth": 0,
              "ticks": ""
             }
            },
            "type": "scatterpolar"
           }
          ],
          "scatterpolargl": [
           {
            "marker": {
             "colorbar": {
              "outlinewidth": 0,
              "ticks": ""
             }
            },
            "type": "scatterpolargl"
           }
          ],
          "scatterternary": [
           {
            "marker": {
             "colorbar": {
              "outlinewidth": 0,
              "ticks": ""
             }
            },
            "type": "scatterternary"
           }
          ],
          "surface": [
           {
            "colorbar": {
             "outlinewidth": 0,
             "ticks": ""
            },
            "colorscale": [
             [
              0,
              "#0d0887"
             ],
             [
              0.1111111111111111,
              "#46039f"
             ],
             [
              0.2222222222222222,
              "#7201a8"
             ],
             [
              0.3333333333333333,
              "#9c179e"
             ],
             [
              0.4444444444444444,
              "#bd3786"
             ],
             [
              0.5555555555555556,
              "#d8576b"
             ],
             [
              0.6666666666666666,
              "#ed7953"
             ],
             [
              0.7777777777777778,
              "#fb9f3a"
             ],
             [
              0.8888888888888888,
              "#fdca26"
             ],
             [
              1,
              "#f0f921"
             ]
            ],
            "type": "surface"
           }
          ],
          "table": [
           {
            "cells": {
             "fill": {
              "color": "#EBF0F8"
             },
             "line": {
              "color": "white"
             }
            },
            "header": {
             "fill": {
              "color": "#C8D4E3"
             },
             "line": {
              "color": "white"
             }
            },
            "type": "table"
           }
          ]
         },
         "layout": {
          "annotationdefaults": {
           "arrowcolor": "#2a3f5f",
           "arrowhead": 0,
           "arrowwidth": 1
          },
          "coloraxis": {
           "colorbar": {
            "outlinewidth": 0,
            "ticks": ""
           }
          },
          "colorscale": {
           "diverging": [
            [
             0,
             "#8e0152"
            ],
            [
             0.1,
             "#c51b7d"
            ],
            [
             0.2,
             "#de77ae"
            ],
            [
             0.3,
             "#f1b6da"
            ],
            [
             0.4,
             "#fde0ef"
            ],
            [
             0.5,
             "#f7f7f7"
            ],
            [
             0.6,
             "#e6f5d0"
            ],
            [
             0.7,
             "#b8e186"
            ],
            [
             0.8,
             "#7fbc41"
            ],
            [
             0.9,
             "#4d9221"
            ],
            [
             1,
             "#276419"
            ]
           ],
           "sequential": [
            [
             0,
             "#0d0887"
            ],
            [
             0.1111111111111111,
             "#46039f"
            ],
            [
             0.2222222222222222,
             "#7201a8"
            ],
            [
             0.3333333333333333,
             "#9c179e"
            ],
            [
             0.4444444444444444,
             "#bd3786"
            ],
            [
             0.5555555555555556,
             "#d8576b"
            ],
            [
             0.6666666666666666,
             "#ed7953"
            ],
            [
             0.7777777777777778,
             "#fb9f3a"
            ],
            [
             0.8888888888888888,
             "#fdca26"
            ],
            [
             1,
             "#f0f921"
            ]
           ],
           "sequentialminus": [
            [
             0,
             "#0d0887"
            ],
            [
             0.1111111111111111,
             "#46039f"
            ],
            [
             0.2222222222222222,
             "#7201a8"
            ],
            [
             0.3333333333333333,
             "#9c179e"
            ],
            [
             0.4444444444444444,
             "#bd3786"
            ],
            [
             0.5555555555555556,
             "#d8576b"
            ],
            [
             0.6666666666666666,
             "#ed7953"
            ],
            [
             0.7777777777777778,
             "#fb9f3a"
            ],
            [
             0.8888888888888888,
             "#fdca26"
            ],
            [
             1,
             "#f0f921"
            ]
           ]
          },
          "colorway": [
           "#636efa",
           "#EF553B",
           "#00cc96",
           "#ab63fa",
           "#FFA15A",
           "#19d3f3",
           "#FF6692",
           "#B6E880",
           "#FF97FF",
           "#FECB52"
          ],
          "font": {
           "color": "#2a3f5f"
          },
          "geo": {
           "bgcolor": "white",
           "lakecolor": "white",
           "landcolor": "#E5ECF6",
           "showlakes": true,
           "showland": true,
           "subunitcolor": "white"
          },
          "hoverlabel": {
           "align": "left"
          },
          "hovermode": "closest",
          "mapbox": {
           "style": "light"
          },
          "paper_bgcolor": "white",
          "plot_bgcolor": "#E5ECF6",
          "polar": {
           "angularaxis": {
            "gridcolor": "white",
            "linecolor": "white",
            "ticks": ""
           },
           "bgcolor": "#E5ECF6",
           "radialaxis": {
            "gridcolor": "white",
            "linecolor": "white",
            "ticks": ""
           }
          },
          "scene": {
           "xaxis": {
            "backgroundcolor": "#E5ECF6",
            "gridcolor": "white",
            "gridwidth": 2,
            "linecolor": "white",
            "showbackground": true,
            "ticks": "",
            "zerolinecolor": "white"
           },
           "yaxis": {
            "backgroundcolor": "#E5ECF6",
            "gridcolor": "white",
            "gridwidth": 2,
            "linecolor": "white",
            "showbackground": true,
            "ticks": "",
            "zerolinecolor": "white"
           },
           "zaxis": {
            "backgroundcolor": "#E5ECF6",
            "gridcolor": "white",
            "gridwidth": 2,
            "linecolor": "white",
            "showbackground": true,
            "ticks": "",
            "zerolinecolor": "white"
           }
          },
          "shapedefaults": {
           "line": {
            "color": "#2a3f5f"
           }
          },
          "ternary": {
           "aaxis": {
            "gridcolor": "white",
            "linecolor": "white",
            "ticks": ""
           },
           "baxis": {
            "gridcolor": "white",
            "linecolor": "white",
            "ticks": ""
           },
           "bgcolor": "#E5ECF6",
           "caxis": {
            "gridcolor": "white",
            "linecolor": "white",
            "ticks": ""
           }
          },
          "title": {
           "x": 0.05
          },
          "xaxis": {
           "automargin": true,
           "gridcolor": "white",
           "linecolor": "white",
           "ticks": "",
           "title": {
            "standoff": 15
           },
           "zerolinecolor": "white",
           "zerolinewidth": 2
          },
          "yaxis": {
           "automargin": true,
           "gridcolor": "white",
           "linecolor": "white",
           "ticks": "",
           "title": {
            "standoff": 15
           },
           "zerolinecolor": "white",
           "zerolinewidth": 2
          }
         }
        },
        "title": {
         "text": "Paridade USD X Moedas em 05/05/2020 (fonte xe.com)"
        },
        "width": 400,
        "xaxis": {
         "visible": false
        },
        "yaxis": {
         "visible": false
        }
       }
      },
      "text/html": [
       "<div>\n",
       "        \n",
       "        \n",
       "            <div id=\"2ae1b965-98a7-402f-9501-f89f94a635c7\" class=\"plotly-graph-div\" style=\"height:400px; width:400px;\"></div>\n",
       "            <script type=\"text/javascript\">\n",
       "                require([\"plotly\"], function(Plotly) {\n",
       "                    window.PLOTLYENV=window.PLOTLYENV || {};\n",
       "                    \n",
       "                if (document.getElementById(\"2ae1b965-98a7-402f-9501-f89f94a635c7\")) {\n",
       "                    Plotly.newPlot(\n",
       "                        '2ae1b965-98a7-402f-9501-f89f94a635c7',\n",
       "                        [{\"hoverinfo\": \"text\", \"line\": {\"color\": \"rgba(244, 109, 67, 0.75)\", \"shape\": \"spline\", \"width\": 0.25}, \"mode\": \"lines\", \"text\": \"USD <br>15 comments\", \"type\": \"scatter\", \"x\": [1.1, 1.0997690874525485, 1.0990764467567478, 1.097922368711557, 1.096307337846251, 1.094232032216996, 1.0916973231221738, 1.0887042747365727, 1.0852541436646066, 1.081348378412739, 1.0769886187813404, 1.0721766951762346, 1.0669146278402173, 1.0612046260048766, 1.0550490869630667, 1.0484505950624257, 1.041411920620361, 1.0339360187609568, 1.0260260281742906, 1.017685269798684, 1.0089172454264355, 0.9997256362336246, 0.9901143012346042, 0.980087275661827, 0.9696487692716899, 0.9588031645771059, 0.9475550150075455, 0.9359090429973198, 0.9238701380029097, 0.9114433544501711, 0.8986339096122801, 0.8854471814193074, 0.8718887062003434, 0.8579641763591195, 0.8436794379841042, 0.8290404883940754, 0.8140534736202002, 0.7987246858256789, 0.7830605606640367, 0.7670676745771732, 0.7507527420343019, 0.7341226127129408, 0.7171842686231373, 0.6999448211761339, 0.6824115081987063, 0.6645916908944272, 0.6464928507531307, 0.6281225864098766, 0.6094886104547321, 0.59059874619471, 0.5714609243692232, 0.552083179820436, 0.5324736481199082, 0.5126405621529474, 0.492592248662107, 0.47233712475127854, 0.45188369435184605, 0.4312405446523868, 0.4104163424934185, 0.38941983072870323, 0.3682598245546393, 0.34694520780928095, 0.3254849292425381, 0.30388799875912553, 0.282163483635834, 0.2603205047147168, 0.2383682325737858, 0.21631588367682714, 0.1941727165039522, 0.17194802766450729, 0.1496511479939764], \"y\": [0.0, 0.02253784115191134, 0.04506621999416005, 0.06757567818974902, 0.09005676534534424, 0.11250004297893738, 0.13489608848250748, 0.15723549907801807, 0.1795088957650888, 0.2017069272586844, 0.22382027391516737, 0.24583965164506666, 0.26775581581091873, 0.28955956510854564, 0.3112417454301394, 0.3327932537075323, 0.3542050417340374, 0.3754681199632571, 0.396573561283263, 0.4175125047645637, 0.4382761593802862, 0.45885580769700907, 0.4792428095346987, 0.49942860559421126, 0.5194047210508366, 0.5391627691123779, 0.5586944545402706, 0.5779915771322635, 0.5970460351651996, 0.6158498287964524, 0.6343950634225872, 0.6526739529938391, 0.6706788232830162, 0.6884021151074551, 0.705836387502675, 0.7229743208463998, 0.7398087199316362, 0.7563325169875157, 0.7725387746466351, 0.7884206888576478, 0.803971591741883, 0.819184954392795, 0.8340543896170657, 0.8485736546162096, 0.8627366536075577, 0.8765374403835163, 0.8899702208080282, 0.9030293552491897, 0.9157093609469983, 0.9280049143152405, 0.9399108531765515, 0.9514221789297096, 0.9625340586482519, 0.9732418271095372, 0.9835409887533967, 0.9934272195695542, 1.0028963689130237, 1.0119444612467192, 1.0205676978105496, 1.0287624582162922, 1.0365253019675817, 1.0438529699043706, 1.050742385571259, 1.0571906565091151, 1.0631950754694506, 1.0687531215510322, 1.0738624612582608, 1.0785209494808683, 1.082726630394522, 1.0864777382819613, 1.0897726982743168]}, {\"hoverinfo\": \"text\", \"line\": {\"color\": \"rgba(253, 174, 97, 0.75)\", \"shape\": \"spline\", \"width\": 0.25}, \"mode\": \"lines\", \"text\": \"CNY <br>1 comments\", \"type\": \"scatter\", \"x\": [0.115346716510826, 0.08906940672187608, 0.06274082599297501, 0.03637612982061937, 0.009990494490405757], \"y\": [1.0939356173880486, 1.096387997374202, 1.0982092645546746, 1.0993983705551293, 1.0999546308915824]}, {\"hoverinfo\": \"text\", \"line\": {\"color\": \"rgba(254, 224, 139, 0.75)\", \"shape\": \"spline\", \"width\": 0.25}, \"mode\": \"lines\", \"text\": \"BRL <br>1 comments\", \"type\": \"scatter\", \"x\": [-0.024564845123348826, -0.06573784785936991, -0.10681859604842019, -0.14774943818627748, -0.18847293314242888], \"y\": [1.099725678696313, 1.0980339408956439, 1.0948012548121437, 1.0900321571016331, 1.0837333405744651]}, {\"hoverinfo\": \"text\", \"line\": {\"color\": \"rgba(217, 239, 106, 0.75)\", \"shape\": \"spline\", \"width\": 0.25}, \"mode\": \"lines\", \"text\": \"EUR <br>17 comments\", \"type\": \"scatter\", \"x\": [-0.2224208199929493, -0.24445402504910876, -0.26638452734235263, -0.28820311318443337, -0.3099006159066963, -0.3314679197112837, -0.3528959635009648, -0.3741757446859863, -0.39529832296634076, -0.4162548240878659, -0.43703644357059523, -0.45763445040779555, -0.4780401907341344, -0.49824509146143925, -0.5182406638805196, -0.5380185072275379, -0.5575703122134332, -0.5768878645149126, -0.5959630482255444, -0.614787849265504, -0.6333543587485382, -0.6516547763047368, -0.6696814133577091, -0.6874266963547961, -0.7048831699489557, -0.7220435001309874, -0.7389004773107773, -0.7554470193462729, -0.771676174518911, -0.7875811244542519, -0.803155186986592, -0.8183918189663485, -0.833284619009043, -0.8478273301847195, -0.8620138426466795, -0.875838196198417, -0.8892945827976833, -0.9023773489966276, -0.9150809983169857, -0.9274001935593231, -0.9393297590453581, -0.9508646827924262, -0.9620001186191706, -0.9727313881815735, -0.9830539829384747, -0.9929635660457513, -1.0024559741783594, -1.0115272192794784, -1.0201734902360178, -1.0283911544797837, -1.0361767595136353, -1.0435270343619867, -1.0504388909450442, -1.0569094253762066, -1.062935919182078, -1.0685158404445831, -1.073646844864706, -1.0783267767474016, -1.0825536699072715, -1.0863257484946194, -1.089641427741542, -1.0924993146277382, -1.09489820846576, -1.096837101405461, -1.0983151788574232, -1.099331819835193, -1.0998865972161762, -1.099979277921086, -1.0996098230118667, -1.0987783877080526, -1.0974853213215559, -1.095731167109909, -1.0935166620480263, -1.090842736518577, -1.087710513921103, -1.0841213102000429, -1.0800766332918634], \"y\": [1.0772785056955625, 1.0724934636804506, 1.0672578336993324, 1.061573815403715, 1.055443796827027, 1.048870353381329, 1.0418562467753052, 1.0344044238539818, 1.0265180153606652, 1.0182003346216204, 1.009454876154039, 1.0002853141978818, 0.9906955011722182, 0.9806894660567035, 0.9702714126988792, 0.959445718048005, 0.9482169303161672, 0.9365897670674307, 0.9245691132358455, 0.9121600190731318, 0.8993676980269127, 0.8861975245503813, 0.8726550318443258, 0.8587459095324596, 0.8444760012710318, 0.829851302293726, 0.8148779568928745, 0.7995622558380505, 0.7839106337331185, 0.7679296663128572, 0.7516260676802877, 0.7350066874858703, 0.7180785080497496, 0.7008486414282694, 0.6833243264259703, 0.6655129255543453, 0.6474219219386185, 0.6290589161738499, 0.6104316231316894, 0.5915478687191175, 0.572415586590538, 0.5530428148146026, 0.5334376924971668, 0.5136084563617983, 0.49356343728927227, 0.47331105681750657, 0.4528598236034157, 0.4322183298481522, 0.4113952476872601, 0.39039932554723755, 0.36923938447005067, 0.3479243144071385, 0.326463070484467, 0.3048646692402013, 0.2831381848365765, 0.2612927452475598, 0.23933752842390127, 0.21728175843719555, 0.19513470160455468, 0.17290566259554652, 0.1506039805230053, 0.12823902501938655, 0.105820192300285, 0.08335690121679644, 0.06085858929836223, 0.03833470878776908, 0.01579472266996707, -0.0067518993036256875, -0.029295684593660498, -0.051827161852569914, -0.07433686490377094, -0.09681533671870848, -0.11925313339004037, -0.14164082809932518, -0.16396901507751507, -0.1862283135566201, -0.2084093717108561]}, {\"hoverinfo\": \"text\", \"line\": {\"color\": \"rgba(166, 247, 136, 0.75)\", \"shape\": \"spline\", \"width\": 0.25}, \"mode\": \"lines\", \"text\": \"GBP <br>19 comments\", \"type\": \"scatter\", \"x\": [-1.0729973841085163, -1.0678214141514346, -1.0621991748719606, -1.0561330159447502, -1.0496254725696017, -1.042679264411933, -1.0352972944661645, -1.0274826478424863, -1.0192385904775125, -1.0105685677693637, -1.0014762031377504, -0.991965296509654, -0.982039822731243, -0.9717039299066839, -0.9609619376645455, -0.9498183353525185, -0.9382777801612028, -0.9263450951777522, -0.9140252673701856, -0.9013234455032068, -0.8882449379864087, -0.8747952106557536, -0.8609798844892658, -0.846804733257882, -0.8322756811124487, -0.8173988001078719, -0.8021803076654517, -0.7866265639744664, -0.7707440693340919, -0.7545394614367618, -0.7380195125941097, -0.7211911269066508, -0.7040613373783862, -0.6866373029775337, -0.6689263056446131, -0.6509357472491458, -0.6326731464962252, -0.6141461357842594, -0.595362458015205, -0.576329963358613, -0.5570566059708426, -0.5375504406708256, -0.5178196195737533, -0.4978723886841006, -0.47771708444941907, -0.45736213027632366, -0.43681603301014127, -0.416087379379684, -0.39518483240864466, -0.3741171277950994, -0.35289307026064165, -0.33152152987066513, -0.3100114383273468, -0.28837178523686174, -0.26661161435239894, -0.24474001979455584, -0.2227661422506745, -0.2006991651547167, -0.1785483108492824, -0.15632283673135888, -0.13403203138341974, -0.11168521069149921, -0.08929171395184736, -0.06686089996780101, -0.04440214313851129, -0.021924829541143536, 0.0005616469917986779, 0.023047888798390422, 0.04552449831480773, 0.06798208200279908, 0.09041125427548337, 0.11280264141982466, 0.13514688551413592, 0.15743464833899187, 0.1796566152799077, 0.2018034992201441, 0.22386604442202887, 0.24583503039516452, 0.2677012757498964, 0.28945564203444835, 0.31108903755411355, 0.33259242117089594, 0.3539568060820317, 0.375173263575798, 0.39623292676304833, 0.4171269942829028, 0.43784673398106055, 0.45838348655918415, 0.47872866919384105], \"y\": [-0.2422325611809474, -0.26411631430040533, -0.28588968659489283, -0.3075435784266126, -0.329068940091648, -0.35045677560205746, -0.37169814644552635, -0.3927841753209939, -0.41370604984869846, -0.4344550262530949, -0.45502243301709366, -0.4753996745061091, -0.4955782345603862, -0.515549680054121, -0.5353056644198736, -0.5548379311368058, -0.5741383171812918, -0.5931987564384483, -0.6120112830731644, -0.6305680348592275, -0.6488612564651408, -0.6668833026952736, -0.6846266416849777, -0.7020838580483442, -0.7192476559772787, -0.7361108622906005, -0.7526664294318975, -0.768907438414875, -0.7848271017149732, -0.8004187661060438, -0.8156759154409017, -0.8305921733745841, -0.8451613060291855, -0.8593772245991506, -0.8732339878959418, -0.8867258048310065, -0.8998470368360203, -0.9125922002193873, -0.924955968458009, -0.9369331744233736, -0.94851881254103, -0.9597080408825391, -0.9704961831890394, -0.9808787308255736, -0.9908513446653573, -1.0004098569032112, -1.0095502727973895, -1.018268772339085, -1.0265617118489037, -1.0344256254996516, -1.0418572267647894, -1.0488534097919564, -1.0554112507009814, -1.0615280088058467, -1.06720112776009, -1.072428236625165, -1.0772071508613152, -1.0815358732405504, -1.085412594681335, -1.088835695004651, -1.0918037436111099, -1.0943155000788372, -1.0963699146818748, -1.0979661288288887, -1.0991034754219946, -1.0997814791355562, -1.0999998566148348, -1.09975851659441, -1.0990575599363235, -1.0978972795879243, -1.0962781604594403, -1.0942008792213205, -1.0916663040214392, -1.0886754941222743, -1.085229699458215, -1.0813303601131827, -1.0769791057187852, -1.0721777547732507, -1.0669283138814332, -1.0612329769162026, -1.0550941241015683, -1.0485143210179255, -1.0414963175298353, -1.0340430466367854, -1.0261576232474177, -1.0178433428777296, -1.0091036802737956, -0.9999422879595834, -0.9903629947104718]}, {\"hoverinfo\": \"text\", \"line\": {\"color\": \"rgba(186, 27, 166, 0.75)\", \"shape\": \"spline\", \"width\": 0.25}, \"mode\": \"lines\", \"text\": \"CAD <br>11 comments\", \"type\": \"scatter\", \"x\": [0.5096004989211443, 0.5297067280541831, 0.5495851325263793, 0.5692271627186379, 0.5886243706754585, 0.6077684137383661, 0.6266510581340539, 0.6452641825156945, 0.6635997814558979, 0.6816499688898114, 0.6994069815068868, 0.7168631820898428, 0.7340110627994036, 0.7508432484033893, 0.7673524994487716, 0.783531715375333, 0.7993739375695877, 0.8148723523576537, 0.8300202939357836, 0.8448112472373004, 0.8592388507347004, 0.8732968991757196, 0.8869793462521867, 0.9002803072005153, 0.9131940613327164, 0.9257150544968417, 0.9378379014658037, 0.9495573882535348, 0.9608684743575066, 0.9717662949266249, 0.9822461628535837, 0.9923035707907703, 1.0019341930888568, 1.0111338876572435, 1.0198986977455555, 1.0282248536454237, 1.0361087743118222, 1.043547068903259, 1.050536538240164, 1.0570741761808424, 1.063157170914404, 1.0687829061701115, 1.0739489623426268, 1.0786531175326748, 1.082893348502671, 1.0866678315469092, 1.089974943275929, 1.092813261314729, 1.0951815649145247, 1.0970788354777865, 1.0985042569963357, 1.0994572164023046], \"y\": [-0.9748370794647283, -0.9640595325259389, -0.9528673475914484, -0.9412653383734522, -0.9292584948478655, -0.9168519811081559, -0.9040511331442879, -0.8908614565477354, -0.877288624143551, -0.8633384735505069, -0.8490170046703572, -0.8343303771073095, -0.8192849075188008, -0.8038870668987319, -0.7881434777943183, -0.7720609114577609, -0.7556462849339584, -0.7389066580855149, -0.7218492305563231, -0.7044813386750263, -0.6868104522996948, -0.6688441716050707, -0.6505902238137642, -0.6320564598728076, -0.6132508510769954, -0.5941814856404648, -0.5748565652179835, -0.5552844013774618, -0.5354734120251705, -0.5154321177852426, -0.4951691383349848, -0.4746931886975912, -0.4540130754938472, -0.4331376931544393, -0.4120760200944972, -0.39083711485201467, -0.3694301121918102, -0.3478642191767025, -0.3261487112075913, -0.30429292803414565, -0.2823062697378168, -0.26019819268890193, -0.23797820547939982, -0.21565586483340005, -0.19324077149678623, -0.17074256610798189, -0.14817092505156232, -0.12553555629647709, -0.10284619522069399, -0.08011260042405335, -0.05734454953113492, -0.03455183498594218]}, {\"hoverinfo\": \"text\", \"marker\": {\"color\": \"rgba(244, 109, 67, 0.75)\", \"size\": 0.5}, \"mode\": \"markers\", \"text\": \"USD commented on 7 of CNY Fb posts\", \"type\": \"scatter\", \"x\": [0.3961087673354379], \"y\": [0.808144692762379]}, {\"hoverinfo\": \"text\", \"marker\": {\"color\": \"rgba(244, 109, 67, 0.75)\", \"size\": 0.5}, \"mode\": \"markers\", \"text\": \"CNY commented on 0 of USD Fb posts\", \"type\": \"scatter\", \"x\": [0.07485644750921139], \"y\": [0.8968815486262948]}, {\"hoverinfo\": \"text\", \"marker\": {\"color\": \"rgba(244, 109, 67, 0.75)\", \"size\": 0.5}, \"mode\": \"markers\", \"text\": \"USD commented on 5 of BRL Fb posts\", \"type\": \"scatter\", \"x\": [0.7721573094340383], \"y\": [0.46235602027829925]}, {\"hoverinfo\": \"text\", \"marker\": {\"color\": \"rgba(244, 109, 67, 0.75)\", \"size\": 0.5}, \"mode\": \"markers\", \"text\": \"BRL commented on 0 of USD Fb posts\", \"type\": \"scatter\", \"x\": [-0.04687917670728041], \"y\": [0.8987782500657476]}, {\"hoverinfo\": \"text\", \"marker\": {\"color\": \"rgba(244, 109, 67, 0.75)\", \"size\": 0.5}, \"mode\": \"markers\", \"text\": \"USD commented on 0 of EUR Fb posts\", \"type\": \"scatter\", \"x\": [0.8941112569916666], \"y\": [0.10278647829739951]}, {\"hoverinfo\": \"text\", \"marker\": {\"color\": \"rgba(244, 109, 67, 0.75)\", \"size\": 0.5}, \"mode\": \"markers\", \"text\": \"EUR commented on 1 of USD Fb posts\", \"type\": \"scatter\", \"x\": [-0.2924170288924548], \"y\": [0.8511711233434257]}, {\"hoverinfo\": \"text\", \"marker\": {\"color\": \"rgba(166, 247, 136, 0.75)\", \"size\": 0.5}, \"mode\": \"markers\", \"text\": \"USD commented on 0 of GBP Fb posts\", \"type\": \"scatter\", \"x\": [0.8994034818962079], \"y\": [0.03276242898469985]}, {\"hoverinfo\": \"text\", \"marker\": {\"color\": \"rgba(166, 247, 136, 0.75)\", \"size\": 0.5}, \"mode\": \"markers\", \"text\": \"GBP commented on 1 of USD Fb posts\", \"type\": \"scatter\", \"x\": [-0.8354817420160144], \"y\": [-0.3346195731840651]}, {\"hoverinfo\": \"text\", \"marker\": {\"color\": \"rgba(244, 109, 67, 0.75)\", \"size\": 0.5}, \"mode\": \"markers\", \"text\": \"USD commented on 1 of CAD Fb posts\", \"type\": \"scatter\", \"x\": [0.878372099782421], \"y\": [0.1961184701241081]}, {\"hoverinfo\": \"text\", \"marker\": {\"color\": \"rgba(244, 109, 67, 0.75)\", \"size\": 0.5}, \"mode\": \"markers\", \"text\": \"CAD commented on 0 of USD Fb posts\", \"type\": \"scatter\", \"x\": [0.48132630838726104], \"y\": [-0.7604768141464218]}, {\"hoverinfo\": \"text\", \"marker\": {\"color\": \"rgba(254, 224, 139, 0.75)\", \"size\": 0.5}, \"mode\": \"markers\", \"text\": \"CNY commented on 0 of BRL Fb posts\", \"type\": \"scatter\", \"x\": [0.03315947617638207], \"y\": [0.8993889309635226]}, {\"hoverinfo\": \"text\", \"marker\": {\"color\": \"rgba(254, 224, 139, 0.75)\", \"size\": 0.5}, \"mode\": \"markers\", \"text\": \"BRL commented on 1 of CNY Fb posts\", \"type\": \"scatter\", \"x\": [-0.11211453530822503], \"y\": [0.8929895469559657]}, {\"hoverinfo\": \"text\", \"marker\": {\"color\": \"rgba(253, 174, 97, 0.75)\", \"size\": 0.5}, \"mode\": \"markers\", \"text\": \"CNY commented on 0 of EUR Fb posts\", \"type\": \"scatter\", \"x\": [0.08326660151566277], \"y\": [0.8961398736090432]}, {\"hoverinfo\": \"text\", \"marker\": {\"color\": \"rgba(253, 174, 97, 0.75)\", \"size\": 0.5}, \"mode\": \"markers\", \"text\": \"EUR commented on 7 of CNY Fb posts\", \"type\": \"scatter\", \"x\": [-0.8892735207086163], \"y\": [0.1385373789506001]}, {\"hoverinfo\": \"text\", \"marker\": {\"color\": \"rgba(253, 174, 97, 0.75)\", \"size\": 0.5}, \"mode\": \"markers\", \"text\": \"CNY commented on 0 of GBP Fb posts\", \"type\": \"scatter\", \"x\": [0.09084238257057949], \"y\": [0.8954036305091132]}, {\"hoverinfo\": \"text\", \"marker\": {\"color\": \"rgba(253, 174, 97, 0.75)\", \"size\": 0.5}, \"mode\": \"markers\", \"text\": \"GBP commented on 8 of CNY Fb posts\", \"type\": \"scatter\", \"x\": [0.049056427703605486], \"y\": [-0.8986620426506068]}, {\"hoverinfo\": \"text\", \"marker\": {\"color\": \"rgba(253, 174, 97, 0.75)\", \"size\": 0.5}, \"mode\": \"markers\", \"text\": \"CNY commented on 0 of CAD Fb posts\", \"type\": \"scatter\", \"x\": [0.06430538524426183], \"y\": [0.8976997367876338]}, {\"hoverinfo\": \"text\", \"marker\": {\"color\": \"rgba(253, 174, 97, 0.75)\", \"size\": 0.5}, \"mode\": \"markers\", \"text\": \"CAD commented on 5 of CNY Fb posts\", \"type\": \"scatter\", \"x\": [0.8708168897825226], \"y\": [-0.22732783478820653]}, {\"hoverinfo\": \"text\", \"marker\": {\"color\": \"rgba(217, 239, 106, 0.75)\", \"size\": 0.5}, \"mode\": \"markers\", \"text\": \"BRL commented on 0 of EUR Fb posts\", \"type\": \"scatter\", \"x\": [-0.03535014815314551], \"y\": [0.899305491490823]}, {\"hoverinfo\": \"text\", \"marker\": {\"color\": \"rgba(217, 239, 106, 0.75)\", \"size\": 0.5}, \"mode\": \"markers\", \"text\": \"EUR commented on 6 of BRL Fb posts\", \"type\": \"scatter\", \"x\": [-0.6418656243902807], \"y\": [0.6308791645204928]}, {\"hoverinfo\": \"text\", \"marker\": {\"color\": \"rgba(166, 247, 136, 0.75)\", \"size\": 0.5}, \"mode\": \"markers\", \"text\": \"BRL commented on 0 of GBP Fb posts\", \"type\": \"scatter\", \"x\": [-0.024951238997176207], \"y\": [0.8996540644450542]}, {\"hoverinfo\": \"text\", \"marker\": {\"color\": \"rgba(166, 247, 136, 0.75)\", \"size\": 0.5}, \"mode\": \"markers\", \"text\": \"GBP commented on 7 of BRL Fb posts\", \"type\": \"scatter\", \"x\": [-0.5509932975987472], \"y\": [-0.711622361931705]}, {\"hoverinfo\": \"text\", \"marker\": {\"color\": \"rgba(254, 224, 139, 0.75)\", \"size\": 0.5}, \"mode\": \"markers\", \"text\": \"BRL commented on 0 of CAD Fb posts\", \"type\": \"scatter\", \"x\": [-0.06131962167227472], \"y\": [0.8979086278669836]}, {\"hoverinfo\": \"text\", \"marker\": {\"color\": \"rgba(254, 224, 139, 0.75)\", \"size\": 0.5}, \"mode\": \"markers\", \"text\": \"CAD commented on 4 of BRL Fb posts\", \"type\": \"scatter\", \"x\": [0.7115205543521012], \"y\": [-0.5511247596819423]}, {\"hoverinfo\": \"text\", \"marker\": {\"color\": \"rgba(166, 247, 136, 0.75)\", \"size\": 0.5}, \"mode\": \"markers\", \"text\": \"EUR commented on 0 of GBP Fb posts\", \"type\": \"scatter\", \"x\": [-0.21652681914280972], \"y\": [0.8735651873740716]}, {\"hoverinfo\": \"text\", \"marker\": {\"color\": \"rgba(166, 247, 136, 0.75)\", \"size\": 0.5}, \"mode\": \"markers\", \"text\": \"GBP commented on 1 of EUR Fb posts\", \"type\": \"scatter\", \"x\": [-0.866514416783603], \"y\": [-0.24321341555550022]}, {\"hoverinfo\": \"text\", \"marker\": {\"color\": \"rgba(217, 239, 106, 0.75)\", \"size\": 0.5}, \"mode\": \"markers\", \"text\": \"EUR commented on 1 of CAD Fb posts\", \"type\": \"scatter\", \"x\": [-0.3900356284171159], \"y\": [0.8110932181724031]}, {\"hoverinfo\": \"text\", \"marker\": {\"color\": \"rgba(217, 239, 106, 0.75)\", \"size\": 0.5}, \"mode\": \"markers\", \"text\": \"CAD commented on 1 of EUR Fb posts\", \"type\": \"scatter\", \"x\": [0.5545727100489193], \"y\": [-0.7088364474750133]}, {\"hoverinfo\": \"text\", \"marker\": {\"color\": \"rgba(166, 247, 136, 0.75)\", \"size\": 0.5}, \"mode\": \"markers\", \"text\": \"GBP commented on 1 of CAD Fb posts\", \"type\": \"scatter\", \"x\": [-0.7830581280896627], \"y\": [-0.4436439653964804]}, {\"hoverinfo\": \"text\", \"marker\": {\"color\": \"rgba(166, 247, 136, 0.75)\", \"size\": 0.5}, \"mode\": \"markers\", \"text\": \"CAD commented on 0 of GBP Fb posts\", \"type\": \"scatter\", \"x\": [0.4371764060368137], \"y\": [-0.7866872250168646]}],\n",
       "                        {\"height\": 400, \"hovermode\": \"closest\", \"margin\": {\"b\": 25, \"l\": 25, \"r\": 25, \"t\": 25}, \"shapes\": [{\"fillcolor\": \"rgba(244, 109, 67, 0.75)\", \"layer\": \"below\", \"line\": {\"color\": \"rgb(175,175,175)\", \"width\": 0.5}, \"path\": \"M 0.6997137966066401, 0.7144232658853724 Q 0.08277356457532876, 0.1820673968822916 0.07832041850836774, 0.9969282381619422L 0.07832041850836774, 0.9969282381619422 L 0.08317383056579043, 0.9965350540292164 L 0.08802527055485924, 0.9961182418486993 M 0.08802527055485924, 0.9961182418486993 Q 0.022413720867235726, 0.19874009438682885 0.13604649817634237, 0.9907024529766515L 0.13604649817634237, 0.9907024529766515 L 0.22572566632246607, 0.9741909071446309 L 0.31352792908682114, 0.9495789791705213 L 0.3987232120290542, 0.9170713168501313 L 0.4806031177052203, 0.8769382208867522 L 0.5584868159814401, 0.8295133973450417 L 0.6317267051258052, 0.7751911828903203 L 0.6997137966066401, 0.7144232658853724 \", \"type\": \"path\"}, {\"fillcolor\": \"rgba(244, 109, 67, 0.75)\", \"layer\": \"below\", \"line\": {\"color\": \"rgb(175,175,175)\", \"width\": 0.5}, \"path\": \"M 0.9601518196358626, 0.27947894956497527 Q 0.11529180380311821, 0.16342521217922068 -0.05873396350845833, 0.9982736706587964L -0.05873396350845833, 0.9982736706587964 L -0.05208797411920046, 0.9986425000730529 L -0.04543967696130561, 0.9989670844215299 M -0.04543967696130561, 0.9989670844215299 Q 0.07134702574773637, 0.18684111409684928 0.6997137966066401, 0.7144232658853724L 0.6997137966066401, 0.7144232658853724 L 0.7691477068365531, 0.639071048529091 L 0.8305063164095637, 0.5570092085449014 L 0.8831454197773914, 0.4690993152054425 L 0.9265123577014701, 0.3762643366391015 L 0.9601518196358626, 0.27947894956497527 \", \"type\": \"path\"}, {\"fillcolor\": \"rgba(244, 109, 67, 0.75)\", \"layer\": \"below\", \"line\": {\"color\": \"rgb(175,175,175)\", \"width\": 0.5}, \"path\": \"M 0.9973496870296852, 0.0727571424795464 Q 0.10610838612254432, 0.16953173860510323 -0.37045173608524434, 0.9288517164926964L -0.37045173608524434, 0.9288517164926964 L -0.3249078098805053, 0.9457456926038064 L -0.2785972131287317, 0.9604080345545346 M -0.2785972131287317, 0.9604080345545346 Q 0.1072833188604166, 0.16879066767536108 0.9878422977065198, 0.15545930291206014L 0.9878422977065198, 0.15545930291206014 L 0.9934569522129629, 0.11420719810822168 L 0.9973496870296852, 0.0727571424795464 \", \"type\": \"path\"}, {\"fillcolor\": \"rgba(166, 247, 136, 0.75)\", \"layer\": \"below\", \"line\": {\"color\": \"rgb(175,175,175)\", \"width\": 0.5}, \"path\": \"M 1.0, 0.0 Q -0.04331855671107157, 0.19525240752541229 -0.9061751322234838, -0.42290262441814147L -0.9061751322234838, -0.42290262441814147 L -0.9283130466844605, -0.3717995257600723 L -0.9475716924506739, -0.31954324850662325 M -0.9475716924506739, -0.31954324850662325 Q -0.039544588190068376, 0.19605158898840352 0.9973496870296852, 0.0727571424795464L 0.9973496870296852, 0.0727571424795464 L 0.9993372021068977, 0.036402698871888725 L 1.0, 0.0 \", \"type\": \"path\"}, {\"fillcolor\": \"rgba(244, 109, 67, 0.75)\", \"layer\": \"below\", \"line\": {\"color\": \"rgb(175,175,175)\", \"width\": 0.5}, \"path\": \"M 0.9878422977065198, 0.15545930291206014 Q -0.18346775526333992, 0.0796214969630138 0.5611695982347875, -0.827700840894225L 0.5611695982347875, -0.827700840894225 L 0.5348070093191789, -0.8449742379404687 L 0.5079131664702673, -0.8614082744704432 M 0.5079131664702673, -0.8614082744704432 Q -0.1859257502713929, 0.07369949379758081 0.9601518196358626, 0.27947894956497527L 0.9601518196358626, 0.27947894956497527 L 0.9759689997582456, 0.217909411249009 L 0.9878422977065198, 0.15545930291206014 \", \"type\": \"path\"}, {\"fillcolor\": \"rgba(254, 224, 139, 0.75)\", \"layer\": \"below\", \"line\": {\"color\": \"rgb(175,175,175)\", \"width\": 0.5}, \"path\": \"M 0.06457704634289961, 0.9979127241826447 Q -0.010751477261590071, 0.1997108052577364 -0.1713390301294808, 0.9852121277949683L -0.1713390301294808, 0.9852121277949683 L -0.12457170589802781, 0.9922106077288507 L -0.07752581923414247, 0.996990344663415 M -0.07752581923414247, 0.996990344663415 Q -0.006850789156080628, 0.19988263228189418 0.00908226771855091, 0.999958755355984L 0.00908226771855091, 0.999958755355984 L 0.0368438624182023, 0.999321034403914 L 0.06457704634289961, 0.9979127241826447 \", \"type\": \"path\"}, {\"fillcolor\": \"rgba(253, 174, 97, 0.75)\", \"layer\": \"below\", \"line\": {\"color\": \"rgb(175,175,175)\", \"width\": 0.5}, \"path\": \"M 0.09700973853577702, 0.9952834323092192 Q -0.147872699736665, 0.13466129611952393 -0.9818878484471484, -0.18946306519168776L -0.9818878484471484, -0.18946306519168776 L -0.9957711596134206, -0.09186837150044509 L -0.999978093846049, 0.006619050386764805 L -0.9944677703854566, 0.10504215184666936 L -0.979293735637679, 0.20244450928785335 L -0.9546034428387392, 0.2978796181688602 L -0.920636819182168, 0.3904200906282106 L -0.8777239343335613, 0.4791666673486523 M -0.8777239343335613, 0.4791666673486523 Q -0.09438553437640462, 0.17632745362104152 0.08802527055485924, 0.9961182418486993L 0.08802527055485924, 0.9961182418486993 L 0.09251844612851419, 0.9957109706767147 L 0.09700973853577702, 0.9952834323092192 \", \"type\": \"path\"}, {\"fillcolor\": \"rgba(253, 174, 97, 0.75)\", \"layer\": \"below\", \"line\": {\"color\": \"rgb(175,175,175)\", \"width\": 0.5}, \"path\": \"M 0.10486065137347816, 0.994486924898226 Q -0.19702804826749643, -0.034350374028547424 0.4352078810853108, -0.9003299951913376L 0.4352078810853108, -0.9003299951913376 L 0.35445209068788275, -0.9350741764197047 L 0.27095686207970526, -0.9625914911798875 L 0.18536750114462888, -0.9826692676172365 L 0.09834549859448569, -0.9951523315081978 L 0.01056341753505268, -0.9999442055484796 L -0.07730030454270748, -0.9970078549929307 L -0.16456659917249866, -0.9863659738843378 L -0.25056101519914276, -0.9681008096589812 L -0.3346189313794226, -0.9423535274845068 M -0.3346189313794226, -0.9423535274845068 Q -0.19521514071614637, 0.043486191316039334 0.09700973853577702, 0.9952834323092192L 0.09700973853577702, 0.9952834323092192 L 0.1009359806339772, 0.9948929227879035 L 0.10486065137347816, 0.994486924898226 \", \"type\": \"path\"}, {\"fillcolor\": \"rgba(253, 174, 97, 0.75)\", \"layer\": \"below\", \"line\": {\"color\": \"rgb(175,175,175)\", \"width\": 0.5}, \"path\": \"M 0.07832041850836774, 0.9969282381619422 Q -0.1489695300936935, -0.13344691492748778 0.9995065603657315, -0.03141075907812925L 0.9995065603657315, -0.03141075907812925 L 0.9897380838620973, -0.14289340556157298 L 0.9675743219805806, -0.25258648309800724 L 0.9332928493220265, -0.3591162171280674 L 0.8873230003171346, -0.4611484501851852 M 0.8873230003171346, -0.4611484501851852 Q -0.1742117449938151, -0.09823577711918376 0.06457704634289961, 0.9979127241826447L 0.06457704634289961, 0.9979127241826447 L 0.07145042804917981, 0.9974441519862598 L 0.07832041850836774, 0.9969282381619422 \", \"type\": \"path\"}, {\"fillcolor\": \"rgba(217, 239, 106, 0.75)\", \"layer\": \"below\", \"line\": {\"color\": \"rgb(175,175,175)\", \"width\": 0.5}, \"path\": \"M -0.033114713878323314, 0.9994515574677728 Q -0.10489630164894843, 0.17028436775104408 -0.8777239343335613, 0.4791666673486523L -0.8777239343335613, 0.4791666673486523 L -0.8297934900183395, 0.5580705725293029 L -0.7747905882110814, 0.6322179564197196 L -0.7131840271003119, 0.7009768494672142 L -0.6454988888780803, 0.7637612090550054 L -0.5723120643837064, 0.820035914433545 L -0.49424733617446526, 0.869321327636936 M -0.49424733617446526, 0.869321327636936 Q -0.05550406240985065, 0.19214395399284206 -0.04543967696130561, 0.9989670844215299L -0.04543967696130561, 0.9989670844215299 L -0.0392779423923839, 0.9992283238786922 L -0.033114713878323314, 0.9994515574677728 \", \"type\": \"path\"}, {\"fillcolor\": \"rgba(166, 247, 136, 0.75)\", \"layer\": \"below\", \"line\": {\"color\": \"rgb(175,175,175)\", \"width\": 0.5}, \"path\": \"M -0.022331677384862567, 0.999750616996648 Q -0.1974634711815852, 0.03175181174231285 -0.3346189313794226, -0.9423535274845068L -0.3346189313794226, -0.9423535274845068 L -0.41865174936262733, -0.9081468563815062 L -0.4992383890650208, -0.8664646737656203 L -0.5757154926291737, -0.8176500911433618 L -0.6474535302999043, -0.7621049311624948 L -0.7138619824682422, -0.7002864199643679 L -0.7743942005990423, -0.6327034234762526 L -0.8285519070289976, -0.5599122586250557 M -0.8285519070289976, -0.5599122586250557 Q -0.1781596159775113, 0.09087987255022814 -0.033114713878323314, 0.9994515574677728L -0.033114713878323314, 0.9994515574677728 L -0.02772359888575134, 0.9996156271611714 L -0.022331677384862567, 0.999750616996648 \", \"type\": \"path\"}, {\"fillcolor\": \"rgba(254, 224, 139, 0.75)\", \"layer\": \"below\", \"line\": {\"color\": \"rgb(175,175,175)\", \"width\": 0.5}, \"path\": \"M -0.05873396350845833, 0.9982736706587964 Q -0.1678235001043738, -0.10879004004373403 0.8873230003171346, -0.4611484501851852L 0.8873230003171346, -0.4611484501851852 L 0.8258292111537474, -0.5639203082042527 L 0.7524901069185072, -0.6586035522146639 L 0.6683576300530483, -0.7438400892328085 M 0.6683576300530483, -0.7438400892328085 Q -0.1838361452015044, -0.07876719950240324 -0.07752581923414247, 0.996990344663415L -0.07752581923414247, 0.996990344663415 L -0.06813291296919413, 0.9976762531855372 L -0.05873396350845833, 0.9982736706587964 \", \"type\": \"path\"}, {\"fillcolor\": \"rgba(166, 247, 136, 0.75)\", \"layer\": \"below\", \"line\": {\"color\": \"rgb(175,175,175)\", \"width\": 0.5}, \"path\": \"M -0.2022007454481357, 0.979344096086875 Q -0.17346714365829977, 0.0995447139281177 -0.9475716924506739, -0.31954324850662325L -0.9475716924506739, -0.31954324850662325 L -0.9627937964262255, -0.27023712839500025 L -0.9754521673713783, -0.22021141925540672 M -0.9754521673713783, -0.22021141925540672 Q -0.17223536638702264, 0.10166109661777248 -0.2785972131287317, 0.9604080345545346L -0.2785972131287317, 0.9604080345545346 L -0.24058535460312191, 0.9706279859711907 L -0.2022007454481357, 0.979344096086875 \", \"type\": \"path\"}, {\"fillcolor\": \"rgba(217, 239, 106, 0.75)\", \"layer\": \"below\", \"line\": {\"color\": \"rgb(175,175,175)\", \"width\": 0.5}, \"path\": \"M -0.37045173608524434, 0.9288517164926964 Q -0.1699013183763448, -0.10551560080850567 0.6683576300530483, -0.7438400892328085L 0.6683576300530483, -0.7438400892328085 L 0.6161919000543548, -0.7875960527500148 L 0.5611695982347875, -0.827700840894225 M 0.5611695982347875, -0.827700840894225 Q -0.1698341199419444, -0.10562372699135954 -0.49424733617446526, 0.869321327636936L -0.49424733617446526, 0.869321327636936 L -0.43337292046346215, 0.9012146868582256 L -0.37045173608524434, 0.9288517164926964 \", \"type\": \"path\"}, {\"fillcolor\": \"rgba(166, 247, 136, 0.75)\", \"layer\": \"below\", \"line\": {\"color\": \"rgb(175,175,175)\", \"width\": 0.5}, \"path\": \"M -0.9061751322234838, -0.42290262441814147 Q -0.059236795869915815, -0.19102618149108758 0.5079131664702673, -0.8614082744704432L 0.5079131664702673, -0.8614082744704432 L 0.4857515622631263, -0.8740969166854051 L 0.4632731808374039, -0.8862155267861166 M 0.4632731808374039, -0.8862155267861166 Q -0.048979829585324416, -0.1939097117057126 -0.8285519070289976, -0.5599122586250557L -0.8285519070289976, -0.5599122586250557 L -0.8700645867662918, -0.49293773932942264 L -0.9061751322234838, -0.42290262441814147 \", \"type\": \"path\"}, {\"fillcolor\": \"rgba(244, 109, 67, 0.75)\", \"layer\": \"below\", \"line\": {\"color\": \"rgb(150,150,150)\", \"width\": 0.45}, \"path\": \"M 1.1, 0.0 L 1.0997690874525485, 0.02253784115191134 L 1.0990764467567478, 0.04506621999416005 L 1.097922368711557, 0.06757567818974902 L 1.096307337846251, 0.09005676534534424 L 1.094232032216996, 0.11250004297893738 L 1.0916973231221738, 0.13489608848250748 L 1.0887042747365727, 0.15723549907801807 L 1.0852541436646066, 0.1795088957650888 L 1.081348378412739, 0.2017069272586844 L 1.0769886187813404, 0.22382027391516737 L 1.0721766951762346, 0.24583965164506666 L 1.0669146278402173, 0.26775581581091873 L 1.0612046260048766, 0.28955956510854564 L 1.0550490869630667, 0.3112417454301394 L 1.0484505950624257, 0.3327932537075323 L 1.041411920620361, 0.3542050417340374 L 1.0339360187609568, 0.3754681199632571 L 1.0260260281742906, 0.396573561283263 L 1.017685269798684, 0.4175125047645637 L 1.0089172454264355, 0.4382761593802862 L 0.9997256362336246, 0.45885580769700907 L 0.9901143012346042, 0.4792428095346987 L 0.980087275661827, 0.49942860559421126 L 0.9696487692716899, 0.5194047210508366 L 0.9588031645771059, 0.5391627691123779 L 0.9475550150075455, 0.5586944545402706 L 0.9359090429973198, 0.5779915771322635 L 0.9238701380029097, 0.5970460351651996 L 0.9114433544501711, 0.6158498287964524 L 0.8986339096122801, 0.6343950634225872 L 0.8854471814193074, 0.6526739529938391 L 0.8718887062003434, 0.6706788232830162 L 0.8579641763591195, 0.6884021151074551 L 0.8436794379841042, 0.705836387502675 L 0.8290404883940754, 0.7229743208463998 L 0.8140534736202002, 0.7398087199316362 L 0.7987246858256789, 0.7563325169875157 L 0.7830605606640367, 0.7725387746466351 L 0.7670676745771732, 0.7884206888576478 L 0.7507527420343019, 0.803971591741883 L 0.7341226127129408, 0.819184954392795 L 0.7171842686231373, 0.8340543896170657 L 0.6999448211761339, 0.8485736546162096 L 0.6824115081987063, 0.8627366536075577 L 0.6645916908944272, 0.8765374403835163 L 0.6464928507531307, 0.8899702208080282 L 0.6281225864098766, 0.9030293552491897 L 0.6094886104547321, 0.9157093609469983 L 0.59059874619471, 0.9280049143152405 L 0.5714609243692232, 0.9399108531765515 L 0.552083179820436, 0.9514221789297096 L 0.5324736481199082, 0.9625340586482519 L 0.5126405621529474, 0.9732418271095372 L 0.492592248662107, 0.9835409887533967 L 0.47233712475127854, 0.9934272195695542 L 0.45188369435184605, 1.0028963689130237 L 0.4312405446523868, 1.0119444612467192 L 0.4104163424934185, 1.0205676978105496 L 0.38941983072870323, 1.0287624582162922 L 0.3682598245546393, 1.0365253019675817 L 0.34694520780928095, 1.0438529699043706 L 0.3254849292425381, 1.050742385571259 L 0.30388799875912553, 1.0571906565091151 L 0.282163483635834, 1.0631950754694506 L 0.2603205047147168, 1.0687531215510322 L 0.2383682325737858, 1.0738624612582608 L 0.21631588367682714, 1.0785209494808683 L 0.1941727165039522, 1.082726630394522 L 0.17194802766450729, 1.0864777382819613 L 0.1496511479939764, 1.0897726982743168 L 0.13604649817634218, 0.9907024529766516 L 0.1563163887859157, 0.9877070348017829 L 0.17652065136722928, 0.9842969367222927 L 0.1966508033425701, 0.9804735904371529 L 0.21669839324889617, 0.9762386011438734 L 0.23665500428610614, 0.9715937468645746 L 0.25651225785075815, 0.9665409776995004 L 0.27626181705375047, 0.9610824150082864 L 0.29589539022048916, 0.9552203505193262 L 0.31540473437207356, 0.9489572453676096 L 0.3347816586860357, 0.9422957290614379 L 0.3540180279351847, 0.9352385983784474 L 0.37310576590310773, 0.9277888161914086 L 0.3920368587748971, 0.9199495102242902 L 0.4108033585016782, 0.9117239717391123 L 0.4293973861375259, 0.9031156541541401 L 0.44781113514737, 0.8941281715939969 L 0.46603687468449756, 0.8847652973723065 L 0.48406695283628015, 0.8750309624075017 L 0.50189379983676, 0.8649292535724632 L 0.5195099312447483, 0.8544644119786832 L 0.5369079510860999, 0.8436408311956731 L 0.5540805549588473, 0.832463055406362 L 0.5710205330998878, 0.8209357774992633 L 0.587720773411937, 0.8090638370982074 L 0.6041742644494792, 0.7968522185304693 L 0.6203740983624603, 0.7843060487341433 L 0.6363134737964853, 0.771430595105645 L 0.6519856987483066, 0.7582312632882414 L 0.6673841933754007, 0.7447135949025409 L 0.6825024927584562, 0.7308832652198937 L 0.697334249615612, 0.7167460807796798 L 0.7118732369673061, 0.7023079769514864 L 0.7261133507506171, 0.687575015443196 L 0.7400486123820001, 0.6725533817560329 L 0.7536731712673412, 0.6572493825876361 L 0.7669813072582764, 0.6416694431842499 L 0.7799674330537449, 0.625820104643141 L 0.7926260965457667, 0.6097080211663783 L 0.8049519831084613, 0.5933399572671264 L 0.8169399178293455, 0.5767227849296247 L 0.8285848676819737, 0.5598634807240477 L 0.8398819436390088, 0.5427691228774542 L 0.8508264027248361, 0.5254468883020577 L 0.8614136500068594, 0.5079040495820641 L 0.8716392405246417, 0.4901479719203435 L 0.8814988811560817, 0.472186110046215 L 0.8909884324198426, 0.45402600508564656 L 0.9001039102132765, 0.43567528139518064 L 0.9088414874851133, 0.4171416433609173 L 0.917197495842214, 0.3984328721638965 L 0.9251684270897127, 0.3795568225132397 L 0.9327509347039005, 0.36052141934842086 L 0.9399418352372333, 0.34133465451205186 L 0.9467381096548735, 0.32200458339457944 L 0.953136904602205, 0.30253932155230207 L 0.9591355336027878, 0.2829470413001267 L 0.9647314781862514, 0.263235968280496 L 0.9699223889456521, 0.2434143780099261 L 0.9747060865238496, 0.22349059240460603 L 0.9790805625284913, 0.20347297628651578 L 0.9830439803752171, 0.18336993387153125 L 0.9865946760587332, 0.1631899052409898 L 0.9897311588514297, 0.14294136279819822 L 0.9924521119292488, 0.12263280771137043 L 0.9947563929245419, 0.10227276634448852 L 0.9966430344056826, 0.08186978667758567 L 0.9981112442832334, 0.06143243471795365 L 0.9991604061424979, 0.04096929090378186 L 0.9997900795023168, 0.02048894650173758 L 1.0, 0.0 L 1.1 ,0.0\", \"type\": \"path\"}, {\"fillcolor\": \"rgba(253, 174, 97, 0.75)\", \"layer\": \"below\", \"line\": {\"color\": \"rgb(150,150,150)\", \"width\": 0.45}, \"path\": \"M 0.115346716510826, 1.0939356173880486 L 0.08906940672187608, 1.096387997374202 L 0.06274082599297501, 1.0982092645546746 L 0.03637612982061937, 1.0993983705551293 L 0.009990494490405757, 1.0999546308915824 L 0.009082267718550687, 0.999958755355984 L 0.03306920892783579, 0.9994530641410266 L 0.05703711453906818, 0.9983720586860678 L 0.08097218792897824, 0.9967163612492744 L 0.10486065137347816, 0.994486924898226 L 0.115346716510826 ,1.0939356173880486\", \"type\": \"path\"}, {\"fillcolor\": \"rgba(254, 224, 139, 0.75)\", \"layer\": \"below\", \"line\": {\"color\": \"rgb(150,150,150)\", \"width\": 0.45}, \"path\": \"M -0.024564845123348826, 1.099725678696313 L -0.06573784785936991, 1.0980339408956439 L -0.10681859604842019, 1.0948012548121437 L -0.14774943818627748, 1.0900321571016331 L -0.18847293314242888, 1.0837333405744651 L -0.1713390301294808, 0.9852121277949683 L -0.13431767107843406, 0.9909383246378483 L -0.09710781458947289, 0.9952738680110398 L -0.059761679872154465, 0.9982126735414945 L -0.022331677384862567, 0.999750616996648 L -0.024564845123348826 ,1.099725678696313\", \"type\": \"path\"}, {\"fillcolor\": \"rgba(217, 239, 106, 0.75)\", \"layer\": \"below\", \"line\": {\"color\": \"rgb(150,150,150)\", \"width\": 0.45}, \"path\": \"M -0.2224208199929493, 1.0772785056955625 L -0.24445402504910876, 1.0724934636804506 L -0.26638452734235263, 1.0672578336993324 L -0.28820311318443337, 1.061573815403715 L -0.3099006159066963, 1.055443796827027 L -0.3314679197112837, 1.048870353381329 L -0.3528959635009648, 1.0418562467753052 L -0.3741757446859863, 1.0344044238539818 L -0.39529832296634076, 1.0265180153606652 L -0.4162548240878659, 1.0182003346216204 L -0.43703644357059523, 1.009454876154039 L -0.45763445040779555, 1.0002853141978818 L -0.4780401907341344, 0.9906955011722182 L -0.49824509146143925, 0.9806894660567035 L -0.5182406638805196, 0.9702714126988792 L -0.5380185072275379, 0.959445718048005 L -0.5575703122134332, 0.9482169303161672 L -0.5768878645149126, 0.9365897670674307 L -0.5959630482255444, 0.9245691132358455 L -0.614787849265504, 0.9121600190731318 L -0.6333543587485382, 0.8993676980269127 L -0.6516547763047368, 0.8861975245503813 L -0.6696814133577091, 0.8726550318443258 L -0.6874266963547961, 0.8587459095324596 L -0.7048831699489557, 0.8444760012710318 L -0.7220435001309874, 0.829851302293726 L -0.7389004773107773, 0.8148779568928745 L -0.7554470193462729, 0.7995622558380505 L -0.771676174518911, 0.7839106337331185 L -0.7875811244542519, 0.7679296663128572 L -0.803155186986592, 0.7516260676802877 L -0.8183918189663485, 0.7350066874858703 L -0.833284619009043, 0.7180785080497496 L -0.8478273301847195, 0.7008486414282694 L -0.8620138426466795, 0.6833243264259703 L -0.875838196198417, 0.6655129255543453 L -0.8892945827976833, 0.6474219219386185 L -0.9023773489966276, 0.6290589161738499 L -0.9150809983169857, 0.6104316231316894 L -0.9274001935593231, 0.5915478687191175 L -0.9393297590453581, 0.572415586590538 L -0.9508646827924262, 0.5530428148146026 L -0.9620001186191706, 0.5334376924971668 L -0.9727313881815735, 0.5136084563617983 L -0.9830539829384747, 0.49356343728927227 L -0.9929635660457513, 0.47331105681750657 L -1.0024559741783594, 0.4528598236034157 L -1.0115272192794784, 0.4322183298481522 L -1.0201734902360178, 0.4113952476872601 L -1.0283911544797837, 0.39039932554723755 L -1.0361767595136353, 0.36923938447005067 L -1.0435270343619867, 0.3479243144071385 L -1.0504388909450442, 0.326463070484467 L -1.0569094253762066, 0.3048646692402013 L -1.062935919182078, 0.2831381848365765 L -1.0685158404445831, 0.2612927452475598 L -1.073646844864706, 0.23933752842390127 L -1.0783267767474016, 0.21728175843719555 L -1.0825536699072715, 0.19513470160455468 L -1.0863257484946194, 0.17290566259554652 L -1.089641427741542, 0.1506039805230053 L -1.0924993146277382, 0.12823902501938655 L -1.09489820846576, 0.105820192300285 L -1.096837101405461, 0.08335690121679644 L -1.0983151788574232, 0.06085858929836223 L -1.099331819835193, 0.03833470878776908 L -1.0998865972161762, 0.01579472266996707 L -1.099979277921086, -0.0067518993036256875 L -1.0996098230118667, -0.029295684593660498 L -1.0987783877080526, -0.051827161852569914 L -1.0974853213215559, -0.07433686490377094 L -1.095731167109909, -0.09681533671870848 L -1.0935166620480263, -0.11925313339004037 L -1.090842736518577, -0.14164082809932518 L -1.087710513921103, -0.16396901507751507 L -1.0841213102000429, -0.1862283135566201 L -1.0800766332918634, -0.2084093717108561 L -0.9818878484471485, -0.18946306519168735 L -0.9855648274545843, -0.1692984668696546 L -0.9888277399282753, -0.14906274097955916 L -0.9916752150168882, -0.1287643891812047 L -0.9941060564072965, -0.10841193944549124 L -0.9961192428271899, -0.08801394247155316 L -0.9977139284741416, -0.06757896809433721 L -0.9988894433709569, -0.04711560168415446 L -0.9996452936471515, -0.02663244053969136 L -0.9999811617464418, -0.0061380902760233514 L -0.9998969065601601, 0.014358838790879153 L -0.9993925634865389, 0.034849735261608256 L -0.9984683444158392, 0.055325990271238384 L -0.9971246376413281, 0.07577900110617858 L -0.9953620076961454, 0.0962001748184409 L -0.9931811951161255, 0.11658093183580595 L -0.9905831161286746, 0.13691270956636845 L -0.9875688622678358, 0.15718696599595136 L -0.9841396999157013, 0.17739518327686787 L -0.980297069770365, 0.1975288713065414 L -0.9760425862406419, 0.21757957129445568 L -0.9713780367678029, 0.23753885931596344 L -0.9663053810746162, 0.2573983498514332 L -0.9608267503420058, 0.27714969930927386 L -0.9549444463136764, 0.2967846095313336 L -0.9486609403290787, 0.3162948312792168 L -0.941978872285123, 0.33567216770004604 L -0.934901049527076, 0.35490847777021595 L -0.9274304456691069, 0.373995679715691 L -0.9195701993449803, 0.39292575440741107 L -0.9113236128894175, 0.41169074873037786 L -0.902694150950683, 0.43028277892500594 L -0.8936854390349769, 0.4486940338993384 L -0.8843012619832485, 0.46691677851072566 L -0.8745455623810641, 0.48494335681560613 L -0.8644224389022056, 0.5027661952860023 L -0.8539361445866891, 0.5203778059913982 L -0.84309108505393, 0.5377707897446522 L -0.8318918166518051, 0.5549378392106267 L -0.8203430445423886, 0.5718717419762271 L -0.8084496207251666, 0.5885653835805622 L -0.7962165419985608, 0.6050117505039502 L -0.7836489478606177, 0.6212039331145184 L -0.7707521183497449, 0.637135128571154 L -0.7575314718264027, 0.6527986436815905 L -0.7439925626966803, 0.6681878977144274 L -0.73014107907872, 0.6832964251638979 L -0.7159828404129562, 0.6981178784662337 L -0.7015237950171918, 0.7126460306664714 L -0.6867700175875208, 0.7268747780345913 L -0.6717277066461612, 0.7407981426298859 L -0.6564031819372612, 0.754410274812478 L -0.6408028817717779, 0.767705455700938 L -0.6249333603225419, 0.7806780995749631 L -0.6088012848706447, 0.7933227562221143 L -0.5924134330043062, 0.8056341132276192 L -0.5757766897713983, 0.8176069982062842 L -0.5588980447868218, 0.8292363809755743 L -0.5417845892959494, 0.8405173756689504 L -0.5244435131953751, 0.8514452427885733 L -0.506882102012212, 0.8620153911965155 L -0.48910773384321615, 0.8722233800436409 L -0.47112787625501773, 0.8820649206353446 L -0.45295008314676294, 0.8915358782333668 L -0.4345819915764858, 0.9006322737929255 L -0.4160313185525414, 0.9093502856344379 L -0.39730585779145017, 0.9176862510491263 L -0.3784134764435144, 0.9256366678378367 L -0.3593621117875825, 0.9331981957824228 L -0.34015976789635116, 0.9403676580490742 L -0.32081451227360436, 0.9471420425230047 L -0.3013344724648033, 0.9535185030739355 L -0.28172783264245116, 0.9594943607518426 L -0.2620028301676667, 0.9650671049124682 L -0.24216775212941147, 0.9702343942721202 L -0.22223093186282614, 0.9749940578913187 L -0.2022007454481357, 0.979344096086875 L -0.2224208199929493 ,1.0772785056955625\", \"type\": \"path\"}, {\"fillcolor\": \"rgba(166, 247, 136, 0.75)\", \"layer\": \"below\", \"line\": {\"color\": \"rgb(150,150,150)\", \"width\": 0.45}, \"path\": \"M -1.0729973841085163, -0.2422325611809474 L -1.0678214141514346, -0.26411631430040533 L -1.0621991748719606, -0.28588968659489283 L -1.0561330159447502, -0.3075435784266126 L -1.0496254725696017, -0.329068940091648 L -1.042679264411933, -0.35045677560205746 L -1.0352972944661645, -0.37169814644552635 L -1.0274826478424863, -0.3927841753209939 L -1.0192385904775125, -0.41370604984869846 L -1.0105685677693637, -0.4344550262530949 L -1.0014762031377504, -0.45502243301709366 L -0.991965296509654, -0.4753996745061091 L -0.982039822731243, -0.4955782345603862 L -0.9717039299066839, -0.515549680054121 L -0.9609619376645455, -0.5353056644198736 L -0.9498183353525185, -0.5548379311368058 L -0.9382777801612028, -0.5741383171812918 L -0.9263450951777522, -0.5931987564384483 L -0.9140252673701856, -0.6120112830731644 L -0.9013234455032068, -0.6305680348592275 L -0.8882449379864087, -0.6488612564651408 L -0.8747952106557536, -0.6668833026952736 L -0.8609798844892658, -0.6846266416849777 L -0.846804733257882, -0.7020838580483442 L -0.8322756811124487, -0.7192476559772787 L -0.8173988001078719, -0.7361108622906005 L -0.8021803076654517, -0.7526664294318975 L -0.7866265639744664, -0.768907438414875 L -0.7707440693340919, -0.7848271017149732 L -0.7545394614367618, -0.8004187661060438 L -0.7380195125941097, -0.8156759154409017 L -0.7211911269066508, -0.8305921733745841 L -0.7040613373783862, -0.8451613060291855 L -0.6866373029775337, -0.8593772245991506 L -0.6689263056446131, -0.8732339878959418 L -0.6509357472491458, -0.8867258048310065 L -0.6326731464962252, -0.8998470368360203 L -0.6141461357842594, -0.9125922002193873 L -0.595362458015205, -0.924955968458009 L -0.576329963358613, -0.9369331744233736 L -0.5570566059708426, -0.94851881254103 L -0.5375504406708256, -0.9597080408825391 L -0.5178196195737533, -0.9704961831890394 L -0.4978723886841006, -0.9808787308255736 L -0.47771708444941907, -0.9908513446653573 L -0.45736213027632366, -1.0004098569032112 L -0.43681603301014127, -1.0095502727973895 L -0.416087379379684, -1.018268772339085 L -0.39518483240864466, -1.0265617118489037 L -0.3741171277950994, -1.0344256254996516 L -0.35289307026064165, -1.0418572267647894 L -0.33152152987066513, -1.0488534097919564 L -0.3100114383273468, -1.0554112507009814 L -0.28837178523686174, -1.0615280088058467 L -0.26661161435239894, -1.06720112776009 L -0.24474001979455584, -1.072428236625165 L -0.2227661422506745, -1.0772071508613152 L -0.2006991651547167, -1.0815358732405504 L -0.1785483108492824, -1.085412594681335 L -0.15632283673135888, -1.088835695004651 L -0.13403203138341974, -1.0918037436111099 L -0.11168521069149921, -1.0943155000788372 L -0.08929171395184736, -1.0963699146818748 L -0.06686089996780101, -1.0979661288288887 L -0.04440214313851129, -1.0991034754219946 L -0.021924829541143536, -1.0997814791355562 L 0.0005616469917986779, -1.0999998566148348 L 0.023047888798390422, -1.09975851659441 L 0.04552449831480773, -1.0990575599363235 L 0.06798208200279908, -1.0978972795879243 L 0.09041125427548337, -1.0962781604594403 L 0.11280264141982466, -1.0942008792213205 L 0.13514688551413592, -1.0916663040214392 L 0.15743464833899187, -1.0886754941222743 L 0.1796566152799077, -1.085229699458215 L 0.2018034992201441, -1.0813303601131827 L 0.22386604442202887, -1.0769791057187852 L 0.24583503039516452, -1.0721777547732507 L 0.2677012757498964, -1.0669283138814332 L 0.28945564203444835, -1.0612329769162026 L 0.31108903755411355, -1.0550941241015683 L 0.33259242117089594, -1.0485143210179255 L 0.3539568060820317, -1.0414963175298353 L 0.375173263575798, -1.0340430466367854 L 0.39623292676304833, -1.0261576232474177 L 0.4171269942829028, -1.0178433428777296 L 0.43784673398106055, -1.0091036802737956 L 0.45838348655918415, -0.9999422879595834 L 0.47872866919384105, -0.9903629947104718 L 0.43520788108531, -0.9003299951913379 L 0.4167122605083492, -0.9090384435996212 L 0.39804248543732773, -0.9173669820670868 L 0.3792063584390025, -0.925312129888845 L 0.3602117516027712, -0.9328705665885614 L 0.3410666032507254, -0.9400391333061684 L 0.32177891462002883, -0.9468148341180319 L 0.3023567465189963, -0.9531948372890232 L 0.28280821595828504, -0.959176476455971 L 0.2631414927585894, -0.9647572517420023 L 0.24336479613626943, -0.9699348308013028 L 0.22348639126833136, -0.9747070497938641 L 0.20351458583820806, -0.9790719142898047 L 0.18345772656376735, -0.9830276001028934 L 0.163324195709007, -0.9865724540529226 L 0.1431224075809017, -0.989704994656613 L 0.12286080501285083, -0.9924239127467628 L 0.10254785583620422, -0.9947280720193822 L 0.08219204934134851, -0.9966165095085819 L 0.06180189272981734, -0.9980884359890221 L 0.041385907558916114, -0.9991432363057485 L 0.020952626180354927, -0.9997804696312818 L 0.0005105881743624344, -0.9999998696498497 L -0.019931663219221393, -0.9998013446686874 L -0.0403655846713739, -0.9991849776563587 L -0.060782636334364544, -0.9981510262080806 L -0.08117428541077032, -0.996699922438068 L -0.10153200971954474, -0.9948322727989428 L -0.12184730125765429, -0.9925488578282816 L -0.1421116697557808, -0.9898506318224098 L -0.16231664622662037, -0.9867387224375773 L -0.1824537865042879, -0.9832144302186822 L -0.20251467477334045, -0.9792792280557411 L -0.22249092708595983, -0.9749347605683316 L -0.24237419486581718, -0.9701828434182636 L -0.262156168397147, -0.9650254625507696 L -0.28182858029758795, -0.9594647733645285 L -0.30138320897333193, -0.9535030998108694 L -0.3208118820551287, -0.9471429334225359 L -0.3401064798137267, -0.9403869322724104 L -0.3592589385533133, -0.9332379198626397 L -0.3782612539815309, -0.9256988839446226 L -0.39710548455467387, -0.917772975270354 L -0.41578375479665786, -0.9094635062756464 L -0.43428825859038095, -0.9007739496957793 L -0.4526112624400914, -0.8917079371141577 L -0.4707451087034121, -0.8822692574445812 L -0.4886822187916596, -0.8724618553477628 L -0.5064150963371296, -0.8622898295827545 L -0.5239363303260117, -0.851757431293976 L -0.5412385981956409, -0.8408690622345536 L -0.5583146688947812, -0.8296292729267156 L -0.5751574059056592, -0.8180427607600184 L -0.5917597702264962, -0.8061143680281877 L -0.6081148233132846, -0.7938490799054015 L -0.624215729979576, -0.7812520223628641 L -0.6400557612530783, -0.7683284600265322 L -0.6556282971878643, -0.7550837939768946 L -0.6709268296310088, -0.7415235594917288 L -0.6859449649425107, -0.727653423732767 L -0.7006764266673562, -0.7134791833772482 L -0.7151150581586058, -0.6990067621953409 L -0.7292548251504105, -0.6842422085744523 L -0.7430898182798835, -0.669191692991455 L -0.7566142555567714, -0.6538615054338897 L -0.7698224847798927, -0.6382580527712219 L -0.7827089858993325, -0.6223878560772523 L -0.7952683733234123, -0.6062575479047941 L -0.8074953981694624, -0.5898738695137643 L -0.8193849504574606, -0.5732436680538432 L -0.8309320612456232, -0.5563738937028767 L -0.8421319047070474, -0.5392715967622257 L -0.852979800146548, -0.5219439247102653 L -0.8634712139568349, -0.504398119215278 L -0.8736017615132231, -0.4866415131089759 L -0.8833672090060761, -0.4686815273219282 L -0.8927634752102208, -0.45052566778216924 L -0.9017866331905945, -0.43218152227828094 L -0.9104329119434094, -0.41365675728826695 L -0.9186986979721486, -0.3949591147755408 L -0.9265805367977386, -0.3760964089533622 L -0.9340751344022603, -0.3570765230190853 L -0.9411793586056041, -0.33790740585956935 L -0.9478902403744843, -0.3185970687291431 L -0.9542049750632742, -0.29915358190149816 L -0.9601209235861365, -0.27958507129692056 L -0.9656356135199642, -0.2598997150862662 L -0.9707467401376678, -0.24010574027309572 L -0.9754521673713783, -0.22021141925540672 L -1.0729973841085163 ,-0.2422325611809474\", \"type\": \"path\"}, {\"fillcolor\": \"rgba(186, 27, 166, 0.75)\", \"layer\": \"below\", \"line\": {\"color\": \"rgb(150,150,150)\", \"width\": 0.45}, \"path\": \"M 0.5096004989211443, -0.9748370794647283 L 0.5297067280541831, -0.9640595325259389 L 0.5495851325263793, -0.9528673475914484 L 0.5692271627186379, -0.9412653383734522 L 0.5886243706754585, -0.9292584948478655 L 0.6077684137383661, -0.9168519811081559 L 0.6266510581340539, -0.9040511331442879 L 0.6452641825156945, -0.8908614565477354 L 0.6635997814558979, -0.877288624143551 L 0.6816499688898114, -0.8633384735505069 L 0.6994069815068868, -0.8490170046703572 L 0.7168631820898428, -0.8343303771073095 L 0.7340110627994036, -0.8192849075188008 L 0.7508432484033893, -0.8038870668987319 L 0.7673524994487716, -0.7881434777943183 L 0.783531715375333, -0.7720609114577609 L 0.7993739375695877, -0.7556462849339584 L 0.8148723523576537, -0.7389066580855149 L 0.8300202939357836, -0.7218492305563231 L 0.8448112472373004, -0.7044813386750263 L 0.8592388507347004, -0.6868104522996948 L 0.8732968991757196, -0.6688441716050707 L 0.8869793462521867, -0.6505902238137642 L 0.9002803072005153, -0.6320564598728076 L 0.9131940613327164, -0.6132508510769954 L 0.9257150544968417, -0.5941814856404648 L 0.9378379014658037, -0.5748565652179835 L 0.9495573882535348, -0.5552844013774618 L 0.9608684743575066, -0.5354734120251705 L 0.9717662949266249, -0.5154321177852426 L 0.9822461628535837, -0.4951691383349848 L 0.9923035707907703, -0.4746931886975912 L 1.0019341930888568, -0.4540130754938472 L 1.0111338876572435, -0.4331376931544393 L 1.0198986977455555, -0.4120760200944972 L 1.0282248536454237, -0.39083711485201467 L 1.0361087743118222, -0.3694301121918102 L 1.043547068903259, -0.3478642191767025 L 1.050536538240164, -0.3261487112075913 L 1.0570741761808424, -0.30429292803414565 L 1.063157170914404, -0.2823062697378168 L 1.0687829061701115, -0.26019819268890193 L 1.0739489623426268, -0.23797820547939982 L 1.0786531175326748, -0.21565586483340005 L 1.082893348502671, -0.19324077149678623 L 1.0866678315469092, -0.17074256610798189 L 1.089974943275929, -0.14817092505156232 L 1.092813261314729, -0.12553555629647709 L 1.0951815649145247, -0.10284619522069399 L 1.0970788354777865, -0.08011260042405335 L 1.0985042569963357, -0.05734454953113492 L 1.0994572164023046, -0.03455183498594218 L 0.9995065603657315, -0.03141075907812925 L 0.9986402336330323, -0.05213140866466811 L 0.9973443958888968, -0.0728296367491394 L 0.9956196044677496, -0.0934965411097218 L 0.9934666011952081, -0.11412323299679734 L 0.9908863120690262, -0.13470084095596574 L 0.9878798468608264, -0.15522051464361988 L 0.9844484986387917, -0.175673428633442 L 0.9805937432115225, -0.19605078621218183 L 0.976317238493297, -0.21634382316309073 L 0.9716208237910103, -0.23654381153536538 L 0.9665065190130945, -0.25664206339801526 L 0.9609765238007657, -0.27662993457649604 L 0.9550332165819672, -0.29649882837053754 L 0.9486791535484173, -0.3162401992515477 L 0.941917067556202, -0.33584555653800924 L 0.9347498669503852, -0.35530646804728605 L 0.9271806343141412, -0.37461456372227014 L 0.9192126251429485, -0.3937615392313084 L 0.9108492664444151, -0.412739159539861 L 0.9020941552643366, -0.4315392624523556 L 0.8929510571396214, -0.45015376212271346 L 0.8834239044787499, -0.4685746525320386 L 0.8735167948704604, -0.4867940109319731 L 0.8632339893213952, -0.504804001252238 L 0.8525799104234578, -0.522596877470894 L 0.8415591404516741, -0.540164986945877 L 0.8301764193933785, -0.5575007737063594 L 0.8184366429095593, -0.5745967817025522 L 0.8063448602292606, -0.5914456580125128 L 0.7939062719779268, -0.6080401560046097 L 0.7811262279406367, -0.624373138454268 L 0.7680102247611821, -0.6404375806136602 L 0.754563903577985, -0.6562265732330209 L 0.7407930475978669, -0.6717333255322863 L 0.7267035796087161, -0.6869511681217803 L 0.7123015594321208, -0.7018735558706917 L 0.697593181317065, -0.7164940707221075 L 0.6825847712758084, -0.7308064244533926 L 0.6672827843630942, -0.744804461380728 L 0.651693801899857, -0.7584821610066449 L 0.6358245286426244, -0.7718336406094156 L 0.6196817898998286, -0.784853157773188 L 0.6032725285962708, -0.7975351128577736 L 0.5866038022869949, -0.8098740514070322 L 0.5696827801218671, -0.821864666494807 L 0.552516739762151, -0.8335018010074144 L 0.5351130642504167, -0.8447804498616959 L 0.5174792388351254, -0.8556957621576837 L 0.4996228477512539, -0.866243043264953 L 0.4815515709583482, -0.8764177568417626 L 0.4632731808374039, -0.8862155267861166 L 0.5096004989211443 ,-0.9748370794647283\", \"type\": \"path\"}], \"showlegend\": false, \"template\": {\"data\": {\"bar\": [{\"error_x\": {\"color\": \"#2a3f5f\"}, \"error_y\": {\"color\": \"#2a3f5f\"}, \"marker\": {\"line\": {\"color\": \"#E5ECF6\", \"width\": 0.5}}, \"type\": \"bar\"}], \"barpolar\": [{\"marker\": {\"line\": {\"color\": \"#E5ECF6\", \"width\": 0.5}}, \"type\": \"barpolar\"}], \"carpet\": [{\"aaxis\": {\"endlinecolor\": \"#2a3f5f\", \"gridcolor\": \"white\", \"linecolor\": \"white\", \"minorgridcolor\": \"white\", \"startlinecolor\": \"#2a3f5f\"}, \"baxis\": {\"endlinecolor\": \"#2a3f5f\", \"gridcolor\": \"white\", \"linecolor\": \"white\", \"minorgridcolor\": \"white\", \"startlinecolor\": \"#2a3f5f\"}, \"type\": \"carpet\"}], \"choropleth\": [{\"colorbar\": {\"outlinewidth\": 0, \"ticks\": \"\"}, \"type\": \"choropleth\"}], \"contour\": [{\"colorbar\": {\"outlinewidth\": 0, \"ticks\": \"\"}, \"colorscale\": [[0.0, \"#0d0887\"], [0.1111111111111111, \"#46039f\"], [0.2222222222222222, \"#7201a8\"], [0.3333333333333333, \"#9c179e\"], [0.4444444444444444, \"#bd3786\"], [0.5555555555555556, \"#d8576b\"], [0.6666666666666666, \"#ed7953\"], [0.7777777777777778, \"#fb9f3a\"], [0.8888888888888888, \"#fdca26\"], [1.0, \"#f0f921\"]], \"type\": \"contour\"}], \"contourcarpet\": [{\"colorbar\": {\"outlinewidth\": 0, \"ticks\": \"\"}, \"type\": \"contourcarpet\"}], \"heatmap\": [{\"colorbar\": {\"outlinewidth\": 0, \"ticks\": \"\"}, \"colorscale\": [[0.0, \"#0d0887\"], [0.1111111111111111, \"#46039f\"], [0.2222222222222222, \"#7201a8\"], [0.3333333333333333, \"#9c179e\"], [0.4444444444444444, \"#bd3786\"], [0.5555555555555556, \"#d8576b\"], [0.6666666666666666, \"#ed7953\"], [0.7777777777777778, \"#fb9f3a\"], [0.8888888888888888, \"#fdca26\"], [1.0, \"#f0f921\"]], \"type\": \"heatmap\"}], \"heatmapgl\": [{\"colorbar\": {\"outlinewidth\": 0, \"ticks\": \"\"}, \"colorscale\": [[0.0, \"#0d0887\"], [0.1111111111111111, \"#46039f\"], [0.2222222222222222, \"#7201a8\"], [0.3333333333333333, \"#9c179e\"], [0.4444444444444444, \"#bd3786\"], [0.5555555555555556, \"#d8576b\"], [0.6666666666666666, \"#ed7953\"], [0.7777777777777778, \"#fb9f3a\"], [0.8888888888888888, \"#fdca26\"], [1.0, \"#f0f921\"]], \"type\": \"heatmapgl\"}], \"histogram\": [{\"marker\": {\"colorbar\": {\"outlinewidth\": 0, \"ticks\": \"\"}}, \"type\": \"histogram\"}], \"histogram2d\": [{\"colorbar\": {\"outlinewidth\": 0, \"ticks\": \"\"}, \"colorscale\": [[0.0, \"#0d0887\"], [0.1111111111111111, \"#46039f\"], [0.2222222222222222, \"#7201a8\"], [0.3333333333333333, \"#9c179e\"], [0.4444444444444444, \"#bd3786\"], [0.5555555555555556, \"#d8576b\"], [0.6666666666666666, \"#ed7953\"], [0.7777777777777778, \"#fb9f3a\"], [0.8888888888888888, \"#fdca26\"], [1.0, \"#f0f921\"]], \"type\": \"histogram2d\"}], \"histogram2dcontour\": [{\"colorbar\": {\"outlinewidth\": 0, \"ticks\": \"\"}, \"colorscale\": [[0.0, \"#0d0887\"], [0.1111111111111111, \"#46039f\"], [0.2222222222222222, \"#7201a8\"], [0.3333333333333333, \"#9c179e\"], [0.4444444444444444, \"#bd3786\"], [0.5555555555555556, \"#d8576b\"], [0.6666666666666666, \"#ed7953\"], [0.7777777777777778, \"#fb9f3a\"], [0.8888888888888888, \"#fdca26\"], [1.0, \"#f0f921\"]], \"type\": \"histogram2dcontour\"}], \"mesh3d\": [{\"colorbar\": {\"outlinewidth\": 0, \"ticks\": \"\"}, \"type\": \"mesh3d\"}], \"parcoords\": [{\"line\": {\"colorbar\": {\"outlinewidth\": 0, \"ticks\": \"\"}}, \"type\": \"parcoords\"}], \"pie\": [{\"automargin\": true, \"type\": \"pie\"}], \"scatter\": [{\"marker\": {\"colorbar\": {\"outlinewidth\": 0, \"ticks\": \"\"}}, \"type\": \"scatter\"}], \"scatter3d\": [{\"line\": {\"colorbar\": {\"outlinewidth\": 0, \"ticks\": \"\"}}, \"marker\": {\"colorbar\": {\"outlinewidth\": 0, \"ticks\": \"\"}}, \"type\": \"scatter3d\"}], \"scattercarpet\": [{\"marker\": {\"colorbar\": {\"outlinewidth\": 0, \"ticks\": \"\"}}, \"type\": \"scattercarpet\"}], \"scattergeo\": [{\"marker\": {\"colorbar\": {\"outlinewidth\": 0, \"ticks\": \"\"}}, \"type\": \"scattergeo\"}], \"scattergl\": [{\"marker\": {\"colorbar\": {\"outlinewidth\": 0, \"ticks\": \"\"}}, \"type\": \"scattergl\"}], \"scattermapbox\": [{\"marker\": {\"colorbar\": {\"outlinewidth\": 0, \"ticks\": \"\"}}, \"type\": \"scattermapbox\"}], \"scatterpolar\": [{\"marker\": {\"colorbar\": {\"outlinewidth\": 0, \"ticks\": \"\"}}, \"type\": \"scatterpolar\"}], \"scatterpolargl\": [{\"marker\": {\"colorbar\": {\"outlinewidth\": 0, \"ticks\": \"\"}}, \"type\": \"scatterpolargl\"}], \"scatterternary\": [{\"marker\": {\"colorbar\": {\"outlinewidth\": 0, \"ticks\": \"\"}}, \"type\": \"scatterternary\"}], \"surface\": [{\"colorbar\": {\"outlinewidth\": 0, \"ticks\": \"\"}, \"colorscale\": [[0.0, \"#0d0887\"], [0.1111111111111111, \"#46039f\"], [0.2222222222222222, \"#7201a8\"], [0.3333333333333333, \"#9c179e\"], [0.4444444444444444, \"#bd3786\"], [0.5555555555555556, \"#d8576b\"], [0.6666666666666666, \"#ed7953\"], [0.7777777777777778, \"#fb9f3a\"], [0.8888888888888888, \"#fdca26\"], [1.0, \"#f0f921\"]], \"type\": \"surface\"}], \"table\": [{\"cells\": {\"fill\": {\"color\": \"#EBF0F8\"}, \"line\": {\"color\": \"white\"}}, \"header\": {\"fill\": {\"color\": \"#C8D4E3\"}, \"line\": {\"color\": \"white\"}}, \"type\": \"table\"}]}, \"layout\": {\"annotationdefaults\": {\"arrowcolor\": \"#2a3f5f\", \"arrowhead\": 0, \"arrowwidth\": 1}, \"coloraxis\": {\"colorbar\": {\"outlinewidth\": 0, \"ticks\": \"\"}}, \"colorscale\": {\"diverging\": [[0, \"#8e0152\"], [0.1, \"#c51b7d\"], [0.2, \"#de77ae\"], [0.3, \"#f1b6da\"], [0.4, \"#fde0ef\"], [0.5, \"#f7f7f7\"], [0.6, \"#e6f5d0\"], [0.7, \"#b8e186\"], [0.8, \"#7fbc41\"], [0.9, \"#4d9221\"], [1, \"#276419\"]], \"sequential\": [[0.0, \"#0d0887\"], [0.1111111111111111, \"#46039f\"], [0.2222222222222222, \"#7201a8\"], [0.3333333333333333, \"#9c179e\"], [0.4444444444444444, \"#bd3786\"], [0.5555555555555556, \"#d8576b\"], [0.6666666666666666, \"#ed7953\"], [0.7777777777777778, \"#fb9f3a\"], [0.8888888888888888, \"#fdca26\"], [1.0, \"#f0f921\"]], \"sequentialminus\": [[0.0, \"#0d0887\"], [0.1111111111111111, \"#46039f\"], [0.2222222222222222, \"#7201a8\"], [0.3333333333333333, \"#9c179e\"], [0.4444444444444444, \"#bd3786\"], [0.5555555555555556, \"#d8576b\"], [0.6666666666666666, \"#ed7953\"], [0.7777777777777778, \"#fb9f3a\"], [0.8888888888888888, \"#fdca26\"], [1.0, \"#f0f921\"]]}, \"colorway\": [\"#636efa\", \"#EF553B\", \"#00cc96\", \"#ab63fa\", \"#FFA15A\", \"#19d3f3\", \"#FF6692\", \"#B6E880\", \"#FF97FF\", \"#FECB52\"], \"font\": {\"color\": \"#2a3f5f\"}, \"geo\": {\"bgcolor\": \"white\", \"lakecolor\": \"white\", \"landcolor\": \"#E5ECF6\", \"showlakes\": true, \"showland\": true, \"subunitcolor\": \"white\"}, \"hoverlabel\": {\"align\": \"left\"}, \"hovermode\": \"closest\", \"mapbox\": {\"style\": \"light\"}, \"paper_bgcolor\": \"white\", \"plot_bgcolor\": \"#E5ECF6\", \"polar\": {\"angularaxis\": {\"gridcolor\": \"white\", \"linecolor\": \"white\", \"ticks\": \"\"}, \"bgcolor\": \"#E5ECF6\", \"radialaxis\": {\"gridcolor\": \"white\", \"linecolor\": \"white\", \"ticks\": \"\"}}, \"scene\": {\"xaxis\": {\"backgroundcolor\": \"#E5ECF6\", \"gridcolor\": \"white\", \"gridwidth\": 2, \"linecolor\": \"white\", \"showbackground\": true, \"ticks\": \"\", \"zerolinecolor\": \"white\"}, \"yaxis\": {\"backgroundcolor\": \"#E5ECF6\", \"gridcolor\": \"white\", \"gridwidth\": 2, \"linecolor\": \"white\", \"showbackground\": true, \"ticks\": \"\", \"zerolinecolor\": \"white\"}, \"zaxis\": {\"backgroundcolor\": \"#E5ECF6\", \"gridcolor\": \"white\", \"gridwidth\": 2, \"linecolor\": \"white\", \"showbackground\": true, \"ticks\": \"\", \"zerolinecolor\": \"white\"}}, \"shapedefaults\": {\"line\": {\"color\": \"#2a3f5f\"}}, \"ternary\": {\"aaxis\": {\"gridcolor\": \"white\", \"linecolor\": \"white\", \"ticks\": \"\"}, \"baxis\": {\"gridcolor\": \"white\", \"linecolor\": \"white\", \"ticks\": \"\"}, \"bgcolor\": \"#E5ECF6\", \"caxis\": {\"gridcolor\": \"white\", \"linecolor\": \"white\", \"ticks\": \"\"}}, \"title\": {\"x\": 0.05}, \"xaxis\": {\"automargin\": true, \"gridcolor\": \"white\", \"linecolor\": \"white\", \"ticks\": \"\", \"title\": {\"standoff\": 15}, \"zerolinecolor\": \"white\", \"zerolinewidth\": 2}, \"yaxis\": {\"automargin\": true, \"gridcolor\": \"white\", \"linecolor\": \"white\", \"ticks\": \"\", \"title\": {\"standoff\": 15}, \"zerolinecolor\": \"white\", \"zerolinewidth\": 2}}}, \"title\": {\"text\": \"Paridade USD X Moedas em 05/05/2020 (fonte xe.com)\"}, \"width\": 400, \"xaxis\": {\"visible\": false}, \"yaxis\": {\"visible\": false}},\n",
       "                        {\"responsive\": true}\n",
       "                    ).then(function(){\n",
       "                            \n",
       "var gd = document.getElementById('2ae1b965-98a7-402f-9501-f89f94a635c7');\n",
       "var x = new MutationObserver(function (mutations, observer) {{\n",
       "        var display = window.getComputedStyle(gd).display;\n",
       "        if (!display || display === 'none') {{\n",
       "            console.log([gd, 'removed!']);\n",
       "            Plotly.purge(gd);\n",
       "            observer.disconnect();\n",
       "        }}\n",
       "}});\n",
       "\n",
       "// Listen for the removal of the full notebook cells\n",
       "var notebookContainer = gd.closest('#notebook-container');\n",
       "if (notebookContainer) {{\n",
       "    x.observe(notebookContainer, {childList: true});\n",
       "}}\n",
       "\n",
       "// Listen for the clearing of the current output cell\n",
       "var outputEl = gd.closest('.output');\n",
       "if (outputEl) {{\n",
       "    x.observe(outputEl, {childList: true});\n",
       "}}\n",
       "\n",
       "                        })\n",
       "                };\n",
       "                });\n",
       "            </script>\n",
       "        </div>"
      ]
     },
     "metadata": {},
     "output_type": "display_data"
    }
   ],
   "source": [
    "ideograms = []\n",
    "for k in range(len(ideo_ends)):\n",
    "    z =  make_ideogram_arc(1.1, ideo_ends[k])\n",
    "    zi = make_ideogram_arc(1.0, ideo_ends[k])\n",
    "    m = len(z)\n",
    "    n = len(zi)\n",
    "    ideograms.append(go.Scatter(x=z.real,\n",
    "                                y=z.imag,\n",
    "                                mode='lines',\n",
    "                                line=dict(color=ideo_colors[k], shape='spline', width=0.25),\n",
    "                                text=f'{labels[k]} <br>{int(row_sum[k])} comments', \n",
    "                                hoverinfo='text'\n",
    "                             )\n",
    "                     )\n",
    "    \n",
    "       \n",
    "    path = 'M '\n",
    "    for s in range(m):\n",
    "        path += f'{z.real[s]}, {z.imag[s]} L '\n",
    "        \n",
    "    Zi = np.array(zi.tolist()[::-1]) \n",
    "\n",
    "    for s in range(m):\n",
    "        path += f'{Zi.real[s]}, {Zi.imag[s]} L '\n",
    "    path += f'{z.real[0]} ,{z.imag[0]}' \n",
    "   \n",
    "    shapes.append(make_ideo_shape(path,'rgb(150,150,150)' , ideo_colors[k]))\n",
    "    \n",
    "    \n",
    "\n",
    "data = ideograms + ribbon_info\n",
    "layout['shapes'] = shapes\n",
    "fig = go.Figure(data=data, layout=layout)\n",
    "from plotly.offline import download_plotlyjs, init_notebook_mode,  iplot, plot\n",
    "init_notebook_mode(connected=True)\n",
    "iplot(fig)"
   ]
  },
  {
   "cell_type": "code",
   "execution_count": null,
   "metadata": {},
   "outputs": [],
   "source": []
  }
 ],
 "metadata": {
  "kernelspec": {
   "display_name": "Python 3",
   "language": "python",
   "name": "python3"
  },
  "language_info": {
   "codemirror_mode": {
    "name": "ipython",
    "version": 3
   },
   "file_extension": ".py",
   "mimetype": "text/x-python",
   "name": "python",
   "nbconvert_exporter": "python",
   "pygments_lexer": "ipython3",
   "version": "3.7.4"
  }
 },
 "nbformat": 4,
 "nbformat_minor": 4
}
