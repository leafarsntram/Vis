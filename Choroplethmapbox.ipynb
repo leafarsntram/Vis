{
 "cells": [
  {
   "cell_type": "code",
   "execution_count": 1,
   "metadata": {},
   "outputs": [],
   "source": [
    "import plotly\n",
    "import numpy as np\n",
    "import json\n",
    "import plotly.graph_objs as go\n",
    "import urllib.request\n",
    "import pandas as pd"
   ]
  },
  {
   "cell_type": "code",
   "execution_count": 2,
   "metadata": {},
   "outputs": [],
   "source": [
    "#lendo e decodificando geojson\n",
    "url = 'https://raw.githubusercontent.com/datalivre/Conjunto-de-Dados/master/br_states.json'\n",
    "\n",
    "with urllib.request.urlopen(url) as url:\n",
    "    jdata = json.loads(url.read().decode())\n",
    "    #print(jdata.keys())"
   ]
  },
  {
   "cell_type": "code",
   "execution_count": 3,
   "metadata": {},
   "outputs": [
    {
     "data": {
      "text/plain": [
       "dict_keys(['type', 'id', 'properties', 'geometry'])"
      ]
     },
     "execution_count": 3,
     "metadata": {},
     "output_type": "execute_result"
    }
   ],
   "source": [
    "L = len(jdata['features'])\n",
    "\n",
    "jdata['features'][0].keys()"
   ]
  },
  {
   "cell_type": "code",
   "execution_count": 4,
   "metadata": {},
   "outputs": [],
   "source": [
    "for k in range(L):\n",
    "    jdata['features'][k]['id'] = f'{k}'\n",
    "    "
   ]
  },
  {
   "cell_type": "code",
   "execution_count": 5,
   "metadata": {},
   "outputs": [],
   "source": [
    "#selecionando estados\n",
    "estados = []\n",
    "for feat   in jdata['features']:\n",
    "    estados.append(feat['properties']['name'])\n"
   ]
  },
  {
   "cell_type": "code",
   "execution_count": 6,
   "metadata": {},
   "outputs": [],
   "source": [
    "k=5\n",
    "jdata['features'][k]['id']\n",
    "L=27"
   ]
  },
  {
   "cell_type": "code",
   "execution_count": 7,
   "metadata": {},
   "outputs": [],
   "source": [
    "#https://seriesestatisticas.ibge.gov.br/series.aspx?no=2&op=1&vcodigo=PP01&t=vacas-ordenhadas\n",
    "#importando dados  \n",
    "vacas = pd.read_csv(r'https://raw.githubusercontent.com/leafarsntram/Vis/master/data/series_vaca.csv', delimiter=';')"
   ]
  },
  {
   "cell_type": "code",
   "execution_count": 8,
   "metadata": {},
   "outputs": [],
   "source": [
    "years = ['2010','2011','2012','2013','2014','2015','2016']    \n",
    "data = []    \n",
    "    \n",
    "\n",
    "for q in years:\n",
    "    data.append( go.Choroplethmapbox(locations = [jdata['features'][k]['id'] for k in range(L)],\n",
    "                                     z = [np.array(row[1][1:]) for row in vacas.iterrows()],#np.random.randint(3, 75,  size=L), #synthetic data\n",
    "                                     colorscale = 'bluered',\n",
    "                                     text = estados, \n",
    "                                     colorbar = dict(thickness=20, ticklen=3),\n",
    "                                     geojson = jdata,\n",
    "                                     marker_line_width=0, marker_opacity=0.7,\n",
    "                                     visible=False))\n",
    "data[0]['visible'] = True"
   ]
  },
  {
   "cell_type": "code",
   "execution_count": null,
   "metadata": {},
   "outputs": [],
   "source": [
    "layout = go.Layout(width = 500, height=500,\n",
    "                  mapbox = dict(center= dict(lat=-16, lon= -50),\n",
    "                                accesstoken=\"pk.eyJ1IjoiZmFyYWVsc2FsZXMiLCJhIjoiY2s5bmprZzAyMDF6ODNmbDJ5ZTV5a2VxMyJ9.BenQTMz-DfgEGAgiQ3NgUQ\",\n",
    "                                zoom=3))\n",
    "layout.update(updatemenus=list([\n",
    "        dict(\n",
    "            x=-0.05,\n",
    "            y=1,\n",
    "            yanchor='top',\n",
    "            buttons=list([\n",
    "                dict(\n",
    "                    args=['visible', [True, False, False, False,False,False,False]],\n",
    "                    label='Year: 2010',\n",
    "                    method='restyle'\n",
    "                ),\n",
    "                dict(\n",
    "                    args=['visible', [False, True, False, False,False,False,False]],\n",
    "                    label='Year: 2011',\n",
    "                    method='restyle'\n",
    "                ),\n",
    "                dict(\n",
    "                    args=['visible', [False, False, True, False,False,False,False]],\n",
    "                    label='Year: 2012',\n",
    "                    method='restyle'\n",
    "                ),\n",
    "                dict(\n",
    "                    args=['visible', [False, False, False, True,False,False,False]],\n",
    "                    label='Year: 2013',\n",
    "                    method='restyle'\n",
    "                ),\n",
    "                dict(\n",
    "                    args=['visible', [False, False, False, False,True,False,False]],\n",
    "                    label='Year: 2014',\n",
    "                    method='restyle'\n",
    "                ),\n",
    "                dict(\n",
    "                    args=['visible', [False, False, False, False,False,True,False]],\n",
    "                    label='Year: 2015',\n",
    "                    method='restyle'\n",
    "                ),\n",
    "                dict(\n",
    "                    args=['visible', [False, False, False, False,False,False,True]],\n",
    "                    label='Year: 2016',\n",
    "                    method='restyle'\n",
    "                )\n",
    "            ]),\n",
    "        )]))\n",
    "fig=go.Figure(data=data, layout =layout)\n",
    "fig.show()"
   ]
  }
 ],
 "metadata": {
  "kernelspec": {
   "display_name": "Python 3",
   "language": "python",
   "name": "python3"
  },
  "language_info": {
   "codemirror_mode": {
    "name": "ipython",
    "version": 3
   },
   "file_extension": ".py",
   "mimetype": "text/x-python",
   "name": "python",
   "nbconvert_exporter": "python",
   "pygments_lexer": "ipython3",
   "version": "3.7.4"
  }
 },
 "nbformat": 4,
 "nbformat_minor": 4
}
