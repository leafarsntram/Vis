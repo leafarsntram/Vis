#import folium
#import pandas as pd

url = 'https://raw.githubusercontent.com/datalivre/Conjunto-de-Dados/master'
state_geo = f'{url}/br_states.json'

PIB_data = pd.read_csv(r'C:\Users\Sophia\Documents\Mack\VINF\pib1.csv', delimiter=',')
PIB_data.rename(columns={
    'UF': 'id'}, inplace=True)

m = folium.Map([-15, -55], zoom_start=4)

choropleth = folium.Choropleth(
    geo_data=state_geo,
    name='choropleth',
    bins=8,
    data=PIB_data,
    columns=['id', 'PIB'],
    key_on='feature.id',
    fill_color='BuGn',
    nan_fill_color='red',
    fill_opacity=0.5,
    line_opacity=0.2,
    legend_name='PIB contribuicao % por UF em 2017',
    highlight=True,
    line_color='black'
    ,tooltip=folium.features.GeoJsonTooltip(['id'])
).add_to(m)

folium.LayerControl(collapsed=True).add_to(m)
m
